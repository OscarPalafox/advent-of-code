{
 "cells": [
  {
   "cell_type": "markdown",
   "metadata": {},
   "source": [
    "# Q1"
   ]
  },
  {
   "cell_type": "code",
   "execution_count": 1,
   "metadata": {},
   "outputs": [
    {
     "name": "stderr",
     "output_type": "stream",
     "text": [
      "100%|██████████| 25/25 [02:22<00:00,  5.70s/it] \n"
     ]
    },
    {
     "data": {
      "text/plain": [
       "222461"
      ]
     },
     "execution_count": 1,
     "metadata": {},
     "output_type": "execute_result"
    }
   ],
   "source": [
    "import tqdm\n",
    "\n",
    "with open(\"Day 11.txt\") as f:\n",
    "    stones = [int(s) for s in f.readline().strip().split()]\n",
    "\n",
    "for _ in tqdm.tqdm(range(25)):\n",
    "    i = 0\n",
    "    while i < len(stones):\n",
    "        s = stones[i]\n",
    "        if not s:\n",
    "            stones[i] = 1\n",
    "        elif not (digits := len(s_str := str(s))) % 2:\n",
    "            stones = (\n",
    "                stones[:i]\n",
    "                + [int(s_str[: digits // 2]), int(s_str[digits // 2 :])]\n",
    "                + stones[i + 1 :]\n",
    "            )\n",
    "            i += 1\n",
    "        else:\n",
    "            stones[i] *= 2024\n",
    "\n",
    "        i += 1\n",
    "\n",
    "len(stones)"
   ]
  },
  {
   "cell_type": "markdown",
   "metadata": {},
   "source": [
    "# Q2"
   ]
  },
  {
   "cell_type": "code",
   "execution_count": 48,
   "metadata": {},
   "outputs": [
    {
     "data": {
      "text/plain": [
       "264350935776416"
      ]
     },
     "execution_count": 48,
     "metadata": {},
     "output_type": "execute_result"
    }
   ],
   "source": [
    "import collections\n",
    "\n",
    "with open(\"Day 11.txt\") as f:\n",
    "    stones = {int(s): 1 for s in f.readline().strip().split()}\n",
    "\n",
    "\n",
    "for step in range(75):\n",
    "    stones_new = collections.defaultdict(int)\n",
    "\n",
    "    for s, i in stones.items():\n",
    "        if not s:\n",
    "            stones_new[1] += i\n",
    "        elif not (digits := len(s_str := str(s))) % 2:\n",
    "            a = int(s_str[: digits // 2])\n",
    "            b = int(s_str[digits // 2 :])\n",
    "\n",
    "            stones_new[a] += i\n",
    "            stones_new[b] += i\n",
    "        else:\n",
    "            stones_new[s * 2024] += i\n",
    "\n",
    "    stones = stones_new\n",
    "\n",
    "sum(stones.values())"
   ]
  }
 ],
 "metadata": {
  "kernelspec": {
   "display_name": "Python 3",
   "language": "python",
   "name": "python3"
  },
  "language_info": {
   "codemirror_mode": {
    "name": "ipython",
    "version": 3
   },
   "file_extension": ".py",
   "mimetype": "text/x-python",
   "name": "python",
   "nbconvert_exporter": "python",
   "pygments_lexer": "ipython3",
   "version": "3.11.8"
  },
  "orig_nbformat": 4
 },
 "nbformat": 4,
 "nbformat_minor": 2
}
