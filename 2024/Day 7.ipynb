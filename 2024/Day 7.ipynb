{
 "cells": [
  {
   "cell_type": "markdown",
   "metadata": {},
   "source": [
    "# Q1"
   ]
  },
  {
   "cell_type": "code",
   "execution_count": null,
   "metadata": {},
   "outputs": [
    {
     "data": {
      "text/plain": [
       "4122618559853"
      ]
     },
     "execution_count": 16,
     "metadata": {},
     "output_type": "execute_result"
    }
   ],
   "source": [
    "import itertools\n",
    "import operator\n",
    "\n",
    "with open(\"Day 7.txt\") as f:\n",
    "    computable = 0\n",
    "\n",
    "    while line := f.readline().strip():\n",
    "        res, nums = line.split(\":\")\n",
    "        res = int(res)\n",
    "        nums = [int(num) for num in nums.split()]\n",
    "\n",
    "        possibilities = itertools.product(\n",
    "            [operator.add, operator.mul], repeat=len(nums) - 1\n",
    "        )\n",
    "\n",
    "        for poss in possibilities:\n",
    "            curr_res = nums[0]\n",
    "\n",
    "            for i, n in enumerate(nums[1:]):\n",
    "                curr_res = poss[i](curr_res, n)\n",
    "\n",
    "                if curr_res > res:\n",
    "                    break\n",
    "            else:\n",
    "                if curr_res == res:\n",
    "                    computable += curr_res\n",
    "                    break\n",
    "\n",
    "computable"
   ]
  },
  {
   "cell_type": "markdown",
   "metadata": {},
   "source": [
    "# Q2"
   ]
  },
  {
   "cell_type": "code",
   "execution_count": null,
   "metadata": {},
   "outputs": [
    {
     "data": {
      "text/plain": [
       "227615740238334"
      ]
     },
     "execution_count": 30,
     "metadata": {},
     "output_type": "execute_result"
    }
   ],
   "source": [
    "import itertools\n",
    "import operator\n",
    "import math\n",
    "\n",
    "with open(\"Day 7.txt\") as f:\n",
    "    computable = 0\n",
    "\n",
    "    while line := f.readline().strip():\n",
    "        res, nums = line.split(\":\")\n",
    "        res = int(res)\n",
    "        nums = [int(num) for num in nums.split()]\n",
    "        possibilities = itertools.product(\n",
    "            [\n",
    "                operator.add,\n",
    "                operator.mul,\n",
    "                lambda x, y: x * 10 ** int(math.log10(y) + 1) + y,\n",
    "            ],\n",
    "            repeat=len(nums) - 1,\n",
    "        )\n",
    "\n",
    "        for poss in possibilities:\n",
    "            curr_res = nums[0]\n",
    "\n",
    "            for i, n in enumerate(nums[1:]):\n",
    "                curr_res = poss[i](curr_res, n)\n",
    "\n",
    "                if curr_res > res:\n",
    "                    break\n",
    "            else:\n",
    "                if curr_res == res:\n",
    "                    computable += curr_res\n",
    "                    break\n",
    "\n",
    "computable"
   ]
  }
 ],
 "metadata": {
  "kernelspec": {
   "display_name": "Python 3",
   "language": "python",
   "name": "python3"
  },
  "language_info": {
   "codemirror_mode": {
    "name": "ipython",
    "version": 3
   },
   "file_extension": ".py",
   "mimetype": "text/x-python",
   "name": "python",
   "nbconvert_exporter": "python",
   "pygments_lexer": "ipython3",
   "version": "3.11.8"
  },
  "orig_nbformat": 4
 },
 "nbformat": 4,
 "nbformat_minor": 2
}
