{
 "cells": [
  {
   "cell_type": "markdown",
   "metadata": {},
   "source": [
    "# Q1"
   ]
  },
  {
   "cell_type": "code",
   "execution_count": 1,
   "metadata": {},
   "outputs": [
    {
     "data": {
      "text/plain": [
       "189527826"
      ]
     },
     "execution_count": 1,
     "metadata": {},
     "output_type": "execute_result"
    }
   ],
   "source": [
    "import re\n",
    "\n",
    "with open(\"Day 3.txt\") as f:\n",
    "    res = 0\n",
    "    while line := f.readline():\n",
    "        res += sum(\n",
    "            int(i) * int(j)\n",
    "            for mul in re.findall(r\"mul\\(\\d*,\\d*\\)\", line)\n",
    "            for i, j in [re.findall(r\"\\d*,\\d*\", mul)[0].split(\",\")]\n",
    "        )\n",
    "\n",
    "res"
   ]
  },
  {
   "cell_type": "markdown",
   "metadata": {},
   "source": [
    "# Q2"
   ]
  },
  {
   "cell_type": "code",
   "execution_count": 2,
   "metadata": {},
   "outputs": [
    {
     "data": {
      "text/plain": [
       "63013756"
      ]
     },
     "execution_count": 2,
     "metadata": {},
     "output_type": "execute_result"
    }
   ],
   "source": [
    "import re\n",
    "\n",
    "with open(\"Day 3.txt\") as f:\n",
    "    res = 0\n",
    "    enabled = True\n",
    "    while line := f.readline():\n",
    "        for op in re.findall(r\"(mul\\([0-9]*,[0-9]*\\)|don't\\(\\)|do\\(\\))\", line):\n",
    "            if \"don't\" in op:\n",
    "                enabled = False\n",
    "            elif \"do\" in op:\n",
    "                enabled = True\n",
    "\n",
    "            nums = re.findall(r\"\\d*,\\d*\", op)\n",
    "\n",
    "            if enabled and nums:\n",
    "                i, j = nums[0].split(\",\")\n",
    "                res += int(i) * int(j)\n",
    "\n",
    "res"
   ]
  }
 ],
 "metadata": {
  "kernelspec": {
   "display_name": "Python 3",
   "language": "python",
   "name": "python3"
  },
  "language_info": {
   "codemirror_mode": {
    "name": "ipython",
    "version": 3
   },
   "file_extension": ".py",
   "mimetype": "text/x-python",
   "name": "python",
   "nbconvert_exporter": "python",
   "pygments_lexer": "ipython3",
   "version": "3.11.8"
  },
  "orig_nbformat": 4
 },
 "nbformat": 4,
 "nbformat_minor": 2
}
