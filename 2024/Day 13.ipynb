{
 "cells": [
  {
   "cell_type": "markdown",
   "metadata": {},
   "source": [
    "# Q1"
   ]
  },
  {
   "cell_type": "code",
   "execution_count": 13,
   "metadata": {},
   "outputs": [
    {
     "name": "stdout",
     "output_type": "stream",
     "text": [
      "39996\n"
     ]
    }
   ],
   "source": [
    "import re\n",
    "\n",
    "\n",
    "with open(\"Day 13.txt\") as f:\n",
    "    tokens = 0\n",
    "    while line := f.readline():\n",
    "        l1 = line.strip()\n",
    "        l2 = f.readline().strip()\n",
    "        l3 = f.readline().strip()\n",
    "        f.readline()\n",
    "\n",
    "        a_x, a_y = [int(v) for v in re.findall(r\"\\d*\", l1) if v]\n",
    "        b_x, b_y = [int(v) for v in re.findall(r\"\\d*\", l2) if v]\n",
    "        p_x, p_y = [int(v) for v in re.findall(r\"\\d*\", l3) if v]\n",
    "\n",
    "\n",
    "        for a in range(100):\n",
    "            for b in range(100):\n",
    "                if a * a_x + b * b_x == p_x and a * a_y + b * b_y == p_y:\n",
    "                    tokens += 3 * a + b\n",
    "tokens"
   ]
  },
  {
   "cell_type": "markdown",
   "metadata": {},
   "source": [
    "# Q2"
   ]
  },
  {
   "cell_type": "code",
   "execution_count": 1,
   "metadata": {},
   "outputs": [
    {
     "data": {
      "text/plain": [
       "73267584326867"
      ]
     },
     "execution_count": 1,
     "metadata": {},
     "output_type": "execute_result"
    }
   ],
   "source": [
    "import re\n",
    "\n",
    "with open(\"Day 13.txt\") as f:\n",
    "    tokens = 0\n",
    "    while line := f.readline():\n",
    "        l1 = line.strip()\n",
    "        l2 = f.readline().strip()\n",
    "        l3 = f.readline().strip()\n",
    "        f.readline()\n",
    "\n",
    "        a_x, a_y = [int(v) for v in re.findall(r\"\\d*\", l1) if v]\n",
    "        b_x, b_y = [int(v) for v in re.findall(r\"\\d*\", l2) if v]\n",
    "        p_x, p_y = [\n",
    "            10000000000000 + int(v) for v in re.findall(r\"\\d*\", l3) if v\n",
    "        ]\n",
    "\n",
    "        a = (p_x * b_y - p_y * b_x) / (a_x * b_y - a_y * b_x)\n",
    "        b = (a_x * p_y - a_y * p_x) / (a_x * b_y - a_y * b_x)\n",
    "\n",
    "        if a.is_integer() and b.is_integer():\n",
    "            tokens += int(3*a + b)\n",
    "\n",
    "tokens"
   ]
  }
 ],
 "metadata": {
  "kernelspec": {
   "display_name": "Python 3",
   "language": "python",
   "name": "python3"
  },
  "language_info": {
   "codemirror_mode": {
    "name": "ipython",
    "version": 3
   },
   "file_extension": ".py",
   "mimetype": "text/x-python",
   "name": "python",
   "nbconvert_exporter": "python",
   "pygments_lexer": "ipython3",
   "version": "3.11.8"
  },
  "orig_nbformat": 4
 },
 "nbformat": 4,
 "nbformat_minor": 2
}
