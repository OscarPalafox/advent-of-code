{
 "cells": [
  {
   "cell_type": "markdown",
   "metadata": {},
   "source": [
    "# Q1"
   ]
  },
  {
   "cell_type": "code",
   "execution_count": 3,
   "metadata": {},
   "outputs": [
    {
     "data": {
      "text/plain": [
       "1387004"
      ]
     },
     "execution_count": 3,
     "metadata": {},
     "output_type": "execute_result"
    }
   ],
   "source": [
    "import collections\n",
    "\n",
    "\n",
    "def get_neighbours(i: int, j: int) -> list[tuple[int, int]]:\n",
    "    return [(i - 1, j), (i, j + 1), (i + 1, j), (i, j - 1)]\n",
    "\n",
    "\n",
    "plants = collections.defaultdict(lambda: \"-\")\n",
    "with open(\"Day 12.txt\") as f:\n",
    "    i = 0\n",
    "    while line := f.readline().strip():\n",
    "        for j, c in enumerate(line):\n",
    "            plants[(i, j)] = c\n",
    "\n",
    "        i += 1\n",
    "\n",
    "price = 0\n",
    "nodes = set(plants.keys())\n",
    "while nodes:\n",
    "    x = nodes.pop()\n",
    "    to_visit = {x}\n",
    "    visited = {x}\n",
    "\n",
    "    while to_visit:\n",
    "        i, j = to_visit.pop()\n",
    "\n",
    "        next_candidates = {\n",
    "            (k, l)\n",
    "            for k, l in get_neighbours(i, j)\n",
    "            if plants[(k, l)] == plants[(i, j)]\n",
    "        }\n",
    "        visited.add((i, j))\n",
    "        to_visit |= next_candidates - visited\n",
    "        nodes -= next_candidates\n",
    "\n",
    "    fences = 0\n",
    "    for i, j in visited:\n",
    "        fences += 4 - sum(\n",
    "            [\n",
    "                1\n",
    "                for k, l in get_neighbours(i, j)\n",
    "                if plants[(k, l)] == plants[(i, j)]\n",
    "            ]\n",
    "        )\n",
    "\n",
    "    price += fences * len(visited)\n",
    "\n",
    "price"
   ]
  },
  {
   "cell_type": "markdown",
   "metadata": {},
   "source": [
    "# Q2"
   ]
  },
  {
   "cell_type": "code",
   "execution_count": 1,
   "metadata": {},
   "outputs": [
    {
     "data": {
      "text/plain": [
       "844198"
      ]
     },
     "execution_count": 1,
     "metadata": {},
     "output_type": "execute_result"
    }
   ],
   "source": [
    "import collections\n",
    "\n",
    "\n",
    "def get_neighbours(i: int, j: int) -> list[tuple[int, int]]:\n",
    "    return [(i - 1, j), (i, j + 1), (i + 1, j), (i, j - 1)]\n",
    "\n",
    "\n",
    "plants = collections.defaultdict(lambda: \"-\")\n",
    "with open(\"Day 12.txt\") as f:\n",
    "    i = 0\n",
    "    while line := f.readline().strip():\n",
    "        for j, c in enumerate(line):\n",
    "            plants[(i, j)] = c\n",
    "\n",
    "        i += 1\n",
    "\n",
    "price = 0\n",
    "nodes = set(plants.keys())\n",
    "while nodes:\n",
    "    x = nodes.pop()\n",
    "    to_visit = {x}\n",
    "    visited = {x}\n",
    "    north = set()\n",
    "    east = set()\n",
    "    south = set()\n",
    "    west = set()\n",
    "\n",
    "    while to_visit:\n",
    "        i, j = to_visit.pop()\n",
    "        p = plants[(i, j)]\n",
    "        neighbours = get_neighbours(i, j)\n",
    "\n",
    "        for (k, l), f in zip(neighbours, [north, east, south, west]):\n",
    "            if plants[(k, l)] != plants[(i, j)]:\n",
    "                f.add((i, j))\n",
    "\n",
    "        next_candidates = {\n",
    "            (k, l) for k, l in neighbours if plants[(k, l)] == plants[(i, j)]\n",
    "        }\n",
    "        visited.add((i, j))\n",
    "        to_visit |= next_candidates - visited\n",
    "        nodes -= next_candidates\n",
    "\n",
    "    sides = 0\n",
    "\n",
    "    groups = 1\n",
    "    s_north = sorted(north)\n",
    "    (i, j) = s_north.pop()\n",
    "    while s_north:\n",
    "        k, l = s_north.pop()\n",
    "\n",
    "        if j - 1 != l or i != k:\n",
    "            groups += 1\n",
    "\n",
    "        i, j = k, l\n",
    "    sides += groups\n",
    "\n",
    "    groups = 1\n",
    "    s_east = sorted(east, key=lambda x: (x[1], x[0]))\n",
    "    (i, j) = s_east.pop()\n",
    "    while s_east:\n",
    "        k, l = s_east.pop()\n",
    "\n",
    "        if i - 1 != k or j != l:\n",
    "            groups += 1\n",
    "\n",
    "        i, j = k, l\n",
    "    sides += groups\n",
    "\n",
    "    groups = 1\n",
    "    s_south = sorted(south)\n",
    "    (i, j) = s_south.pop()\n",
    "    while s_south:\n",
    "        k, l = s_south.pop()\n",
    "\n",
    "        if j - 1 != l or i != k:\n",
    "            groups += 1\n",
    "\n",
    "        i, j = k, l\n",
    "    sides += groups\n",
    "\n",
    "    groups = 1\n",
    "    s_west = sorted(west, key=lambda x: (x[1], x[0]))\n",
    "    (i, j) = s_west.pop()\n",
    "    while s_west:\n",
    "        k, l = s_west.pop()\n",
    "\n",
    "        if i - 1 != k or j != l:\n",
    "            groups += 1\n",
    "\n",
    "        i, j = k, l\n",
    "    sides += groups\n",
    "\n",
    "    price += sides * len(visited)\n",
    "\n",
    "price"
   ]
  }
 ],
 "metadata": {
  "kernelspec": {
   "display_name": "Python 3",
   "language": "python",
   "name": "python3"
  },
  "language_info": {
   "codemirror_mode": {
    "name": "ipython",
    "version": 3
   },
   "file_extension": ".py",
   "mimetype": "text/x-python",
   "name": "python",
   "nbconvert_exporter": "python",
   "pygments_lexer": "ipython3",
   "version": "3.11.8"
  },
  "orig_nbformat": 4
 },
 "nbformat": 4,
 "nbformat_minor": 2
}
