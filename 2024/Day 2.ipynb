{
 "cells": [
  {
   "cell_type": "markdown",
   "metadata": {},
   "source": [
    "# Q1"
   ]
  },
  {
   "cell_type": "code",
   "execution_count": 1,
   "metadata": {},
   "outputs": [
    {
     "data": {
      "text/plain": [
       "442"
      ]
     },
     "execution_count": 1,
     "metadata": {},
     "output_type": "execute_result"
    }
   ],
   "source": [
    "with open(\"Day 2.txt\") as f:\n",
    "    safe = 0\n",
    "\n",
    "    while line := f.readline():\n",
    "        level = [int(r) for r in line.strip().split()]\n",
    "\n",
    "        sign = 0\n",
    "        was_safe = True\n",
    "\n",
    "        for r, r_n in zip(level[:-1], level[1:]):\n",
    "            diff = r - r_n\n",
    "\n",
    "            if abs(diff) < 1 or abs(diff) > 3:\n",
    "                was_safe = False\n",
    "                break\n",
    "\n",
    "            diff_sign = 1 if diff < 0 else -1\n",
    "\n",
    "            if not sign:\n",
    "                sign = diff_sign\n",
    "            else:\n",
    "                if sign != diff_sign:\n",
    "                    was_safe = False\n",
    "                    break\n",
    "\n",
    "        safe += int(was_safe)\n",
    "\n",
    "safe"
   ]
  },
  {
   "cell_type": "markdown",
   "metadata": {},
   "source": [
    "# Q2"
   ]
  },
  {
   "cell_type": "code",
   "execution_count": 2,
   "metadata": {},
   "outputs": [
    {
     "data": {
      "text/plain": [
       "493"
      ]
     },
     "execution_count": 2,
     "metadata": {},
     "output_type": "execute_result"
    }
   ],
   "source": [
    "with open(\"Day 2.txt\") as f:\n",
    "    safe = 0\n",
    "\n",
    "    while line := f.readline():\n",
    "        level = [int(r) for r in line.strip().split()]\n",
    "        levels = [level[:i] + level[i + 1:] for i in range(len(level))]\n",
    "\n",
    "        for l in levels:\n",
    "            sign = 0\n",
    "            was_safe = True\n",
    "\n",
    "            for r, r_n in zip(l[:-1], l[1:]):\n",
    "                diff = r - r_n\n",
    "\n",
    "                if abs(diff) < 1 or abs(diff) > 3:\n",
    "                    was_safe = False\n",
    "                    break\n",
    "\n",
    "                diff_sign = 1 if diff < 0 else -1\n",
    "\n",
    "                if not sign:\n",
    "                    sign = diff_sign\n",
    "                else:\n",
    "                    if sign != diff_sign:\n",
    "                        was_safe = False\n",
    "                        break\n",
    "            else:\n",
    "                safe += 1\n",
    "                break\n",
    "\n",
    "safe"
   ]
  }
 ],
 "metadata": {
  "kernelspec": {
   "display_name": "Python 3",
   "language": "python",
   "name": "python3"
  },
  "language_info": {
   "codemirror_mode": {
    "name": "ipython",
    "version": 3
   },
   "file_extension": ".py",
   "mimetype": "text/x-python",
   "name": "python",
   "nbconvert_exporter": "python",
   "pygments_lexer": "ipython3",
   "version": "3.11.8"
  },
  "orig_nbformat": 4
 },
 "nbformat": 4,
 "nbformat_minor": 2
}
