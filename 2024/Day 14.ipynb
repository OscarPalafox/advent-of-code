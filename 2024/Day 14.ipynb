{
 "cells": [
  {
   "cell_type": "markdown",
   "metadata": {},
   "source": [
    "# Q1"
   ]
  },
  {
   "cell_type": "code",
   "execution_count": 64,
   "metadata": {},
   "outputs": [
    {
     "data": {
      "text/plain": [
       "211692000"
      ]
     },
     "execution_count": 64,
     "metadata": {},
     "output_type": "execute_result"
    }
   ],
   "source": [
    "import re\n",
    "import math\n",
    "\n",
    "BOX_X = 103\n",
    "BOX_Y = 101\n",
    "\n",
    "poss = {}\n",
    "speeds = {}\n",
    "with open(\"Day 14.txt\") as f:\n",
    "    i = 1\n",
    "    while line := f.readline().strip():\n",
    "        p_y, p_x, v_y, v_x = [\n",
    "            int(y)\n",
    "            for x in re.sub(r\"[=pv]\", \"\", line).split()\n",
    "            for y in x.split(\",\")\n",
    "        ]\n",
    "\n",
    "        poss[i] = (p_x, p_y)\n",
    "        speeds[i] = (v_x, v_y)\n",
    "\n",
    "        i += 1\n",
    "\n",
    "for _ in range(100):\n",
    "    for r, (i, j) in poss.items():\n",
    "        v_x, v_y = speeds[r]\n",
    "        poss[r] = ((i + v_x) % BOX_X, (j + v_y) % BOX_Y)\n",
    "\n",
    "locs = [[], [], [], []]\n",
    "for p, (i, j) in poss.items():\n",
    "    mid_x = BOX_X // 2\n",
    "    mid_y = BOX_Y // 2\n",
    "\n",
    "    if i == mid_x or j == mid_y:\n",
    "        continue\n",
    "\n",
    "    idx = 0\n",
    "\n",
    "    if i < mid_x:\n",
    "        if j < mid_y:\n",
    "            idx = 0\n",
    "        else:\n",
    "            idx = 1\n",
    "    else:\n",
    "        if j < mid_y:\n",
    "            idx = 2\n",
    "        else:\n",
    "            idx = 3\n",
    "\n",
    "    locs[idx].append((i, j))\n",
    "\n",
    "math.prod(len(q) for q in locs)"
   ]
  },
  {
   "cell_type": "markdown",
   "metadata": {},
   "source": [
    "# Q2"
   ]
  },
  {
   "cell_type": "code",
   "execution_count": 21,
   "metadata": {},
   "outputs": [
    {
     "name": "stderr",
     "output_type": "stream",
     "text": [
      "100%|██████████| 9999/9999 [00:16<00:00, 616.15it/s]\n"
     ]
    },
    {
     "data": {
      "text/plain": [
       "6587"
      ]
     },
     "execution_count": 21,
     "metadata": {},
     "output_type": "execute_result"
    }
   ],
   "source": [
    "import re\n",
    "import tqdm\n",
    "\n",
    "\n",
    "def get_neighbours(i: int, j: int) -> set[tuple[int, int]]:\n",
    "    return {\n",
    "        (i - 1, j),\n",
    "        (i - 1, j + 1),\n",
    "        (i, j + 1),\n",
    "        (i + 1, j + 1),\n",
    "        (i + 1, j),\n",
    "        (i + 1, j - 1),\n",
    "        (i, j - 1),\n",
    "        (i - 1, j - 1),\n",
    "    }\n",
    "\n",
    "\n",
    "BOX_X = 103\n",
    "BOX_Y = 101\n",
    "\n",
    "poss = {}\n",
    "speeds = {}\n",
    "with open(\"Day 14.txt\") as f:\n",
    "    i = 1\n",
    "    while line := f.readline().strip():\n",
    "        p_y, p_x, v_y, v_x = [\n",
    "            int(y)\n",
    "            for x in re.sub(r\"[=pv]\", \"\", line).split()\n",
    "            for y in x.split(\",\")\n",
    "        ]\n",
    "\n",
    "        poss[i] = (p_x, p_y)\n",
    "        speeds[i] = (v_x, v_y)\n",
    "\n",
    "        i += 1\n",
    "\n",
    "max_clustered = 0\n",
    "max_second = 0\n",
    "\n",
    "for x in tqdm.trange(1, 10000):\n",
    "    for r, (i, j) in poss.items():\n",
    "        v_x, v_y = speeds[r]\n",
    "        poss[r] = ((i + v_x) % BOX_X, (j + v_y) % BOX_Y)\n",
    "\n",
    "    robots_poss = set(poss.values())\n",
    "    cluster = sum(\n",
    "        len(robots_poss.intersection(get_neighbours(i, j)))\n",
    "        for (i, j) in robots_poss\n",
    "    )\n",
    "\n",
    "    if cluster > max_clustered:\n",
    "        max_clustered = cluster\n",
    "        max_second = x\n",
    "\n",
    "max_second"
   ]
  }
 ],
 "metadata": {
  "kernelspec": {
   "display_name": "Python 3",
   "language": "python",
   "name": "python3"
  },
  "language_info": {
   "codemirror_mode": {
    "name": "ipython",
    "version": 3
   },
   "file_extension": ".py",
   "mimetype": "text/x-python",
   "name": "python",
   "nbconvert_exporter": "python",
   "pygments_lexer": "ipython3",
   "version": "3.11.8"
  },
  "orig_nbformat": 4
 },
 "nbformat": 4,
 "nbformat_minor": 2
}
