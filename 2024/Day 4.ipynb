{
 "cells": [
  {
   "cell_type": "markdown",
   "metadata": {},
   "source": [
    "# Q1"
   ]
  },
  {
   "cell_type": "code",
   "execution_count": null,
   "metadata": {},
   "outputs": [
    {
     "data": {
      "text/plain": [
       "2633"
      ]
     },
     "execution_count": 29,
     "metadata": {},
     "output_type": "execute_result"
    }
   ],
   "source": [
    "def get_poss_coords(row: int, col: int):\n",
    "    poss = []\n",
    "    # TOP\n",
    "    poss.append([(row - i, col) for i in range(4)])\n",
    "    # TOP RIGHT\n",
    "    poss.append([(row - i, col + i) for i in range(4)])\n",
    "    # RIGHT\n",
    "    poss.append([(row, col + i) for i in range(4)])\n",
    "    # BOT RIGHT\n",
    "    poss.append([(row + i, col + i) for i in range(4)])\n",
    "    # BOT\n",
    "    poss.append([(row + i, col) for i in range(4)])\n",
    "    # BOT LEFT\n",
    "    poss.append([(row + i, col - i) for i in range(4)])\n",
    "    # LEFT\n",
    "    poss.append([(row, col - i) for i in range(4)])\n",
    "    # TOP LEFT\n",
    "    poss.append([(row - i, col - i) for i in range(4)])\n",
    "\n",
    "    return poss\n",
    "\n",
    "\n",
    "with open(\"Day 4.txt\") as f:\n",
    "    pos: dict[tuple[int, int], str] = {}\n",
    "\n",
    "    l_number = 0\n",
    "    xs = set()\n",
    "    while line := f.readline().strip():\n",
    "        for i, l in enumerate(line):\n",
    "            pos[(l_number, i)] = l\n",
    "\n",
    "            if l == \"X\":\n",
    "                xs.add((l_number, i))\n",
    "\n",
    "        l_number += 1\n",
    "\n",
    "    xmas_count = 0\n",
    "    while xs:\n",
    "        x = xs.pop()\n",
    "        xmas_count += sum(\n",
    "            [\n",
    "                [pos.get((i, j), \".\") for i, j in sequence]\n",
    "                == [\"X\", \"M\", \"A\", \"S\"]\n",
    "                for sequence in get_poss_coords(x[0], x[1])\n",
    "            ]\n",
    "        )\n",
    "\n",
    "xmas_count"
   ]
  },
  {
   "cell_type": "markdown",
   "metadata": {},
   "source": [
    "# Q2"
   ]
  },
  {
   "cell_type": "code",
   "execution_count": null,
   "metadata": {},
   "outputs": [
    {
     "data": {
      "text/plain": [
       "1936"
      ]
     },
     "execution_count": 50,
     "metadata": {},
     "output_type": "execute_result"
    }
   ],
   "source": [
    "def get_poss_coords(row: int, col: int):\n",
    "    poss = []\n",
    "    # LEFT DIAG\n",
    "    poss.append([(row - 1, col - 1), (row + 1, col + 1)])\n",
    "    # RIGHT DIAG\n",
    "    poss.append([(row - 1, col + 1), (row + 1, col - 1)])\n",
    "\n",
    "    return poss\n",
    "\n",
    "\n",
    "with open(\"Day 4.txt\") as f:\n",
    "    pos: dict[tuple[int, int], str] = {}\n",
    "\n",
    "    l_number = 0\n",
    "    all_as = set()\n",
    "    while line := f.readline().strip():\n",
    "        for i, l in enumerate(line):\n",
    "            pos[(l_number, i)] = l\n",
    "\n",
    "            if l == \"A\":\n",
    "                all_as.add((l_number, i))\n",
    "\n",
    "        l_number += 1\n",
    "\n",
    "    xmas_count = 0\n",
    "    while all_as:\n",
    "        a = all_as.pop()\n",
    "\n",
    "        xmas_count += int(\n",
    "            all(\n",
    "                [\n",
    "                    all(\n",
    "                        l in [pos.get((i, j), \".\") for i, j in sequence]\n",
    "                        for l in [\"S\", \"M\"]\n",
    "                    )\n",
    "                    for sequence in get_poss_coords(a[0], a[1])\n",
    "                ]\n",
    "            )\n",
    "        )\n",
    "\n",
    "xmas_count"
   ]
  }
 ],
 "metadata": {
  "kernelspec": {
   "display_name": "Python 3",
   "language": "python",
   "name": "python3"
  },
  "language_info": {
   "codemirror_mode": {
    "name": "ipython",
    "version": 3
   },
   "file_extension": ".py",
   "mimetype": "text/x-python",
   "name": "python",
   "nbconvert_exporter": "python",
   "pygments_lexer": "ipython3",
   "version": "3.11.8"
  },
  "orig_nbformat": 4
 },
 "nbformat": 4,
 "nbformat_minor": 2
}
