{
 "cells": [
  {
   "cell_type": "markdown",
   "metadata": {},
   "source": [
    "# Q1"
   ]
  },
  {
   "cell_type": "code",
   "execution_count": null,
   "metadata": {},
   "outputs": [
    {
     "data": {
      "text/plain": [
       "7365"
      ]
     },
     "execution_count": 14,
     "metadata": {},
     "output_type": "execute_result"
    }
   ],
   "source": [
    "import collections\n",
    "\n",
    "with open(\"Day 5.txt\") as f:\n",
    "    rules = collections.defaultdict(set)\n",
    "\n",
    "    while line := f.readline().strip():\n",
    "        l, r = line.split(\"|\")\n",
    "\n",
    "        rules[l].add(r)\n",
    "\n",
    "    good_lists = []\n",
    "\n",
    "    while line := f.readline().strip():\n",
    "        nums = line.split(\",\")\n",
    "\n",
    "        seen = set(nums[:1])\n",
    "        for n in nums[1:]:\n",
    "            seen.add(n)\n",
    "\n",
    "            if rules[n].intersection(seen):\n",
    "                break\n",
    "        else:\n",
    "            good_lists.append(nums)\n",
    "\n",
    "\n",
    "sum([int(good[len(good) // 2]) for good in good_lists])"
   ]
  },
  {
   "cell_type": "markdown",
   "metadata": {},
   "source": [
    "# Q2"
   ]
  },
  {
   "cell_type": "code",
   "execution_count": null,
   "metadata": {},
   "outputs": [
    {
     "data": {
      "text/plain": [
       "5770"
      ]
     },
     "execution_count": 30,
     "metadata": {},
     "output_type": "execute_result"
    }
   ],
   "source": [
    "import collections\n",
    "\n",
    "def is_ordered(rules: dict[str, set[str]], update: list[str]) -> bool:\n",
    "    seen = set(update[:1])\n",
    "\n",
    "    for n in update[1:]:\n",
    "        seen.add(n)\n",
    "\n",
    "        if rules[n].intersection(seen):\n",
    "            return False\n",
    "\n",
    "    return True\n",
    "\n",
    "with open(\"Day 5.txt\") as f:\n",
    "    rules = collections.defaultdict(set)\n",
    "\n",
    "    while line := f.readline().strip():\n",
    "        l, r = line.split(\"|\")\n",
    "\n",
    "        rules[l].add(r)\n",
    "\n",
    "    bad_lists = []\n",
    "    while line := f.readline().strip():\n",
    "        nums = line.split(\",\")\n",
    "        bad = False\n",
    "\n",
    "        while not is_ordered(rules, nums):\n",
    "            seen = set(nums[:1])\n",
    "            i = 1\n",
    "            while i < len(nums):\n",
    "                n = nums[i]\n",
    "                seen.add(n)\n",
    "\n",
    "                if rules[n].intersection(seen):\n",
    "                    bad = True\n",
    "\n",
    "                    nums[i], nums[i - 1] = nums[i-1], nums[i]\n",
    "\n",
    "                i += 1\n",
    "        if bad:\n",
    "            bad_lists.append(nums)\n",
    "\n",
    "sum([int(bad[len(bad) // 2]) for bad in bad_lists])"
   ]
  }
 ],
 "metadata": {
  "kernelspec": {
   "display_name": "Python 3",
   "language": "python",
   "name": "python3"
  },
  "language_info": {
   "codemirror_mode": {
    "name": "ipython",
    "version": 3
   },
   "file_extension": ".py",
   "mimetype": "text/x-python",
   "name": "python",
   "nbconvert_exporter": "python",
   "pygments_lexer": "ipython3",
   "version": "3.11.8"
  },
  "orig_nbformat": 4
 },
 "nbformat": 4,
 "nbformat_minor": 2
}
