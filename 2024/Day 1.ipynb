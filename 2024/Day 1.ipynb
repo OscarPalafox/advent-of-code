{
 "cells": [
  {
   "cell_type": "markdown",
   "metadata": {},
   "source": [
    "# Q1"
   ]
  },
  {
   "cell_type": "code",
   "execution_count": null,
   "metadata": {},
   "outputs": [
    {
     "data": {
      "text/plain": [
       "1873376"
      ]
     },
     "execution_count": 8,
     "metadata": {},
     "output_type": "execute_result"
    }
   ],
   "source": [
    "with open(\"Day 1.txt\") as f:\n",
    "    d1s = []\n",
    "    d2s = []\n",
    "\n",
    "    while line := f.readline():\n",
    "        line = line.strip()\n",
    "\n",
    "        d1, d2 = line.split(\"   \")\n",
    "\n",
    "        d1s.append(int(d1))\n",
    "        d2s.append(int(d2))\n",
    "\n",
    "sum([abs(d1 - d2) for d1, d2 in zip(sorted(d1s), sorted(d2s))])"
   ]
  },
  {
   "cell_type": "markdown",
   "metadata": {},
   "source": [
    "# Q2"
   ]
  },
  {
   "cell_type": "code",
   "execution_count": null,
   "metadata": {},
   "outputs": [
    {
     "data": {
      "text/plain": [
       "18997088"
      ]
     },
     "execution_count": 6,
     "metadata": {},
     "output_type": "execute_result"
    }
   ],
   "source": [
    "import collections\n",
    "\n",
    "with open(\"Day 1.txt\") as f:\n",
    "    d1s = []\n",
    "    d2s = collections.defaultdict(int)\n",
    "\n",
    "    while line := f.readline():\n",
    "        line = line.strip()\n",
    "\n",
    "        d1, d2 = line.split(\"   \")\n",
    "\n",
    "        d1s.append(int(d1))\n",
    "        d2s[int(d2)] += 1\n",
    "\n",
    "sum([d1 * d2s[d1] for d1 in d1s])"
   ]
  }
 ],
 "metadata": {
  "kernelspec": {
   "display_name": "Python 3",
   "language": "python",
   "name": "python3"
  },
  "language_info": {
   "codemirror_mode": {
    "name": "ipython",
    "version": 3
   },
   "file_extension": ".py",
   "mimetype": "text/x-python",
   "name": "python",
   "nbconvert_exporter": "python",
   "pygments_lexer": "ipython3",
   "version": "3.11.8"
  },
  "orig_nbformat": 4
 },
 "nbformat": 4,
 "nbformat_minor": 2
}
