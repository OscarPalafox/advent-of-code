{
 "cells": [
  {
   "cell_type": "markdown",
   "metadata": {},
   "source": [
    "# Q1"
   ]
  },
  {
   "cell_type": "code",
   "execution_count": 68,
   "metadata": {},
   "outputs": [
    {
     "data": {
      "text/plain": [
       "6367087064415"
      ]
     },
     "execution_count": 68,
     "metadata": {},
     "output_type": "execute_result"
    }
   ],
   "source": [
    "import itertools\n",
    "\n",
    "\n",
    "with open(\"Day 9.txt\") as f:\n",
    "    while line := f.readline().strip():\n",
    "        disk_blocks = [int(x) for x in line[::2]]\n",
    "        free_blocks = [int(x) for x in line[1::2]]\n",
    "\n",
    "blocks: list[str] = []\n",
    "for i, (d, f) in enumerate(\n",
    "    itertools.zip_longest(disk_blocks, free_blocks, fillvalue=0)\n",
    "):\n",
    "    blocks += [str(i)] * d + [\".\"] * f\n",
    "\n",
    "i = blocks.index(\".\")\n",
    "j = len(blocks) - 1\n",
    "\n",
    "while i < j:\n",
    "    blocks[i], blocks[j] = blocks[j], blocks[i]\n",
    "\n",
    "    i = blocks.index(\".\")\n",
    "    while blocks[j] == \".\":\n",
    "        j -= 1\n",
    "\n",
    "res = 0\n",
    "for i, d in enumerate(blocks[:i]):\n",
    "    res += i * int(d)\n",
    "\n",
    "res"
   ]
  },
  {
   "cell_type": "markdown",
   "metadata": {},
   "source": [
    "# Q2"
   ]
  },
  {
   "cell_type": "code",
   "execution_count": 67,
   "metadata": {},
   "outputs": [
    {
     "data": {
      "text/plain": [
       "([1], [2], '0100')"
      ]
     },
     "execution_count": 67,
     "metadata": {},
     "output_type": "execute_result"
    }
   ],
   "source": [
    "with open(\"test.txt\") as f:\n",
    "    while line := f.readline().strip():\n",
    "        disk_blocks = [int(x) for x in line[::2]]\n",
    "        free_blocks = [int(x) for x in line[1::2]]\n",
    "\n",
    "blocks = \"0\" * disk_blocks.pop(0)\n",
    "rem_disk_blocks = disk_blocks.copy()\n",
    "\n",
    "for i, f in enumerate(free_blocks, 1):\n",
    "    for j, d in enumerate(rem_disk_blocks[::-1]):\n",
    "        if d and f >= d:\n",
    "            f -= d\n",
    "            file_id = len(disk_blocks) - j\n",
    "            blocks += str(file_id) * d\n",
    "            rem_disk_blocks[len(disk_blocks) - j - i] = 0\n",
    "\n",
    "        if not f:\n",
    "            break\n",
    "\n",
    "    block_rem_size = rem_disk_blocks.pop(0)\n",
    "    block_str = (\n",
    "        str(i) * block_rem_size\n",
    "        if block_rem_size\n",
    "        else \"0\" * disk_blocks[-len(rem_disk_blocks) - 1]\n",
    "    )\n",
    "\n",
    "    blocks += \"0\" * f + block_str\n",
    "\n",
    "res = 0\n",
    "for i, d in enumerate(blocks):\n",
    "    res += i * int(d)\n",
    "\n",
    "# res\n",
    "disk_blocks, free_blocks, blocks"
   ]
  },
  {
   "cell_type": "code",
   "execution_count": null,
   "metadata": {},
   "outputs": [
    {
     "data": {
      "text/plain": [
       "6390781891880"
      ]
     },
     "execution_count": 86,
     "metadata": {},
     "output_type": "execute_result"
    }
   ],
   "source": [
    "with open(\"Day 9.txt\") as f:\n",
    "    while line := f.readline().strip():\n",
    "        disk_blocks = [int(x) for x in line[::2]]\n",
    "        free_blocks = [int(x) for x in line[1::2]]\n",
    "\n",
    "blocks = [0] * disk_blocks.pop(0)\n",
    "rem_disk_blocks = disk_blocks.copy()\n",
    "\n",
    "for i, f in enumerate(free_blocks, 1):\n",
    "    for j, d in enumerate(rem_disk_blocks[::-1]):\n",
    "        if d and f >= d:\n",
    "            f -= d\n",
    "            file_id = len(disk_blocks) - j\n",
    "            blocks += [str(file_id)] * d\n",
    "            rem_disk_blocks[len(disk_blocks) - j - i] = 0\n",
    "\n",
    "        if not f:\n",
    "            break\n",
    "\n",
    "    block_rem_size = rem_disk_blocks.pop(0)\n",
    "    block = (\n",
    "        [i] * block_rem_size\n",
    "        if block_rem_size\n",
    "        else [0] * disk_blocks[-len(rem_disk_blocks) - 1]\n",
    "    )\n",
    "\n",
    "    blocks += [0] * f + block\n",
    "\n",
    "res = 0\n",
    "for i, d in enumerate(blocks):\n",
    "    res += i * int(d)\n",
    "\n",
    "res"
   ]
  }
 ],
 "metadata": {
  "kernelspec": {
   "display_name": "Python 3",
   "language": "python",
   "name": "python3"
  },
  "language_info": {
   "codemirror_mode": {
    "name": "ipython",
    "version": 3
   },
   "file_extension": ".py",
   "mimetype": "text/x-python",
   "name": "python",
   "nbconvert_exporter": "python",
   "pygments_lexer": "ipython3",
   "version": "3.11.8"
  },
  "orig_nbformat": 4
 },
 "nbformat": 4,
 "nbformat_minor": 2
}
