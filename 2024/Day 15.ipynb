{
 "cells": [
  {
   "cell_type": "markdown",
   "metadata": {},
   "source": [
    "# Q1"
   ]
  },
  {
   "cell_type": "code",
   "execution_count": 38,
   "metadata": {},
   "outputs": [
    {
     "data": {
      "text/plain": [
       "1398947"
      ]
     },
     "execution_count": 38,
     "metadata": {},
     "output_type": "execute_result"
    }
   ],
   "source": [
    "warehouse_map = {}\n",
    "moves = []\n",
    "with open(\"Day 15.txt\") as f:\n",
    "    i = 0\n",
    "    starting = (0, 0)\n",
    "    while line := f.readline().strip():\n",
    "        for j, x in enumerate(line):\n",
    "            warehouse_map[(i, j)] = x\n",
    "\n",
    "            if x == \"@\":\n",
    "                starting = (i, j)\n",
    "\n",
    "        i += 1\n",
    "\n",
    "    while line := f.readline().strip():\n",
    "        moves += list(line)\n",
    "\n",
    "direction = {\"^\": (-1, 0), \">\": (0, 1), \"v\": (1, 0), \"<\": (0, -1)}\n",
    "initial_i, initial_j = starting\n",
    "\n",
    "for m in moves:\n",
    "    d_i, d_j = direction[m]\n",
    "    to_move = []\n",
    "\n",
    "    n_i = initial_i\n",
    "    n_j = initial_j\n",
    "    while warehouse_map[(n_i := n_i + d_i, n_j := n_j + d_j)] == \"O\":\n",
    "        to_move.append((n_i, n_j))\n",
    "\n",
    "    if warehouse_map[(n_i, n_j)] == \".\":\n",
    "        for b_i, b_j in to_move:\n",
    "            warehouse_map[(b_i + d_i, b_j + d_j)] = \"O\"\n",
    "\n",
    "        warehouse_map[(initial_i, initial_j)] = \".\"\n",
    "        warehouse_map[\n",
    "            (initial_i := initial_i + d_i, initial_j := initial_j + d_j)\n",
    "        ] = \"@\"\n",
    "\n",
    "sum(100 * i + j for (i, j), b in warehouse_map.items() if b == \"O\")"
   ]
  },
  {
   "cell_type": "markdown",
   "metadata": {},
   "source": [
    "# Q2"
   ]
  },
  {
   "cell_type": "code",
   "execution_count": 48,
   "metadata": {},
   "outputs": [
    {
     "data": {
      "text/plain": [
       "1397393"
      ]
     },
     "execution_count": 48,
     "metadata": {},
     "output_type": "execute_result"
    }
   ],
   "source": [
    "warehouse_map = {}\n",
    "moves = []\n",
    "with open(\"Day 15.txt\") as f:\n",
    "    second_char = {\"@\": \".\", \"O\": \"]\", \".\": \".\", \"#\": \"#\"}\n",
    "\n",
    "    i = 0\n",
    "    starting = (0, 0)\n",
    "    while line := f.readline().strip():\n",
    "        for j, x in enumerate(line):\n",
    "            if x == \"O\":\n",
    "                warehouse_map[(i, j * 2)] = \"[\"\n",
    "            else:\n",
    "                warehouse_map[(i, j * 2)] = x\n",
    "\n",
    "            if x == \"@\":\n",
    "                starting = (i, j * 2)\n",
    "\n",
    "            warehouse_map[(i, j * 2 + 1)] = second_char[x]\n",
    "\n",
    "        i += 1\n",
    "\n",
    "    while line := f.readline().strip():\n",
    "        moves += list(line)\n",
    "\n",
    "direction = {\"^\": (-1, 0), \">\": (0, 1), \"v\": (1, 0), \"<\": (0, -1)}\n",
    "direction_box = {\"[\": -1, \"]\": 1}\n",
    "initial_i, initial_j = starting\n",
    "\n",
    "for m in moves:\n",
    "    d_i, d_j = direction[m]\n",
    "    to_move = []\n",
    "\n",
    "    n_i = initial_i\n",
    "    n_j = initial_j\n",
    "\n",
    "    if m in [\"<\", \">\"]:\n",
    "        while warehouse_map[(n_i := n_i + d_i, n_j := n_j + d_j)] in [\"[\", \"]\"]:\n",
    "            to_move.append((n_i, n_j))\n",
    "    else:\n",
    "        to_check = [(n_i + d_i, n_j)]\n",
    "\n",
    "        while to_check:\n",
    "            n_i, n_j = to_check.pop(0)\n",
    "            b = warehouse_map[n_i, n_j]\n",
    "\n",
    "            if b in [\"[\", \"]\"]:\n",
    "                if (n_i, n_j) not in to_move:\n",
    "                    to_move += [(n_i, n_j), (n_i, n_j - direction_box[b])]\n",
    "                to_check += [\n",
    "                    (n_i + d_i, n_j),\n",
    "                    (n_i + d_i, n_j - direction_box[b]),\n",
    "                ]\n",
    "            elif b == \"#\":\n",
    "                to_move = []\n",
    "                break\n",
    "\n",
    "    if warehouse_map[(n_i, n_j)] == \".\":\n",
    "        for b_i, b_j in to_move[::-1]:\n",
    "            warehouse_map[(b_i + d_i, b_j + d_j)] = warehouse_map[(b_i, b_j)]\n",
    "            warehouse_map[(b_i, b_j)] = \".\"\n",
    "\n",
    "        warehouse_map[(initial_i, initial_j)] = \".\"\n",
    "        warehouse_map[\n",
    "            (initial_i := initial_i + d_i, initial_j := initial_j + d_j)\n",
    "        ] = \"@\"\n",
    "\n",
    "sum(100 * i + j for (i, j), b in warehouse_map.items() if b == \"[\")"
   ]
  }
 ],
 "metadata": {
  "kernelspec": {
   "display_name": "Python 3",
   "language": "python",
   "name": "python3"
  },
  "language_info": {
   "codemirror_mode": {
    "name": "ipython",
    "version": 3
   },
   "file_extension": ".py",
   "mimetype": "text/x-python",
   "name": "python",
   "nbconvert_exporter": "python",
   "pygments_lexer": "ipython3",
   "version": "3.11.8"
  },
  "orig_nbformat": 4
 },
 "nbformat": 4,
 "nbformat_minor": 2
}
