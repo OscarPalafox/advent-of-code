{
 "cells": [
  {
   "cell_type": "markdown",
   "metadata": {},
   "source": [
    "# Q1"
   ]
  },
  {
   "cell_type": "code",
   "execution_count": 1,
   "metadata": {},
   "outputs": [
    {
     "data": {
      "text/plain": [
       "816"
      ]
     },
     "execution_count": 1,
     "metadata": {},
     "output_type": "execute_result"
    }
   ],
   "source": [
    "def get_poss_paths(i: int, j: int) -> set[tuple[int, int]]:\n",
    "    return {(i - 1, j), (i, j + 1), (i + 1, j), (i, j - 1)}\n",
    "\n",
    "\n",
    "with open(\"Day 10.txt\") as f:\n",
    "    coords = {}\n",
    "    i = 0\n",
    "    starts = set()\n",
    "    while line := f.readline().strip():\n",
    "        for j, c in enumerate(line):\n",
    "            if c == \".\":\n",
    "                continue\n",
    "\n",
    "            coords[(i, j)] = int(c)\n",
    "\n",
    "            if not int(c):\n",
    "                starts.add((i, j))\n",
    "\n",
    "        i += 1\n",
    "\n",
    "scores = 0\n",
    "for i_0, j_0 in starts:\n",
    "    to_visit = [(i_0, j_0)]\n",
    "    visited = set()\n",
    "\n",
    "    while to_visit:\n",
    "        i_n, j_n = to_visit.pop()\n",
    "        n = coords[(i_n, j_n)]\n",
    "\n",
    "        if n == 9:\n",
    "            scores += 1\n",
    "\n",
    "        visited.add((i_n, j_n))\n",
    "        poss = {\n",
    "            (i, j)\n",
    "            for i, j in get_poss_paths(i_n, j_n)\n",
    "            if coords.get((i, j), -1) == n + 1\n",
    "        }.difference(visited)\n",
    "        to_visit += poss\n",
    "\n",
    "scores"
   ]
  },
  {
   "cell_type": "markdown",
   "metadata": {},
   "source": [
    "# Q2"
   ]
  },
  {
   "cell_type": "code",
   "execution_count": 1,
   "metadata": {},
   "outputs": [
    {
     "data": {
      "text/plain": [
       "1960"
      ]
     },
     "execution_count": 1,
     "metadata": {},
     "output_type": "execute_result"
    }
   ],
   "source": [
    "def get_poss_paths(i: int, j: int) -> set[tuple[int, int]]:\n",
    "    return {(i - 1, j), (i, j + 1), (i + 1, j), (i, j - 1)}\n",
    "\n",
    "\n",
    "with open(\"Day 10.txt\") as f:\n",
    "    coords = {}\n",
    "    i = 0\n",
    "    starts = set()\n",
    "    while line := f.readline().strip():\n",
    "        for j, c in enumerate(line):\n",
    "            if c == \".\":\n",
    "                continue\n",
    "\n",
    "            coords[(i, j)] = int(c)\n",
    "\n",
    "            if not int(c):\n",
    "                starts.add((i, j))\n",
    "\n",
    "        i += 1\n",
    "\n",
    "scores = 0\n",
    "for i_0, j_0 in starts:\n",
    "    to_visit = [(i_0, j_0)]\n",
    "\n",
    "    while to_visit:\n",
    "        i_n, j_n = to_visit.pop()\n",
    "        n = coords[(i_n, j_n)]\n",
    "\n",
    "        if n == 9:\n",
    "            scores += 1\n",
    "\n",
    "        poss = [\n",
    "            (i, j)\n",
    "            for i, j in get_poss_paths(i_n, j_n)\n",
    "            if coords.get((i, j), -1) == n + 1\n",
    "        ]\n",
    "        to_visit += poss\n",
    "\n",
    "scores"
   ]
  }
 ],
 "metadata": {
  "kernelspec": {
   "display_name": "Python 3",
   "language": "python",
   "name": "python3"
  },
  "language_info": {
   "codemirror_mode": {
    "name": "ipython",
    "version": 3
   },
   "file_extension": ".py",
   "mimetype": "text/x-python",
   "name": "python",
   "nbconvert_exporter": "python",
   "pygments_lexer": "ipython3",
   "version": "3.11.8"
  },
  "orig_nbformat": 4
 },
 "nbformat": 4,
 "nbformat_minor": 2
}
