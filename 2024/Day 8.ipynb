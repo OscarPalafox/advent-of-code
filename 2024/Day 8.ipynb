{
 "cells": [
  {
   "cell_type": "markdown",
   "metadata": {},
   "source": [
    "# Q1"
   ]
  },
  {
   "cell_type": "code",
   "execution_count": 102,
   "metadata": {},
   "outputs": [
    {
     "data": {
      "text/plain": [
       "299"
      ]
     },
     "execution_count": 102,
     "metadata": {},
     "output_type": "execute_result"
    }
   ],
   "source": [
    "import collections\n",
    "\n",
    "\n",
    "def get_antinode_positions(\n",
    "    a: tuple[int, int], b: tuple[int, int]\n",
    ") -> set[tuple[int, int]]:\n",
    "    x = a[0] - b[0]\n",
    "    y = a[1] - b[1]\n",
    "\n",
    "    return set(\n",
    "        [\n",
    "            (n[0] - x_i, n[1] - y_i)\n",
    "            for x_i, y_i in [\n",
    "                (-x, -y),\n",
    "                (x, y),\n",
    "            ]\n",
    "            for n in [a, b]\n",
    "        ]\n",
    "    )\n",
    "\n",
    "\n",
    "with open(\"Day 8.txt\") as f:\n",
    "    available = set()\n",
    "    antennas = collections.defaultdict(set)\n",
    "\n",
    "    i = 0\n",
    "    while line := f.readline().strip():\n",
    "        for j, c in enumerate(line):\n",
    "            available.add((i, j))\n",
    "\n",
    "            if c != \".\":\n",
    "                antennas[c].add((i, j))\n",
    "\n",
    "        i += 1\n",
    "\n",
    "    antinodes = 0\n",
    "    for antenna, positions in antennas.items():\n",
    "        antenna_all_positions = positions.copy()\n",
    "        while positions:\n",
    "            pos_a = positions.pop()\n",
    "\n",
    "            for pos_b in positions:\n",
    "                matches = available.difference(\n",
    "                    antenna_all_positions\n",
    "                ).intersection(get_antinode_positions(pos_a, pos_b))\n",
    "                antinodes += len(matches)\n",
    "                available.difference_update(matches)\n",
    "\n",
    "antinodes"
   ]
  },
  {
   "cell_type": "markdown",
   "metadata": {},
   "source": [
    "# Q2"
   ]
  },
  {
   "cell_type": "code",
   "execution_count": 103,
   "metadata": {},
   "outputs": [
    {
     "data": {
      "text/plain": [
       "1032"
      ]
     },
     "execution_count": 103,
     "metadata": {},
     "output_type": "execute_result"
    }
   ],
   "source": [
    "import collections\n",
    "\n",
    "\n",
    "def get_antinode_positions(\n",
    "    a: tuple[int, int], b: tuple[int, int]\n",
    ") -> set[tuple[int, int]]:\n",
    "    x = a[0] - b[0]\n",
    "    y = a[1] - b[1]\n",
    "\n",
    "    return set(\n",
    "        [\n",
    "            (n[0] + x_i, n[1] + y_i)\n",
    "            for i in range(1, SIZE)\n",
    "            for x_i, y_i in [\n",
    "                (-i * x, -i * y),\n",
    "                (i * x, i * y),\n",
    "            ]\n",
    "            for n in [a, b]\n",
    "        ]\n",
    "    )\n",
    "\n",
    "\n",
    "with open(\"Day 8.txt\") as f:\n",
    "    available = set()\n",
    "    antennas = collections.defaultdict(set)\n",
    "\n",
    "    i = 0\n",
    "    while line := f.readline().strip():\n",
    "        for j, c in enumerate(line):\n",
    "\n",
    "            if c == \".\":\n",
    "                available.add((i, j))\n",
    "            else:\n",
    "                antennas[c].add((i, j))\n",
    "\n",
    "        i += 1\n",
    "\n",
    "    SIZE = i\n",
    "\n",
    "    antennas = {key: val for key, val in antennas.items() if len(val) > 1}\n",
    "    antinodes = sum([len(locs) for locs in antennas.values()])\n",
    "    for antenna, positions in antennas.items():\n",
    "        while positions:\n",
    "            pos_a = positions.pop()\n",
    "\n",
    "            for pos_b in positions:\n",
    "                matches = available.intersection(\n",
    "                    get_antinode_positions(pos_a, pos_b)\n",
    "                )\n",
    "                antinodes += len(matches)\n",
    "                available.difference_update(matches)\n",
    "\n",
    "antinodes"
   ]
  }
 ],
 "metadata": {
  "kernelspec": {
   "display_name": "Python 3",
   "language": "python",
   "name": "python3"
  },
  "language_info": {
   "codemirror_mode": {
    "name": "ipython",
    "version": 3
   },
   "file_extension": ".py",
   "mimetype": "text/x-python",
   "name": "python",
   "nbconvert_exporter": "python",
   "pygments_lexer": "ipython3",
   "version": "3.11.8"
  },
  "orig_nbformat": 4
 },
 "nbformat": 4,
 "nbformat_minor": 2
}
