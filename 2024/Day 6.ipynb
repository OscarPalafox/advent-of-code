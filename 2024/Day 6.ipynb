{
 "cells": [
  {
   "cell_type": "markdown",
   "metadata": {},
   "source": [
    "# Q1"
   ]
  },
  {
   "cell_type": "code",
   "execution_count": 2,
   "metadata": {},
   "outputs": [
    {
     "data": {
      "text/plain": [
       "4647"
      ]
     },
     "execution_count": 2,
     "metadata": {},
     "output_type": "execute_result"
    }
   ],
   "source": [
    "import itertools\n",
    "\n",
    "with open(\"Day 6.txt\") as f:\n",
    "    coords = []\n",
    "    starting = (0, 0)\n",
    "\n",
    "    i = 0\n",
    "    while line := f.readline().strip():\n",
    "        coords.append(list(line))\n",
    "\n",
    "        if (j := line.find(\"^\")) != -1:\n",
    "            starting = (i, j)\n",
    "\n",
    "        i += 1\n",
    "\n",
    "moves = itertools.cycle([(-1, 0), (0, 1), (1, 0), (0, -1)])\n",
    "c_i, c_j = starting\n",
    "\n",
    "pos_visited = set()\n",
    "m_i, m_j = 0, 0\n",
    "\n",
    "while 0 <= c_i + m_i < len(coords[0]) and 0 <= c_j + m_j < len(coords):\n",
    "    m_i, m_j = next(moves)\n",
    "\n",
    "    while (\n",
    "        0 <= c_i + m_i < len(coords[0])\n",
    "        and 0 <= c_j + m_j < len(coords)\n",
    "        and coords[c_i + m_i][c_j + m_j] != \"#\"\n",
    "    ):\n",
    "        c_i += m_i\n",
    "        c_j += m_j\n",
    "\n",
    "        pos_visited.add((c_i, c_j))\n",
    "\n",
    "\n",
    "len(pos_visited) + 1"
   ]
  },
  {
   "cell_type": "markdown",
   "metadata": {},
   "source": [
    "# Q2"
   ]
  },
  {
   "cell_type": "code",
   "execution_count": 9,
   "metadata": {},
   "outputs": [
    {
     "data": {
      "text/plain": [
       "False"
      ]
     },
     "execution_count": 9,
     "metadata": {},
     "output_type": "execute_result"
    }
   ],
   "source": [
    "def is_cyclical_parkour(\n",
    "    coordinates: list[list[str]], starting: tuple[int, int]\n",
    ") -> bool:\n",
    "    moves = itertools.cycle([(-1, 0), (0, 1), (1, 0), (0, -1)])\n",
    "    c_i, c_j = starting\n",
    "    pos_visited = set()\n",
    "    parkour = []\n",
    "    m_i, m_j = 0, 0\n",
    "\n",
    "    while 0 <= c_i + m_i < len(coordinates[0]) and 0 <= c_j + m_j < len(\n",
    "        coordinates\n",
    "    ):\n",
    "        m_i, m_j = next(moves)\n",
    "\n",
    "        while (\n",
    "            0 <= c_i + m_i < len(coordinates[0])\n",
    "            and 0 <= c_j + m_j < len(coordinates)\n",
    "            and coordinates[c_i + m_i][c_j + m_j] != \"#\"\n",
    "        ):\n",
    "            c_i += m_i\n",
    "            c_j += m_j\n",
    "\n",
    "            curr_pos = (c_i, c_j)\n",
    "\n",
    "            if curr_pos in pos_visited:\n",
    "                c_length = 0\n",
    "\n",
    "                while parkour[-c_length - 1] != curr_pos and c_length < len(\n",
    "                    parkour\n",
    "                ):\n",
    "                    c_length += 1\n",
    "\n",
    "                if (\n",
    "                    c_length < len(parkour)\n",
    "                    and parkour[len(parkour) - c_length :]\n",
    "                    == parkour[\n",
    "                        len(parkour)\n",
    "                        - 2 * c_length\n",
    "                        - 1 : len(parkour)\n",
    "                        - c_length\n",
    "                        - 1\n",
    "                    ]\n",
    "                ):\n",
    "                    return True\n",
    "\n",
    "            pos_visited.add(curr_pos)\n",
    "            parkour.append(curr_pos)\n",
    "\n",
    "    return False\n",
    "\n",
    "\n",
    "with open(\"test.txt\") as f:\n",
    "    x = []\n",
    "    starting = (0, 0)\n",
    "\n",
    "    i = 0\n",
    "    while line := f.readline().strip():\n",
    "        x.append(list(line))\n",
    "\n",
    "        if (j := line.find(\"^\")) != -1:\n",
    "            starting = (i, j)\n",
    "\n",
    "        i += 1\n",
    "\n",
    "is_cyclical_parkour(x, starting)"
   ]
  },
  {
   "cell_type": "code",
   "execution_count": null,
   "metadata": {},
   "outputs": [
    {
     "name": "stderr",
     "output_type": "stream",
     "text": [
      "100%|██████████| 4646/4646 [10:52<00:00,  7.12it/s]\n"
     ]
    },
    {
     "data": {
      "text/plain": [
       "1723"
      ]
     },
     "execution_count": 1,
     "metadata": {},
     "output_type": "execute_result"
    }
   ],
   "source": [
    "import itertools\n",
    "import tqdm\n",
    "import copy\n",
    "\n",
    "\n",
    "def is_cyclical_parkour(\n",
    "    coordinates: list[list[str]], starting: tuple[int, int]\n",
    ") -> bool:\n",
    "    moves = itertools.cycle([(-1, 0), (0, 1), (1, 0), (0, -1)])\n",
    "    c_i, c_j = starting\n",
    "    pos_visited = set()\n",
    "    parkour = []\n",
    "    m_i, m_j = 0, 0\n",
    "\n",
    "    while 0 <= c_i + m_i < len(coordinates[0]) and 0 <= c_j + m_j < len(\n",
    "        coordinates\n",
    "    ):\n",
    "        m_i, m_j = next(moves)\n",
    "\n",
    "        while (\n",
    "            0 <= c_i + m_i < len(coordinates[0])\n",
    "            and 0 <= c_j + m_j < len(coordinates)\n",
    "            and coordinates[c_i + m_i][c_j + m_j] != \"#\"\n",
    "        ):\n",
    "            c_i += m_i\n",
    "            c_j += m_j\n",
    "\n",
    "            curr_pos = (c_i, c_j)\n",
    "\n",
    "            if curr_pos in pos_visited:\n",
    "                c_length = 0\n",
    "\n",
    "                while parkour[-c_length - 1] != curr_pos and c_length < len(parkour):\n",
    "                    c_length += 1\n",
    "\n",
    "                if (\n",
    "                    c_length < len(parkour)\n",
    "                    and parkour[len(parkour) - c_length :] == parkour[len(parkour) - 2 * c_length - 1 : len(parkour)- c_length - 1]\n",
    "                ):\n",
    "                    return True\n",
    "\n",
    "            pos_visited.add(curr_pos)\n",
    "            parkour.append(curr_pos)\n",
    "\n",
    "    return False\n",
    "\n",
    "\n",
    "with open(\"Day 6.txt\") as f:\n",
    "    coords = []\n",
    "    starting = (0, 0)\n",
    "\n",
    "    i = 0\n",
    "    while line := f.readline().strip():\n",
    "        coords.append(list(line))\n",
    "\n",
    "        if (j := line.find(\"^\")) != -1:\n",
    "            starting = (i, j)\n",
    "\n",
    "        i += 1\n",
    "\n",
    "moves = itertools.cycle([(-1, 0), (0, 1), (1, 0), (0, -1)])\n",
    "c_i, c_j = starting\n",
    "\n",
    "pos_visited = set()\n",
    "m_i, m_j = 0, 0\n",
    "\n",
    "while 0 <= c_i + m_i < len(coords[0]) and 0 <= c_j + m_j < len(coords):\n",
    "    m_i, m_j = next(moves)\n",
    "\n",
    "    while (\n",
    "        0 <= c_i + m_i < len(coords[0])\n",
    "        and 0 <= c_j + m_j < len(coords)\n",
    "        and coords[c_i + m_i][c_j + m_j] != \"#\"\n",
    "    ):\n",
    "        c_i += m_i\n",
    "        c_j += m_j\n",
    "\n",
    "        pos_visited.add((c_i, c_j))\n",
    "\n",
    "cycles = 0\n",
    "\n",
    "for i, j in tqdm.tqdm(pos_visited):\n",
    "    new_coords = copy.deepcopy(coords)\n",
    "    new_coords[i][j] = \"#\"\n",
    "    cycles += int(is_cyclical_parkour(new_coords, starting))\n",
    "\n",
    "cycles"
   ]
  }
 ],
 "metadata": {
  "kernelspec": {
   "display_name": "Python 3",
   "language": "python",
   "name": "python3"
  },
  "language_info": {
   "codemirror_mode": {
    "name": "ipython",
    "version": 3
   },
   "file_extension": ".py",
   "mimetype": "text/x-python",
   "name": "python",
   "nbconvert_exporter": "python",
   "pygments_lexer": "ipython3",
   "version": "3.11.8"
  },
  "orig_nbformat": 4
 },
 "nbformat": 4,
 "nbformat_minor": 2
}
