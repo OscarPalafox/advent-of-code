{
 "cells": [
  {
   "cell_type": "markdown",
   "metadata": {},
   "source": [
    "# Task 1"
   ]
  },
  {
   "cell_type": "code",
   "execution_count": 1,
   "metadata": {},
   "outputs": [
    {
     "name": "stdout",
     "output_type": "stream",
     "text": [
      "356958\n"
     ]
    }
   ],
   "source": [
    "import numpy as np\n",
    "\n",
    "with open(\"day 7.txt\") as f:\n",
    "    lines = f.readlines()\n",
    "\n",
    "lines = lines[0]\n",
    "lines = lines.split(\",\")\n",
    "lines = [int(day) for day in lines]\n",
    "lines = np.array(lines)\n",
    "\n",
    "min_cost = 10000000000\n",
    "for i in range(np.min(lines), np.max(lines)):\n",
    "    if (cost := np.sum(np.abs(lines - i))) < min_cost:\n",
    "        min_cost = cost\n",
    "\n",
    "print(min_cost)\n"
   ]
  },
  {
   "cell_type": "markdown",
   "metadata": {},
   "source": [
    "# Task 2"
   ]
  },
  {
   "cell_type": "code",
   "execution_count": 2,
   "metadata": {},
   "outputs": [
    {
     "name": "stdout",
     "output_type": "stream",
     "text": [
      "105461913\n"
     ]
    }
   ],
   "source": [
    "import numpy as np\n",
    "\n",
    "with open(\"day 7.txt\") as f:\n",
    "    lines = f.readlines()\n",
    "\n",
    "lines = lines[0]\n",
    "lines = lines.split(\",\")\n",
    "lines = [int(day) for day in lines]\n",
    "lines = np.array(lines)\n",
    "\n",
    "mvmt = np.vectorize(lambda x: np.sum(range(0, x + 1)))\n",
    "pos1 = int(np.mean(lines))\n",
    "pos2 = int(np.mean(lines)) + 1\n",
    "\n",
    "min_cost1 = np.sum(mvmt(np.abs(lines - pos1)))\n",
    "min_cost2 = np.sum(mvmt(np.abs(lines - pos2)))\n",
    "\n",
    "min_cost = min_cost1 if min_cost1 < min_cost2 else min_cost2\n",
    "\n",
    "print(min_cost)\n"
   ]
  }
 ],
 "metadata": {
  "interpreter": {
   "hash": "b893e444e619e70b2cf399b639be411f8879b6bd72449a06e4d1173d8380f2c2"
  },
  "kernelspec": {
   "display_name": "Python 3.8.12 64-bit ('base': conda)",
   "language": "python",
   "name": "python3"
  },
  "language_info": {
   "codemirror_mode": {
    "name": "ipython",
    "version": 3
   },
   "file_extension": ".py",
   "mimetype": "text/x-python",
   "name": "python",
   "nbconvert_exporter": "python",
   "pygments_lexer": "ipython3",
   "version": "3.8.13"
  },
  "orig_nbformat": 4
 },
 "nbformat": 4,
 "nbformat_minor": 2
}
