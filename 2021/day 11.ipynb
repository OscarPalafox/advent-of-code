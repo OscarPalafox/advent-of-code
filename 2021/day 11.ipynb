{
 "cells": [
  {
   "cell_type": "markdown",
   "metadata": {},
   "source": [
    "# Task 1"
   ]
  },
  {
   "cell_type": "code",
   "execution_count": 1,
   "metadata": {},
   "outputs": [
    {
     "data": {
      "text/plain": [
       "1644"
      ]
     },
     "execution_count": 1,
     "metadata": {},
     "output_type": "execute_result"
    }
   ],
   "source": [
    "import numpy as np\n",
    "\n",
    "with open(\"day 11.txt\") as f:\n",
    "    lines = f.readlines()\n",
    "\n",
    "lines = [list(line.rstrip()) for line in lines]\n",
    "lines = np.array(lines, dtype=int)\n",
    "size_i, size_j = lines.shape\n",
    "map = np.zeros((size_i + 2, size_j + 2), dtype=int) + np.NINF\n",
    "map[1:-1, 1:-1] = lines\n",
    "\n",
    "flashes = 0\n",
    "\n",
    "for step in range(100):\n",
    "    map += 1\n",
    "    coords_i, coords_j = np.where(map > 9)\n",
    "    coords_i = coords_i[(0 < coords_i) & (coords_i <= size_i)]\n",
    "    coords_j = coords_j[(0 < coords_j) & (coords_j <= size_j)]\n",
    "    flashed = set()\n",
    "\n",
    "    while len(coords_i) > 0 and len(coords_j) > 0:\n",
    "        for i, j in zip(coords_i, coords_j):\n",
    "            map[i + 1, j] += 1\n",
    "            map[i, j + 1] += 1\n",
    "            map[i - 1, j] += 1\n",
    "            map[i, j - 1] += 1\n",
    "            map[i + 1, j + 1] += 1\n",
    "            map[i - 1, j + 1] += 1\n",
    "            map[i - 1, j - 1] += 1\n",
    "            map[i + 1, j - 1] += 1\n",
    "\n",
    "            flashed.add((i, j))\n",
    "\n",
    "        flashes += len(coords_i)\n",
    "        map[(tuple([coords_i, coords_j]))] = 0\n",
    "\n",
    "        coords_i, coords_j = np.where(map > 9)\n",
    "        coords = np.array([(i, j) for i, j in zip(\n",
    "            coords_i, coords_j) if (i, j) not in flashed], dtype=int)\n",
    "        if len(coords):\n",
    "            coords_i = coords[:, 0]\n",
    "            coords_j = coords[:, 1]\n",
    "    \n",
    "    flashed = np.array(list(flashed), dtype=int)\n",
    "    if len(flashed):\n",
    "        map[(tuple([flashed[:, 0], flashed[:, 1]]))] = 0\n",
    "\n",
    "flashes\n"
   ]
  },
  {
   "cell_type": "markdown",
   "metadata": {},
   "source": [
    "# Task 2"
   ]
  },
  {
   "cell_type": "code",
   "execution_count": 2,
   "metadata": {},
   "outputs": [
    {
     "data": {
      "text/plain": [
       "229"
      ]
     },
     "execution_count": 2,
     "metadata": {},
     "output_type": "execute_result"
    }
   ],
   "source": [
    "import numpy as np\n",
    "\n",
    "with open(\"day 11.txt\") as f:\n",
    "    lines = f.readlines()\n",
    "\n",
    "lines = [list(line.rstrip()) for line in lines]\n",
    "lines = np.array(lines, dtype=int)\n",
    "size_i, size_j = lines.shape\n",
    "map = np.zeros((size_i + 2, size_j + 2), dtype=int) + np.NINF\n",
    "map[1:-1, 1:-1] = lines\n",
    "\n",
    "step = 1\n",
    "\n",
    "while True:\n",
    "    map += 1\n",
    "    coords_i, coords_j = np.where(map > 9)\n",
    "    coords_i = coords_i[(0 < coords_i) & (coords_i <= size_i)]\n",
    "    coords_j = coords_j[(0 < coords_j) & (coords_j <= size_j)]\n",
    "    flashed = set()\n",
    "\n",
    "    while len(coords_i) > 0 and len(coords_j) > 0:\n",
    "        for i, j in zip(coords_i, coords_j):\n",
    "            map[i + 1, j] += 1\n",
    "            map[i, j + 1] += 1\n",
    "            map[i - 1, j] += 1\n",
    "            map[i, j - 1] += 1\n",
    "            map[i + 1, j + 1] += 1\n",
    "            map[i - 1, j + 1] += 1\n",
    "            map[i - 1, j - 1] += 1\n",
    "            map[i + 1, j - 1] += 1\n",
    "\n",
    "            flashed.add((i, j))\n",
    "\n",
    "        map[(tuple([coords_i, coords_j]))] = 0\n",
    "\n",
    "        coords_i, coords_j = np.where(map > 9)\n",
    "        coords = np.array([(i, j) for i, j in zip(\n",
    "            coords_i, coords_j) if (i, j) not in flashed], dtype=int)\n",
    "        if len(coords):\n",
    "            coords_i = coords[:, 0]\n",
    "            coords_j = coords[:, 1]\n",
    "\n",
    "    flashed = np.array(list(flashed), dtype=int)\n",
    "    if len(flashed):\n",
    "        map[(tuple([flashed[:, 0], flashed[:, 1]]))] = 0\n",
    "    \n",
    "    if not map[1:-1, 1:-1].any():\n",
    "        break\n",
    "    else:\n",
    "        step += 1\n",
    "\n",
    "step"
   ]
  }
 ],
 "metadata": {
  "interpreter": {
   "hash": "b893e444e619e70b2cf399b639be411f8879b6bd72449a06e4d1173d8380f2c2"
  },
  "kernelspec": {
   "display_name": "Python 3.8.12 64-bit ('base': conda)",
   "language": "python",
   "name": "python3"
  },
  "language_info": {
   "codemirror_mode": {
    "name": "ipython",
    "version": 3
   },
   "file_extension": ".py",
   "mimetype": "text/x-python",
   "name": "python",
   "nbconvert_exporter": "python",
   "pygments_lexer": "ipython3",
   "version": "3.8.13"
  },
  "orig_nbformat": 4
 },
 "nbformat": 4,
 "nbformat_minor": 2
}
