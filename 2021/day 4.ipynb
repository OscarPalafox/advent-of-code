{
 "cells": [
  {
   "cell_type": "markdown",
   "metadata": {},
   "source": [
    "# Task 1"
   ]
  },
  {
   "cell_type": "code",
   "execution_count": 1,
   "metadata": {},
   "outputs": [
    {
     "data": {
      "text/plain": [
       "69579"
      ]
     },
     "execution_count": 1,
     "metadata": {},
     "output_type": "execute_result"
    }
   ],
   "source": [
    "import numpy as np\n",
    "\n",
    "with open('day 4.txt') as f:\n",
    "    lines = f.readlines()\n",
    "\n",
    "order = np.array([int(num) for num in lines[0].strip().split(\",\")]) + 1\n",
    "\n",
    "lines = [line.strip() for line in lines[2:]]\n",
    "\n",
    "all_nums = []\n",
    "for line in lines:\n",
    "    if line:\n",
    "        all_nums.append([int(num) for num in line.split()])\n",
    "\n",
    "grids = []\n",
    "for i in range(len(all_nums) // 5):\n",
    "    grids.append([all_nums[i * 5: (i + 1) * 5]])\n",
    "\n",
    "grids = np.array(grids).squeeze(axis=1) + 1\n",
    "\n",
    "i = -1\n",
    "\n",
    "while len(winner := np.where(~grids.any(axis=1))[0]) == 0 and len(winner := np.where(~grids.any(axis=2))[0]) == 0:\n",
    "    i += 1\n",
    "    grids = np.where(grids == order[i], 0, grids)\n",
    "\n",
    "np.sum(np.where(grids[winner] != 0,\n",
    "                grids[winner] - 1, 0) * (order[i] - 1))\n"
   ]
  },
  {
   "cell_type": "markdown",
   "metadata": {},
   "source": [
    "# Task 2"
   ]
  },
  {
   "cell_type": "code",
   "execution_count": 2,
   "metadata": {},
   "outputs": [
    {
     "data": {
      "text/plain": [
       "14877"
      ]
     },
     "execution_count": 2,
     "metadata": {},
     "output_type": "execute_result"
    }
   ],
   "source": [
    "import numpy as np\n",
    "\n",
    "with open('day 4.txt') as f:\n",
    "    lines = f.readlines()\n",
    "\n",
    "order = np.array([int(num) for num in lines[0].strip().split(\",\")]) + 1\n",
    "\n",
    "lines = [line.strip() for line in lines[2:]]\n",
    "\n",
    "all_nums = []\n",
    "for line in lines:\n",
    "    if line:\n",
    "        all_nums.append([int(num) for num in line.split()])\n",
    "\n",
    "grids = []\n",
    "for i in range(len(all_nums) // 5):\n",
    "    grids.append([all_nums[i * 5: (i + 1) * 5]])\n",
    "\n",
    "grids = np.array(grids).squeeze(axis=1) + 1\n",
    "\n",
    "i = -1\n",
    "grid_nums = set(range(grids.shape[0]))\n",
    "winners = set()\n",
    "\n",
    "while len(winners) < len(grid_nums):\n",
    "    losers = grid_nums - winners\n",
    "    i += 1\n",
    "    grids = np.where(grids == order[i], 0, grids)\n",
    "    winners.update(np.where(~grids.any(axis=1))[0])\n",
    "    winners.update(np.where(~grids.any(axis=2))[0])\n",
    "\n",
    "loser = losers.pop()\n",
    "np.sum(np.where(grids[loser] != 0,\n",
    "                grids[loser] - 1, 0) * (order[i] - 1))"
   ]
  }
 ],
 "metadata": {
  "interpreter": {
   "hash": "b893e444e619e70b2cf399b639be411f8879b6bd72449a06e4d1173d8380f2c2"
  },
  "kernelspec": {
   "display_name": "Python 3.8.12 64-bit ('base': conda)",
   "language": "python",
   "name": "python3"
  },
  "language_info": {
   "codemirror_mode": {
    "name": "ipython",
    "version": 3
   },
   "file_extension": ".py",
   "mimetype": "text/x-python",
   "name": "python",
   "nbconvert_exporter": "python",
   "pygments_lexer": "ipython3",
   "version": "3.8.13"
  },
  "orig_nbformat": 4
 },
 "nbformat": 4,
 "nbformat_minor": 2
}
