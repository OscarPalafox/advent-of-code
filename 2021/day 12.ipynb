{
 "cells": [
  {
   "cell_type": "markdown",
   "metadata": {},
   "source": [
    "# Task 1"
   ]
  },
  {
   "cell_type": "code",
   "execution_count": null,
   "metadata": {},
   "outputs": [
    {
     "data": {
      "text/plain": [
       "5756"
      ]
     },
     "execution_count": 1,
     "metadata": {},
     "output_type": "execute_result"
    }
   ],
   "source": [
    "import networkx as nx\n",
    "\n",
    "with open(\"day 12.txt\") as f:\n",
    "    lines = f.readlines()\n",
    "\n",
    "edges = [line.rstrip().split(\"-\") for line in lines]\n",
    "edges = [edge[::-1] if (edge[1] == \"start\" or edge[0] ==\n",
    "                        \"end\") else edge for edge in edges]\n",
    "edges = [edge[::-1] if (edge[1] == \"end\"\n",
    "                        or edge[1] == \"start\" or (edge[0].islower() and edge[1].isupper())) and edge[0] != \"start\" and edge[1] != \"end\" else edge for edge in edges]\n",
    "edges_nodes = [edge[::-1]\n",
    "               for edge in edges if \"start\" not in edge and \"end\" not in edge]\n",
    "\n",
    "nodes = set([node for path in edges for node in path])\n",
    "graph = nx.DiGraph()\n",
    "graph.add_nodes_from(nodes)\n",
    "graph.add_edges_from(edges)\n",
    "graph.add_edges_from(edges_nodes)\n",
    "\n",
    "\n",
    "s = [[\"start\"]]\n",
    "discovered = 0\n",
    "paths = []\n",
    "\n",
    "while s:\n",
    "    path = s.pop()\n",
    "    v = path[-1]\n",
    "\n",
    "    if v != \"end\":\n",
    "        for node in graph[v]:\n",
    "            if node.isupper() or not (node.islower() and node in path):\n",
    "                s.append((*path, node))\n",
    "    else:\n",
    "        discovered += 1\n",
    "\n",
    "discovered\n"
   ]
  },
  {
   "cell_type": "markdown",
   "metadata": {},
   "source": [
    "# Task 2"
   ]
  },
  {
   "cell_type": "code",
   "execution_count": null,
   "metadata": {},
   "outputs": [
    {
     "data": {
      "text/plain": [
       "144603"
      ]
     },
     "execution_count": 2,
     "metadata": {},
     "output_type": "execute_result"
    }
   ],
   "source": [
    "import networkx as nx\n",
    "\n",
    "with open(\"day 12.txt\") as f:\n",
    "    lines = f.readlines()\n",
    "\n",
    "edges = [line.rstrip().split(\"-\") for line in lines]\n",
    "edges = [edge[::-1] if (edge[1] == \"start\" or edge[0] ==\n",
    "                        \"end\") else edge for edge in edges]\n",
    "edges = [edge[::-1] if (edge[1] == \"end\"\n",
    "                        or edge[1] == \"start\" or (edge[0].islower() and edge[1].isupper())) and edge[0] != \"start\" and edge[1] != \"end\" else edge for edge in edges]\n",
    "edges_nodes = [edge[::-1]\n",
    "               for edge in edges if \"start\" not in edge and \"end\" not in edge]\n",
    "\n",
    "nodes = set([node for path in edges for node in path])\n",
    "graph = nx.DiGraph()\n",
    "graph.add_nodes_from(nodes)\n",
    "graph.add_edges_from(edges)\n",
    "graph.add_edges_from(edges_nodes)\n",
    "\n",
    "\n",
    "s = [([\"start\"], defaultdict(int))]\n",
    "discovered = 0\n",
    "paths = []\n",
    "\n",
    "while s:\n",
    "    path, base_c = s.pop()\n",
    "    v = path[-1]\n",
    "\n",
    "    if v != \"end\":\n",
    "        for node in graph[v]:\n",
    "            c = base_c.copy()\n",
    "            vals = c.values() or [0]\n",
    "            small_cave_visited_lim = max(vals) >= 2\n",
    "            vis_small_caves = c.keys()\n",
    "\n",
    "            if node.isupper() or not (node.islower() and small_cave_visited_lim and node in vis_small_caves):\n",
    "                if node.islower():\n",
    "                    c[node] += 1\n",
    "                s.append(([*path, node], c))\n",
    "    else:\n",
    "        discovered += 1\n",
    "\n",
    "discovered\n"
   ]
  }
 ],
 "metadata": {
  "interpreter": {
   "hash": "b893e444e619e70b2cf399b639be411f8879b6bd72449a06e4d1173d8380f2c2"
  },
  "kernelspec": {
   "display_name": "Python 3.8.12 64-bit ('base': conda)",
   "language": "python",
   "name": "python3"
  },
  "language_info": {
   "codemirror_mode": {
    "name": "ipython",
    "version": 3
   },
   "file_extension": ".py",
   "mimetype": "text/x-python",
   "name": "python",
   "nbconvert_exporter": "python",
   "pygments_lexer": "ipython3",
   "version": "3.8.13"
  },
  "orig_nbformat": 4
 },
 "nbformat": 4,
 "nbformat_minor": 2
}
