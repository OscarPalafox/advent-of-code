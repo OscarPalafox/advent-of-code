{
 "cells": [
  {
   "cell_type": "markdown",
   "metadata": {},
   "source": [
    "# Task 1"
   ]
  },
  {
   "cell_type": "code",
   "execution_count": 1,
   "metadata": {},
   "outputs": [
    {
     "data": {
      "text/plain": [
       "603"
      ]
     },
     "execution_count": 1,
     "metadata": {},
     "output_type": "execute_result"
    }
   ],
   "source": [
    "import numpy as np\n",
    "\n",
    "with open(\"day 9.txt\") as f:\n",
    "    lines = f.readlines()\n",
    "\n",
    "lines = np.array([list(line.rstrip()) for line in lines], dtype=int)\n",
    "x, y = lines.shape\n",
    "\n",
    "\n",
    "map = np.zeros((x + 2, y + 2), dtype=int) + 10\n",
    "map[1:-1, 1:-1] =  lines\n",
    "\n",
    "\n",
    "all_i = range(1, x + 1)\n",
    "all_j = range(1, y + 1)\n",
    "\n",
    "lows = []\n",
    "\n",
    "for i in all_i:\n",
    "    for j in all_j:\n",
    "        if (curr := map[i, j] + 1) <= min([map[i - 1, j]], map[i + 1, j], map[i, j - 1], map[i, j + 1]):\n",
    "            lows.append(curr)\n",
    "\n",
    "sum(lows)"
   ]
  },
  {
   "cell_type": "markdown",
   "metadata": {},
   "source": [
    "# Task 2"
   ]
  },
  {
   "cell_type": "code",
   "execution_count": 2,
   "metadata": {},
   "outputs": [
    {
     "data": {
      "text/plain": [
       "786780"
      ]
     },
     "execution_count": 2,
     "metadata": {},
     "output_type": "execute_result"
    }
   ],
   "source": [
    "import numpy as np\n",
    "\n",
    "with open(\"day 9.txt\") as f:\n",
    "    lines = f.readlines()\n",
    "\n",
    "lines = np.array([list(line.rstrip()) for line in lines], dtype=int)\n",
    "x, y = lines.shape\n",
    "\n",
    "\n",
    "map = np.zeros((x + 2, y + 2), dtype=int) + 10\n",
    "map[1:-1, 1:-1] = lines\n",
    "\n",
    "\n",
    "all_i = range(1, x + 1)\n",
    "all_j = range(1, y + 1)\n",
    "\n",
    "basins_size = []\n",
    "\n",
    "for i in all_i:\n",
    "    for j in all_j:\n",
    "        if (map[i, j] + 1) <= min([map[i - 1, j]], map[i + 1, j], map[i, j - 1], map[i, j + 1]):\n",
    "            visited = set()\n",
    "            to_visit = {(i, j)}\n",
    "            while to_visit:\n",
    "                ind_i, ind_j = to_visit.pop()\n",
    "\n",
    "                if map[ind_i + 1, ind_j] < 9:\n",
    "                    if (new_point := (ind_i + 1, ind_j)) not in visited:\n",
    "                        to_visit.add(new_point)\n",
    "                if map[ind_i, ind_j + 1] < 9:\n",
    "                    if (new_point := (ind_i, ind_j + 1)) not in visited:\n",
    "                        to_visit.add(new_point)\n",
    "                if map[ind_i - 1, ind_j] < 9:\n",
    "                    if (new_point := (ind_i - 1,ind_j)) not in visited:\n",
    "                        to_visit.add(new_point)\n",
    "                if map[ind_i, ind_j - 1] < 9:\n",
    "                    if (new_point := (ind_i, ind_j - 1)) not in visited:\n",
    "                        to_visit.add(new_point)\n",
    "\n",
    "                visited.add((ind_i, ind_j))\n",
    "            basins_size.append(len(visited))\n",
    "\n",
    "np.prod(sorted(basins_size, reverse=True)[:3])\n"
   ]
  }
 ],
 "metadata": {
  "interpreter": {
   "hash": "b893e444e619e70b2cf399b639be411f8879b6bd72449a06e4d1173d8380f2c2"
  },
  "kernelspec": {
   "display_name": "Python 3.8.12 64-bit ('base': conda)",
   "language": "python",
   "name": "python3"
  },
  "language_info": {
   "codemirror_mode": {
    "name": "ipython",
    "version": 3
   },
   "file_extension": ".py",
   "mimetype": "text/x-python",
   "name": "python",
   "nbconvert_exporter": "python",
   "pygments_lexer": "ipython3",
   "version": "3.8.13"
  },
  "orig_nbformat": 4
 },
 "nbformat": 4,
 "nbformat_minor": 2
}
