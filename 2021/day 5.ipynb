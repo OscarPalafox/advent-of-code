{
 "cells": [
  {
   "cell_type": "markdown",
   "metadata": {},
   "source": [
    "# Task 1"
   ]
  },
  {
   "cell_type": "code",
   "execution_count": 1,
   "metadata": {},
   "outputs": [
    {
     "data": {
      "text/plain": [
       "5608"
      ]
     },
     "execution_count": 1,
     "metadata": {},
     "output_type": "execute_result"
    }
   ],
   "source": [
    "import numpy as np\n",
    "\n",
    "with open('day 5.txt') as f:\n",
    "    lines = f.readlines()\n",
    "\n",
    "lines = [line.strip().split(\" -> \") for line in lines]\n",
    "lines = [[coord.split(\",\") for coord in line] for line in lines]\n",
    "lines = np.array([[[int(coord) for coord in coords]\n",
    "                   for coords in line] for line in lines])\n",
    "\n",
    "grid = np.zeros((np.max(lines[:, :, 0]) + 1, np.max(lines[:, :, 1]) + 1))\n",
    "\n",
    "for line in lines:\n",
    "    x1, y1 = line[0]\n",
    "    x2, y2 = line[1]\n",
    "\n",
    "    if x1 == x2:\n",
    "        grid[y1:y2 + 1, x1] += 1\n",
    "        grid[y2:y1 + 1, x1] += 1\n",
    "    elif y1 == y2:\n",
    "        grid[y1, x1:x2 + 1] += 1\n",
    "        grid[y1, x2:x1 + 1] += 1\n",
    "\n",
    "len(np.where(grid >= 2)[0])\n"
   ]
  },
  {
   "cell_type": "markdown",
   "metadata": {},
   "source": [
    "# Task 2"
   ]
  },
  {
   "cell_type": "code",
   "execution_count": 2,
   "metadata": {},
   "outputs": [
    {
     "data": {
      "text/plain": [
       "20299"
      ]
     },
     "execution_count": 2,
     "metadata": {},
     "output_type": "execute_result"
    }
   ],
   "source": [
    "import numpy as np\n",
    "\n",
    "with open('day 5.txt') as f:\n",
    "    lines = f.readlines()\n",
    "\n",
    "lines = [line.strip().split(\" -> \") for line in lines]\n",
    "lines = [[coord.split(\",\") for coord in line] for line in lines]\n",
    "lines = np.array([[[int(coord) for coord in coords]\n",
    "                   for coords in line] for line in lines])\n",
    "\n",
    "grid = np.zeros((np.max(lines[:, :, 0]) + 1, np.max(lines[:, :, 1]) + 1))\n",
    "\n",
    "for line in lines:\n",
    "    x1, y1 = line[0]\n",
    "    x2, y2 = line[1]\n",
    "\n",
    "    if x1 == x2:\n",
    "        grid[y1:y2 + 1, x1] += 1\n",
    "        grid[y2:y1 + 1, x1] += 1\n",
    "    elif y1 == y2:\n",
    "        grid[y1, x1:x2 + 1] += 1\n",
    "        grid[y1, x2:x1 + 1] += 1\n",
    "    elif abs(x_diff := x2 - x1) == abs(y_diff := y2 - y1):\n",
    "        x_step = 1 if x_diff >= 0 else -1\n",
    "        y_step = 1 if y_diff >= 0 else -1\n",
    "\n",
    "        for x, y in zip(range(x1, x1 + x_diff + x_step, x_step), range(y1, y1 + y_diff + y_step, y_step)):\n",
    "            grid[y, x] += 1\n",
    "\n",
    "len(np.where(grid >= 2)[0])\n"
   ]
  }
 ],
 "metadata": {
  "interpreter": {
   "hash": "b893e444e619e70b2cf399b639be411f8879b6bd72449a06e4d1173d8380f2c2"
  },
  "kernelspec": {
   "display_name": "Python 3.8.12 64-bit ('base': conda)",
   "language": "python",
   "name": "python3"
  },
  "language_info": {
   "codemirror_mode": {
    "name": "ipython",
    "version": 3
   },
   "file_extension": ".py",
   "mimetype": "text/x-python",
   "name": "python",
   "nbconvert_exporter": "python",
   "pygments_lexer": "ipython3",
   "version": "3.8.13"
  },
  "orig_nbformat": 4
 },
 "nbformat": 4,
 "nbformat_minor": 2
}
