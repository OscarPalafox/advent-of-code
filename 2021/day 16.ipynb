{
 "cells": [
  {
   "cell_type": "code",
   "execution_count": null,
   "metadata": {},
   "outputs": [],
   "source": []
  },
  {
   "cell_type": "markdown",
   "metadata": {},
   "source": [
    "# Task 1"
   ]
  },
  {
   "cell_type": "code",
   "execution_count": 1,
   "metadata": {},
   "outputs": [
    {
     "data": {
      "text/plain": [
       "702"
      ]
     },
     "execution_count": 1,
     "metadata": {},
     "output_type": "execute_result"
    }
   ],
   "source": [
    "import numpy as np\n",
    "import networkx as nx\n",
    "\n",
    "with open(\"day 15.txt\") as f:\n",
    "    lines = f.readlines()\n",
    "\n",
    "lines = [list(line.rstrip()) for line in lines]\n",
    "cavern = np.array(lines, dtype=int)\n",
    "\n",
    "\n",
    "graph = nx.DiGraph()\n",
    "for i in range(cavern.shape[0]):\n",
    "    for j in range(cavern.shape[1]):\n",
    "        graph.add_node(f\"{i},{j}\")\n",
    "\n",
    "for i in range(cavern.shape[0]):\n",
    "    for j in range(cavern.shape[1]):\n",
    "        if i == 0:\n",
    "            graph.add_edge(f\"{i},{j}\", f\"{i + 1},{j}\", weight=cavern[i, j])\n",
    "        elif i == cavern.shape[0] - 1:\n",
    "            graph.add_edge(f\"{i},{j}\", f\"{i - 1},{j}\", weight=cavern[i, j])\n",
    "        else:\n",
    "            graph.add_edge(f\"{i},{j}\", f\"{i + 1},{j}\", weight=cavern[i, j])\n",
    "            graph.add_edge(f\"{i},{j}\", f\"{i - 1},{j}\", weight=cavern[i, j])\n",
    "\n",
    "        if j == 0:\n",
    "            graph.add_edge(f\"{i},{j}\", f\"{i},{j + 1}\", weight=cavern[i, j])\n",
    "        elif j == cavern.shape[1] - 1:\n",
    "            graph.add_edge(f\"{i},{j}\", f\"{i},{j - 1}\", weight=cavern[i, j])\n",
    "        else:\n",
    "            graph.add_edge(f\"{i},{j}\", f\"{i},{j + 1}\", weight=cavern[i, j])\n",
    "            graph.add_edge(f\"{i},{j}\", f\"{i},{j - 1}\", weight=cavern[i, j])\n",
    "\n",
    "\n",
    "cost = 0\n",
    "for node in nx.astar_path(graph, \"0,0\", f\"{cavern.shape[0] - 1},{cavern.shape[1] - 1}\", weight=\"weight\"):\n",
    "    i, j = node.split(\",\")\n",
    "    i = int(i)\n",
    "    j = int(j)\n",
    "    cost += cavern[i, j]\n",
    "\n",
    "cost - cavern[0, 0]"
   ]
  },
  {
   "cell_type": "markdown",
   "metadata": {},
   "source": [
    "# Task 2"
   ]
  },
  {
   "cell_type": "code",
   "execution_count": 2,
   "metadata": {},
   "outputs": [
    {
     "data": {
      "text/plain": [
       "2955"
      ]
     },
     "execution_count": 2,
     "metadata": {},
     "output_type": "execute_result"
    }
   ],
   "source": [
    "import numpy as np\n",
    "import networkx as nx\n",
    "\n",
    "with open(\"day 15.txt\") as f:\n",
    "    lines = f.readlines()\n",
    "\n",
    "lines = [list(line.rstrip()) for line in lines]\n",
    "cavern = np.array(lines, dtype=int)\n",
    "\n",
    "\n",
    "size_i, size_j = cavern.shape\n",
    "full_cavern = np.tile(cavern, (5, 5)).astype(int)\n",
    "\n",
    "for i in range(5):\n",
    "    for j in range(5):\n",
    "        full_cavern[i*size_i:(i+1)*size_i, j*size_j:(j+1)*size_j] += i + j\n",
    "\n",
    "full_cavern[full_cavern > 9] -= 9\n",
    "\n",
    "graph = nx.DiGraph()\n",
    "for i in range(full_cavern.shape[0]):\n",
    "    for j in range(full_cavern.shape[1]):\n",
    "        graph.add_node(f\"{i},{j}\")\n",
    "\n",
    "for i in range(full_cavern.shape[0]):\n",
    "    for j in range(full_cavern.shape[1]):\n",
    "        if i == 0:\n",
    "            graph.add_edge(f\"{i},{j}\", f\"{i + 1},{j}\", weight=full_cavern[i, j])\n",
    "        elif i == full_cavern.shape[0] - 1:\n",
    "            graph.add_edge(f\"{i},{j}\", f\"{i - 1},{j}\", weight=full_cavern[i, j])\n",
    "        else:\n",
    "            graph.add_edge(f\"{i},{j}\", f\"{i + 1},{j}\", weight=full_cavern[i, j])\n",
    "            graph.add_edge(f\"{i},{j}\", f\"{i - 1},{j}\", weight=full_cavern[i, j])\n",
    "\n",
    "        if j == 0:\n",
    "            graph.add_edge(f\"{i},{j}\", f\"{i},{j + 1}\", weight=full_cavern[i, j])\n",
    "        elif j == full_cavern.shape[1] - 1:\n",
    "            graph.add_edge(f\"{i},{j}\", f\"{i},{j - 1}\", weight=full_cavern[i, j])\n",
    "        else:\n",
    "            graph.add_edge(f\"{i},{j}\", f\"{i},{j + 1}\", weight=full_cavern[i, j])\n",
    "            graph.add_edge(f\"{i},{j}\", f\"{i},{j - 1}\", weight=full_cavern[i, j])\n",
    "\n",
    "\n",
    "cost = 0\n",
    "for node in nx.astar_path(graph, \"0,0\", f\"{full_cavern.shape[0] - 1},{full_cavern.shape[1] - 1}\", weight=\"weight\"):\n",
    "    i, j = node.split(\",\")\n",
    "    i = int(i)\n",
    "    j = int(j)\n",
    "    cost += full_cavern[i, j]\n",
    "\n",
    "cost - full_cavern[0, 0]\n"
   ]
  }
 ],
 "metadata": {
  "interpreter": {
   "hash": "b893e444e619e70b2cf399b639be411f8879b6bd72449a06e4d1173d8380f2c2"
  },
  "kernelspec": {
   "display_name": "Python 3.8.12 64-bit ('base': conda)",
   "language": "python",
   "name": "python3"
  },
  "language_info": {
   "codemirror_mode": {
    "name": "ipython",
    "version": 3
   },
   "file_extension": ".py",
   "mimetype": "text/x-python",
   "name": "python",
   "nbconvert_exporter": "python",
   "pygments_lexer": "ipython3",
   "version": "3.8.13"
  },
  "orig_nbformat": 4
 },
 "nbformat": 4,
 "nbformat_minor": 2
}
