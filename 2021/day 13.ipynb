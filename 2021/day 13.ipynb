{
 "cells": [
  {
   "cell_type": "markdown",
   "metadata": {},
   "source": [
    "# Task 1"
   ]
  },
  {
   "cell_type": "code",
   "execution_count": 1,
   "metadata": {},
   "outputs": [
    {
     "data": {
      "text/plain": [
       "701"
      ]
     },
     "execution_count": 1,
     "metadata": {},
     "output_type": "execute_result"
    }
   ],
   "source": [
    "import numpy as np\n",
    "\n",
    "with open(\"day 13.txt\") as f:\n",
    "    lines = f.readlines()\n",
    "\n",
    "lines = [line.rstrip() for line in lines]\n",
    "points = []\n",
    "i = 0\n",
    "while (line := lines[i]) != \"\":\n",
    "    x, y = line.split(\",\")\n",
    "    points.append((int(x), int(y)))\n",
    "    i += 1\n",
    "points = np.array(points)\n",
    "\n",
    "i += 1\n",
    "folds = []\n",
    "while i < len(lines):\n",
    "    line = lines[i]\n",
    "    axis, num = line.split(\"=\")\n",
    "    axis = 0 if axis[-1] == \"y\" else 1\n",
    "    folds.append((axis, int(num)))\n",
    "    i += 1\n",
    "\n",
    "instr = np.zeros((np.max(points, axis=0) + 1)[::-1], dtype=int)\n",
    "instr[tuple([points[:, 1], points[:, 0]])] = 1\n",
    "\n",
    "axis, num = folds[0]\n",
    "instr = np.delete(instr, num, axis)\n",
    "instr1, instr2 = np.split(instr, 2, axis)\n",
    "instr = instr1 + np.flip(instr2, axis)\n",
    "\n",
    "instr[instr >= 1] = 1\n",
    "np.sum(instr)\n"
   ]
  },
  {
   "cell_type": "markdown",
   "metadata": {},
   "source": [
    "# Task 2"
   ]
  },
  {
   "cell_type": "code",
   "execution_count": 2,
   "metadata": {},
   "outputs": [
    {
     "name": "stdout",
     "output_type": "stream",
     "text": [
      "'#' '#' '#' '#' ' ' '#' '#' '#' ' ' ' ' '#' '#' '#' '#' ' ' '#' ' ' ' ' '#' ' ' '#' '#' '#' ' ' ' ' '#' '#' '#' '#' ' ' ' ' ' ' '#' '#' ' ' '#' ' ' ' ' ' ' ' '\n",
      "'#' ' ' ' ' ' ' ' ' '#' ' ' ' ' '#' ' ' '#' ' ' ' ' ' ' ' ' '#' ' ' '#' ' ' ' ' '#' ' ' ' ' '#' ' ' '#' ' ' ' ' ' ' ' ' ' ' ' ' ' ' '#' ' ' '#' ' ' ' ' ' ' ' '\n",
      "'#' '#' '#' ' ' ' ' '#' ' ' ' ' '#' ' ' '#' '#' '#' ' ' ' ' '#' '#' ' ' ' ' ' ' '#' '#' '#' ' ' ' ' '#' '#' '#' ' ' ' ' ' ' ' ' ' ' '#' ' ' '#' ' ' ' ' ' ' ' '\n",
      "'#' ' ' ' ' ' ' ' ' '#' '#' '#' ' ' ' ' '#' ' ' ' ' ' ' ' ' '#' ' ' '#' ' ' ' ' '#' ' ' ' ' '#' ' ' '#' ' ' ' ' ' ' ' ' ' ' ' ' ' ' '#' ' ' '#' ' ' ' ' ' ' ' '\n",
      "'#' ' ' ' ' ' ' ' ' '#' ' ' ' ' ' ' ' ' '#' ' ' ' ' ' ' ' ' '#' ' ' '#' ' ' ' ' '#' ' ' ' ' '#' ' ' '#' ' ' ' ' ' ' ' ' '#' ' ' ' ' '#' ' ' '#' ' ' ' ' ' ' ' '\n",
      "'#' ' ' ' ' ' ' ' ' '#' ' ' ' ' ' ' ' ' '#' '#' '#' '#' ' ' '#' ' ' ' ' '#' ' ' '#' '#' '#' ' ' ' ' '#' '#' '#' '#' ' ' ' ' '#' '#' ' ' ' ' '#' '#' '#' '#' ' '\n"
     ]
    }
   ],
   "source": [
    "import numpy as np\n",
    "\n",
    "with open(\"day 13.txt\") as f:\n",
    "    lines = f.readlines()\n",
    "\n",
    "lines = [line.rstrip() for line in lines]\n",
    "points = []\n",
    "i = 0\n",
    "while (line := lines[i]) != \"\":\n",
    "    x, y = line.split(\",\")\n",
    "    points.append((int(x), int(y)))\n",
    "    i += 1\n",
    "points = np.array(points)\n",
    "\n",
    "i += 1\n",
    "folds = []\n",
    "while i < len(lines):\n",
    "    line = lines[i]\n",
    "    axis, num = line.split(\"=\")\n",
    "    axis = 0 if axis[-1] == \"y\" else 1\n",
    "    folds.append((axis, int(num)))\n",
    "    i += 1\n",
    "\n",
    "instr = np.zeros((np.max(points, axis=0) + 1)[::-1], dtype=object)\n",
    "instr[tuple([points[:, 1], points[:, 0]])] = 1\n",
    "\n",
    "for axis, num in folds:\n",
    "    instr = np.delete(instr, num, axis)\n",
    "    shape = list(instr.shape)\n",
    "    shape[axis] = abs(instr.shape[axis] - num * 2)\n",
    "    instr = np.concatenate((instr, np.zeros(shape, dtype=object)), axis=axis, dtype=object)\n",
    "    instr1, instr2 = np.split(instr, 2, axis)\n",
    "    instr = instr1 + np.flip(instr2, axis)\n",
    "\n",
    "instr[instr >= 1] = \"#\"\n",
    "instr[instr == 0] = \" \"\n",
    "print(np.array2string(instr, max_line_width=1000).replace(\" [\", \"\").replace(\"[\", \"\").replace(\"]\", \"\"))\n"
   ]
  }
 ],
 "metadata": {
  "interpreter": {
   "hash": "b893e444e619e70b2cf399b639be411f8879b6bd72449a06e4d1173d8380f2c2"
  },
  "kernelspec": {
   "display_name": "Python 3.8.12 64-bit ('base': conda)",
   "language": "python",
   "name": "python3"
  },
  "language_info": {
   "codemirror_mode": {
    "name": "ipython",
    "version": 3
   },
   "file_extension": ".py",
   "mimetype": "text/x-python",
   "name": "python",
   "nbconvert_exporter": "python",
   "pygments_lexer": "ipython3",
   "version": "3.8.13"
  },
  "orig_nbformat": 4
 },
 "nbformat": 4,
 "nbformat_minor": 2
}
