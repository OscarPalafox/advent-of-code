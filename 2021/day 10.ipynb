{
 "cells": [
  {
   "cell_type": "markdown",
   "metadata": {},
   "source": [
    "# Task 1"
   ]
  },
  {
   "cell_type": "code",
   "execution_count": 1,
   "metadata": {},
   "outputs": [
    {
     "data": {
      "text/plain": [
       "319233"
      ]
     },
     "execution_count": 1,
     "metadata": {},
     "output_type": "execute_result"
    }
   ],
   "source": [
    "with open(\"day 10.txt\") as f:\n",
    "    lines = f.readlines()\n",
    "\n",
    "lines = [line.rstrip() for line in lines]\n",
    "\n",
    "points = {\")\": 3, \"]\": 57, \"}\": 1197, \">\": 25137}\n",
    "corr_parenthesis = {\"(\": \")\", \"[\": \"]\", \"{\": \"}\", \"<\": \">\"}\n",
    "wrong = []\n",
    "\n",
    "for line in lines:\n",
    "    stack = []\n",
    "    for char in line:\n",
    "        if char in {\"(\", \"[\", \"{\", \"<\"}:\n",
    "            stack.append(char)\n",
    "        else:\n",
    "            prev = stack.pop()\n",
    "\n",
    "            if corr_parenthesis[prev] != char:\n",
    "                wrong.append(char)\n",
    "                break\n",
    "\n",
    "sum([points[char] for char in wrong])\n"
   ]
  },
  {
   "cell_type": "markdown",
   "metadata": {},
   "source": [
    "# Task 2"
   ]
  },
  {
   "cell_type": "code",
   "execution_count": 2,
   "metadata": {},
   "outputs": [
    {
     "data": {
      "text/plain": [
       "1118976874"
      ]
     },
     "execution_count": 2,
     "metadata": {},
     "output_type": "execute_result"
    }
   ],
   "source": [
    "with open(\"day 10.txt\") as f:\n",
    "    lines = f.readlines()\n",
    "\n",
    "lines = [line.rstrip() for line in lines]\n",
    "\n",
    "points = {\")\": 1, \"]\": 2, \"}\": 3, \">\": 4}\n",
    "corr_parenthesis = {\"(\": \")\", \"[\": \"]\", \"{\": \"}\", \"<\": \">\"}\n",
    "\n",
    "scores = []\n",
    "\n",
    "for line in lines:\n",
    "    stack = []\n",
    "    wrong = False\n",
    "    for char in line:\n",
    "        if char in {\"(\", \"[\", \"{\", \"<\"}:\n",
    "            stack.append(char)\n",
    "        else:\n",
    "            prev = stack.pop()\n",
    "\n",
    "            if corr_parenthesis[prev] != char:\n",
    "                wrong = True\n",
    "                break\n",
    "    if not wrong:\n",
    "        line_score = 0\n",
    "        for parenthesis in stack[::-1]:\n",
    "            line_score *= 5\n",
    "            line_score += points[corr_parenthesis[parenthesis]]\n",
    "        \n",
    "        scores.append(line_score)\n",
    "\n",
    "\n",
    "sorted(scores)[len(scores)//2]\n"
   ]
  }
 ],
 "metadata": {
  "interpreter": {
   "hash": "b893e444e619e70b2cf399b639be411f8879b6bd72449a06e4d1173d8380f2c2"
  },
  "kernelspec": {
   "display_name": "Python 3.8.12 64-bit ('base': conda)",
   "language": "python",
   "name": "python3"
  },
  "language_info": {
   "codemirror_mode": {
    "name": "ipython",
    "version": 3
   },
   "file_extension": ".py",
   "mimetype": "text/x-python",
   "name": "python",
   "nbconvert_exporter": "python",
   "pygments_lexer": "ipython3",
   "version": "3.8.13"
  },
  "orig_nbformat": 4
 },
 "nbformat": 4,
 "nbformat_minor": 2
}
