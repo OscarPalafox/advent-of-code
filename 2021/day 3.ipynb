{
 "cells": [
  {
   "cell_type": "markdown",
   "metadata": {},
   "source": [
    "# Task 1"
   ]
  },
  {
   "cell_type": "code",
   "execution_count": 1,
   "metadata": {},
   "outputs": [
    {
     "data": {
      "text/plain": [
       "4006064"
      ]
     },
     "execution_count": 1,
     "metadata": {},
     "output_type": "execute_result"
    }
   ],
   "source": [
    "import numpy as np\n",
    "from collections import Counter\n",
    "\n",
    "with open('day 3.txt') as f:\n",
    "    lines = f.readlines()\n",
    "\n",
    "bin_nums = np.array([list(num.strip()) for num in lines])\n",
    "\n",
    "pop = \"\"\n",
    "ls = \"\"\n",
    "for i in range(bin_nums.shape[1]):\n",
    "    pop += Counter(bin_nums[:, i]).most_common(1)[0][0]\n",
    "    ls += Counter(bin_nums[:, i]).most_common(2)[1][0]\n",
    "\n",
    "int(pop, 2) * int(ls, 2)\n"
   ]
  },
  {
   "cell_type": "markdown",
   "metadata": {},
   "source": [
    "# Task 2"
   ]
  },
  {
   "cell_type": "code",
   "execution_count": 2,
   "metadata": {},
   "outputs": [
    {
     "data": {
      "text/plain": [
       "5941884"
      ]
     },
     "execution_count": 2,
     "metadata": {},
     "output_type": "execute_result"
    }
   ],
   "source": [
    "import numpy as np\n",
    "from collections import Counter\n",
    "\n",
    "with open('day 3.txt') as f:\n",
    "    lines = f.readlines()\n",
    "\n",
    "bin_nums = np.array([list(num.strip()) for num in lines])\n",
    "\n",
    "ox = bin_nums\n",
    "carb = bin_nums\n",
    "\n",
    "i = 0\n",
    "while len(ox) > 1:\n",
    "    common_ls = Counter(ox[:, i]).most_common(2)\n",
    "    pop = common_ls[0][0]\n",
    "    pop_count = common_ls[0][1]\n",
    "\n",
    "    if len(common_ls) > 1:\n",
    "        ls = common_ls[1][0]\n",
    "        ls_count = common_ls[1][1]\n",
    "    else:\n",
    "        ls_count = -1\n",
    "\n",
    "    if pop_count == ls_count:\n",
    "        pop = \"1\"\n",
    "\n",
    "    ox = ox[ox[:, i] == pop]\n",
    "    i += 1\n",
    "\n",
    "i = 0\n",
    "while len(carb) > 1:\n",
    "    common_ls = Counter(carb[:, i]).most_common(2)\n",
    "    pop = common_ls[0][0]\n",
    "    pop_count = common_ls[0][1]\n",
    "\n",
    "    if len(common_ls) > 1:\n",
    "        ls = common_ls[1][0]\n",
    "        ls_count = common_ls[1][1]\n",
    "    else:\n",
    "        ls_count = -1\n",
    "        ls = pop\n",
    "\n",
    "    if pop_count == ls_count:\n",
    "        ls = \"0\"\n",
    "\n",
    "    carb = carb[carb[:, i] == ls]\n",
    "    i += 1\n",
    "\n",
    "int(\"\".join(ox.squeeze()), 2) * int(\"\".join(carb.squeeze()), 2)\n"
   ]
  }
 ],
 "metadata": {
  "interpreter": {
   "hash": "b893e444e619e70b2cf399b639be411f8879b6bd72449a06e4d1173d8380f2c2"
  },
  "kernelspec": {
   "display_name": "Python 3.8.12 64-bit ('base': conda)",
   "language": "python",
   "name": "python3"
  },
  "language_info": {
   "codemirror_mode": {
    "name": "ipython",
    "version": 3
   },
   "file_extension": ".py",
   "mimetype": "text/x-python",
   "name": "python",
   "nbconvert_exporter": "python",
   "pygments_lexer": "ipython3",
   "version": "3.8.13"
  },
  "orig_nbformat": 4
 },
 "nbformat": 4,
 "nbformat_minor": 2
}
