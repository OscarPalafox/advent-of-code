{
 "cells": [
  {
   "cell_type": "markdown",
   "metadata": {},
   "source": [
    "# Task 1"
   ]
  },
  {
   "cell_type": "code",
   "execution_count": 1,
   "metadata": {},
   "outputs": [
    {
     "data": {
      "text/plain": [
       "388739"
      ]
     },
     "execution_count": 1,
     "metadata": {},
     "output_type": "execute_result"
    }
   ],
   "source": [
    "import numpy as np\n",
    "\n",
    "with open('day 6.txt') as f:\n",
    "    lines = f.readlines()\n",
    "\n",
    "lines = lines[0]\n",
    "lines = lines.split(\",\")\n",
    "lines = [int(day) for day in lines]\n",
    "lines = np.array(lines)\n",
    "\n",
    "for i in range(80):\n",
    "    born = lines.size - np.count_nonzero(lines)\n",
    "    lines[lines == 0] = 7\n",
    "    lines = np.append(lines, np.array([9] * born, dtype=np.int16))\n",
    "    lines -= 1\n",
    "\n",
    "lines.size"
   ]
  },
  {
   "cell_type": "markdown",
   "metadata": {},
   "source": [
    "# Task 2"
   ]
  },
  {
   "cell_type": "code",
   "execution_count": 2,
   "metadata": {},
   "outputs": [
    {
     "data": {
      "text/plain": [
       "1741362314973"
      ]
     },
     "execution_count": 2,
     "metadata": {},
     "output_type": "execute_result"
    }
   ],
   "source": [
    "import numpy as np\n",
    "from collections import Counter, defaultdict\n",
    "\n",
    "with open('day 6.txt') as f:\n",
    "    lines = f.readlines()\n",
    "\n",
    "lines = lines[0]\n",
    "lines = lines.split(\",\")\n",
    "lines = [int(day) for day in lines]\n",
    "lines = np.array(lines)\n",
    "\n",
    "fish_count = defaultdict(int)\n",
    "\n",
    "fish_count.update(Counter(lines))\n",
    "fish_count\n",
    "\n",
    "for i in range(256):\n",
    "    for fish in range(10):\n",
    "        if fish == 0:\n",
    "            fish_count[7] += fish_count[0]\n",
    "            fish_count[9] += fish_count[0]\n",
    "            fish_count[0] -= fish_count[0]\n",
    "        else:\n",
    "            fish_count[fish - 1] += fish_count[fish]\n",
    "            fish_count[fish] -= fish_count[fish]\n",
    "\n",
    "fish_count\n",
    "sum(fish_count.values())\n"
   ]
  }
 ],
 "metadata": {
  "interpreter": {
   "hash": "b893e444e619e70b2cf399b639be411f8879b6bd72449a06e4d1173d8380f2c2"
  },
  "kernelspec": {
   "display_name": "Python 3.8.12 64-bit ('base': conda)",
   "language": "python",
   "name": "python3"
  },
  "language_info": {
   "codemirror_mode": {
    "name": "ipython",
    "version": 3
   },
   "file_extension": ".py",
   "mimetype": "text/x-python",
   "name": "python",
   "nbconvert_exporter": "python",
   "pygments_lexer": "ipython3",
   "version": "3.8.13"
  },
  "orig_nbformat": 4
 },
 "nbformat": 4,
 "nbformat_minor": 2
}
