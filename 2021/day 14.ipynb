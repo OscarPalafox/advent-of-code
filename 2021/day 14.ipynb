{
 "cells": [
  {
   "cell_type": "markdown",
   "metadata": {},
   "source": [
    "# Task 1"
   ]
  },
  {
   "cell_type": "code",
   "execution_count": 1,
   "metadata": {},
   "outputs": [
    {
     "data": {
      "text/plain": [
       "4517"
      ]
     },
     "execution_count": 1,
     "metadata": {},
     "output_type": "execute_result"
    }
   ],
   "source": [
    "import numpy as np\n",
    "from collections import Counter\n",
    "\n",
    "with open(\"day 14.txt\") as f:\n",
    "    lines = f.readlines()\n",
    "\n",
    "lines = [line.rstrip() for line in lines]\n",
    "polymer = lines[0]\n",
    "\n",
    "transfor = {}\n",
    "\n",
    "for line in lines[2:]:\n",
    "    base, res = line.split(\" -> \")\n",
    "    transfor[base] = res\n",
    "\n",
    "pol = polymer\n",
    "for _ in range(10):\n",
    "    pairs = []\n",
    "    for i in range(len(pol) - 1):\n",
    "        pair = pol[i:i+2]\n",
    "        pairs.append(\"\".join([pair[0], transfor[pair]]))\n",
    "    pol = \"\".join(pairs) + pol[-1]\n",
    "\n",
    "mc = Counter(pol).most_common()\n",
    "\n",
    "mc[0][1] - mc[-1][1]\n"
   ]
  },
  {
   "cell_type": "markdown",
   "metadata": {},
   "source": [
    "# Task 2"
   ]
  },
  {
   "cell_type": "code",
   "execution_count": 2,
   "metadata": {},
   "outputs": [
    {
     "data": {
      "text/plain": [
       "4704817645083"
      ]
     },
     "execution_count": 2,
     "metadata": {},
     "output_type": "execute_result"
    }
   ],
   "source": [
    "import numpy as np\n",
    "from collections import Counter, defaultdict\n",
    "\n",
    "with open(\"day 14.txt\") as f:\n",
    "    lines = f.readlines()\n",
    "\n",
    "lines = [line.rstrip() for line in lines]\n",
    "polymer = lines[0]\n",
    "\n",
    "transfor = {}\n",
    "\n",
    "for line in lines[2:]:\n",
    "    base, res = line.split(\" -> \")\n",
    "    transfor[base] = res\n",
    "\n",
    "letters = defaultdict(int)\n",
    "letters.update(Counter(polymer))\n",
    "pairs = [polymer[i:i + 2] for i in range(len(polymer) - 1)]\n",
    "count = Counter(pairs)\n",
    "pairs_count = defaultdict(int)\n",
    "pairs_count.update(count)\n",
    "\n",
    "for _ in range(40):\n",
    "    curr_pairs = pairs_count.keys()\n",
    "    old_pairs_count = pairs_count.copy()\n",
    "    pairs_count = defaultdict(int)\n",
    "\n",
    "    for pair in curr_pairs:\n",
    "        res = transfor[\"\".join(pair)]\n",
    "        letters[res] += old_pairs_count[pair]\n",
    "        pair1 = pair[0] + res\n",
    "        pair2 = res + pair[1]\n",
    "        pairs_count[pair1] += old_pairs_count[pair]\n",
    "        pairs_count[pair2] += old_pairs_count[pair]\n",
    "\n",
    "\n",
    "letters = sorted(letters.items(), key=lambda x: x[1], reverse=True)\n",
    "letters[0][1] - letters[-1][1]\n"
   ]
  }
 ],
 "metadata": {
  "interpreter": {
   "hash": "b893e444e619e70b2cf399b639be411f8879b6bd72449a06e4d1173d8380f2c2"
  },
  "kernelspec": {
   "display_name": "Python 3.8.12 64-bit ('base': conda)",
   "language": "python",
   "name": "python3"
  },
  "language_info": {
   "codemirror_mode": {
    "name": "ipython",
    "version": 3
   },
   "file_extension": ".py",
   "mimetype": "text/x-python",
   "name": "python",
   "nbconvert_exporter": "python",
   "pygments_lexer": "ipython3",
   "version": "3.8.13"
  },
  "orig_nbformat": 4
 },
 "nbformat": 4,
 "nbformat_minor": 2
}
