{
 "cells": [
  {
   "cell_type": "markdown",
   "metadata": {},
   "source": [
    "# Task 1"
   ]
  },
  {
   "cell_type": "code",
   "execution_count": 1,
   "metadata": {},
   "outputs": [
    {
     "data": {
      "text/plain": [
       "1477"
      ]
     },
     "execution_count": 1,
     "metadata": {},
     "output_type": "execute_result"
    }
   ],
   "source": [
    "with open('day 1.txt') as f:\n",
    "    lines = f.readlines()\n",
    "\n",
    "lines = [int(line.strip()) for line in lines]\n",
    "\n",
    "inc = 0\n",
    "for index, depth in enumerate(lines[1:]):\n",
    "    if depth > lines[index]:\n",
    "        inc += 1\n",
    "\n",
    "inc"
   ]
  },
  {
   "cell_type": "markdown",
   "metadata": {},
   "source": [
    "# Task 2"
   ]
  },
  {
   "cell_type": "code",
   "execution_count": 2,
   "metadata": {},
   "outputs": [
    {
     "data": {
      "text/plain": [
       "1475"
      ]
     },
     "execution_count": 2,
     "metadata": {},
     "output_type": "execute_result"
    }
   ],
   "source": [
    "with open('day 1.txt') as f:\n",
    "    lines = f.readlines()\n",
    "\n",
    "lines3 = [line + lines[index + 1] + lines[index + 2] for index, line in enumerate(lines[:-2])]\n",
    "\n",
    "inc = 0\n",
    "for index, depth in enumerate(lines3[1:]):\n",
    "    if depth > lines3[index]:\n",
    "        inc += 1\n",
    "\n",
    "inc"
   ]
  }
 ],
 "metadata": {
  "interpreter": {
   "hash": "b893e444e619e70b2cf399b639be411f8879b6bd72449a06e4d1173d8380f2c2"
  },
  "kernelspec": {
   "display_name": "Python 3.8.12 64-bit ('base': conda)",
   "language": "python",
   "name": "python3"
  },
  "language_info": {
   "codemirror_mode": {
    "name": "ipython",
    "version": 3
   },
   "file_extension": ".py",
   "mimetype": "text/x-python",
   "name": "python",
   "nbconvert_exporter": "python",
   "pygments_lexer": "ipython3",
   "version": "3.8.13"
  },
  "orig_nbformat": 4
 },
 "nbformat": 4,
 "nbformat_minor": 2
}
