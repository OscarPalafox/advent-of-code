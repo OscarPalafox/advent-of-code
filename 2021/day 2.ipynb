{
 "cells": [
  {
   "cell_type": "markdown",
   "metadata": {},
   "source": [
    "# Task 1"
   ]
  },
  {
   "cell_type": "code",
   "execution_count": 1,
   "metadata": {},
   "outputs": [
    {
     "data": {
      "text/plain": [
       "1762050"
      ]
     },
     "execution_count": 1,
     "metadata": {},
     "output_type": "execute_result"
    }
   ],
   "source": [
    "with open('day 2.txt') as f:\n",
    "    lines = f.readlines()\n",
    "\n",
    "lines = [(line.strip().split()[0], int(line.strip().split()[1]))\n",
    "         for line in lines]\n",
    "\n",
    "hor = 0\n",
    "depth = 0\n",
    "\n",
    "for action, unit in lines:\n",
    "    if action == \"forward\":\n",
    "        hor += unit\n",
    "    elif action == \"up\":\n",
    "        depth -= unit\n",
    "    else:\n",
    "        depth += unit\n",
    "\n",
    "hor * depth\n"
   ]
  },
  {
   "cell_type": "markdown",
   "metadata": {},
   "source": [
    "# Task 2"
   ]
  },
  {
   "cell_type": "code",
   "execution_count": 2,
   "metadata": {},
   "outputs": [
    {
     "data": {
      "text/plain": [
       "1855892637"
      ]
     },
     "execution_count": 2,
     "metadata": {},
     "output_type": "execute_result"
    }
   ],
   "source": [
    "with open('day 2.txt') as f:\n",
    "    lines = f.readlines()\n",
    "\n",
    "lines = [(line.strip().split()[0], int(line.strip().split()[1]))\n",
    "         for line in lines]\n",
    "\n",
    "hor = 0\n",
    "depth = 0\n",
    "aim = 0\n",
    "\n",
    "for action, unit in lines:\n",
    "    if action == \"forward\":\n",
    "        hor += unit\n",
    "        depth += unit * aim\n",
    "    elif action == \"up\":\n",
    "        aim -= unit\n",
    "    else:\n",
    "        aim += unit\n",
    "\n",
    "hor * depth\n"
   ]
  }
 ],
 "metadata": {
  "interpreter": {
   "hash": "b893e444e619e70b2cf399b639be411f8879b6bd72449a06e4d1173d8380f2c2"
  },
  "kernelspec": {
   "display_name": "Python 3.8.12 64-bit ('base': conda)",
   "language": "python",
   "name": "python3"
  },
  "language_info": {
   "codemirror_mode": {
    "name": "ipython",
    "version": 3
   },
   "file_extension": ".py",
   "mimetype": "text/x-python",
   "name": "python",
   "nbconvert_exporter": "python",
   "pygments_lexer": "ipython3",
   "version": "3.8.13"
  },
  "orig_nbformat": 4
 },
 "nbformat": 4,
 "nbformat_minor": 2
}
