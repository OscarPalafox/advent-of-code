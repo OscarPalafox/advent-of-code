{
 "cells": [
  {
   "cell_type": "markdown",
   "metadata": {},
   "source": [
    "# Q1"
   ]
  },
  {
   "cell_type": "code",
   "execution_count": 1,
   "metadata": {},
   "outputs": [
    {
     "data": {
      "text/plain": [
       "9445168"
      ]
     },
     "execution_count": 1,
     "metadata": {},
     "output_type": "execute_result"
    }
   ],
   "source": [
    "import itertools\n",
    "\n",
    "\n",
    "def manh_dist(p1: tuple[int, int], p2: tuple[int, int]) -> int:\n",
    "    return abs(p1[0] - p2[0]) + abs(p1[1] - p2[1])\n",
    "\n",
    "\n",
    "raw_map = []\n",
    "\n",
    "with open(\"Day 11.txt\") as f:\n",
    "    while line := f.readline():\n",
    "        raw_map.append(list(line.strip()))\n",
    "\n",
    "empty_rows = []\n",
    "for i in range(len(raw_map)):\n",
    "    if len(objs := set(raw_map[i])) == 1 and objs.pop() == \".\":\n",
    "        empty_rows.append(i)\n",
    "\n",
    "empty_cols = []\n",
    "for j in range(len(raw_map[0])):\n",
    "    objs = {raw_map[i][j] for i in range(len(raw_map))}\n",
    "\n",
    "    if len(objs) == 1 and objs.pop() == \".\":\n",
    "        empty_cols.append(j)\n",
    "\n",
    "for buffer, i in enumerate(empty_rows):\n",
    "    raw_map.insert(i + buffer, [\".\"] * len(raw_map[i]))\n",
    "\n",
    "for buffer, j in enumerate(empty_cols):\n",
    "    for i in range(len(raw_map)):\n",
    "        raw_map[i].insert(j + buffer, \".\")\n",
    "\n",
    "galaxies = []\n",
    "for i in range(len(raw_map)):\n",
    "    for j, cosmic_obj in enumerate(raw_map[i]):\n",
    "        if cosmic_obj == \"#\":\n",
    "            galaxies.append((i, j))\n",
    "\n",
    "\n",
    "galaxy_pairs = itertools.combinations(galaxies, 2)\n",
    "\n",
    "tot_dist = 0\n",
    "for g1, g2 in galaxy_pairs:\n",
    "    tot_dist += manh_dist(g1, g2)\n",
    "\n",
    "tot_dist"
   ]
  },
  {
   "cell_type": "markdown",
   "metadata": {},
   "source": [
    "# Q2"
   ]
  },
  {
   "cell_type": "code",
   "execution_count": 2,
   "metadata": {},
   "outputs": [
    {
     "data": {
      "text/plain": [
       "742305960572"
      ]
     },
     "execution_count": 2,
     "metadata": {},
     "output_type": "execute_result"
    }
   ],
   "source": [
    "import itertools\n",
    "\n",
    "\n",
    "def manh_dist(p1: tuple[int, int], p2: tuple[int, int]) -> int:\n",
    "    return abs(p1[0] - p2[0]) + abs(p1[1] - p2[1])\n",
    "\n",
    "\n",
    "raw_map = []\n",
    "\n",
    "with open(\"Day 11.txt\") as f:\n",
    "    while line := f.readline():\n",
    "        raw_map.append(list(line.strip()))\n",
    "\n",
    "map_coords_obj: dict[tuple[int, int], tuple[tuple[int, int], str]] = {}\n",
    "for i in range(len(raw_map)):\n",
    "    for j, obj in enumerate(raw_map[i]):\n",
    "        map_coords_obj[(i, j)] = ((i, j), obj)\n",
    "\n",
    "empty_rows = []\n",
    "for i in range(len(raw_map)):\n",
    "    if len(objs := set(raw_map[i])) == 1 and objs.pop() == \".\":\n",
    "        empty_rows.append(i)\n",
    "\n",
    "empty_cols = []\n",
    "for j in range(len(raw_map[0])):\n",
    "    objs = {raw_map[i][j] for i in range(len(raw_map))}\n",
    "\n",
    "    if len(objs) == 1 and objs.pop() == \".\":\n",
    "        empty_cols.append(j)\n",
    "\n",
    "expansion_size = 1_000_000 - 1\n",
    "\n",
    "for i in empty_rows:\n",
    "    for j in range(len(raw_map[i])):\n",
    "        for post in range(len(raw_map) - i):\n",
    "            coords, obj = map_coords_obj[(i + post, j)]\n",
    "            map_coords_obj[(i + post, j)] = (\n",
    "                (coords[0] + expansion_size, coords[1]),\n",
    "                obj,\n",
    "            )\n",
    "\n",
    "for j in empty_cols:\n",
    "    for i in range(len(raw_map)):\n",
    "        for post in range(len(raw_map) - j):\n",
    "            coords, obj = map_coords_obj[(i, j + post)]\n",
    "            map_coords_obj[(i, j + post)] = (\n",
    "                (coords[0], coords[1] + expansion_size),\n",
    "                obj,\n",
    "            )\n",
    "\n",
    "galaxies = []\n",
    "for i in range(len(raw_map)):\n",
    "    for j, cosmic_obj in enumerate(raw_map[i]):\n",
    "        if cosmic_obj == \"#\":\n",
    "            galaxies.append((i, j))\n",
    "\n",
    "galaxy_pairs = itertools.combinations(galaxies, 2)\n",
    "\n",
    "tot_dist = 0\n",
    "for g1, g2 in galaxy_pairs:\n",
    "    g1_coords, _ = map_coords_obj[g1]\n",
    "    g2_coords, _ = map_coords_obj[g2]\n",
    "    tot_dist += manh_dist(g1_coords, g2_coords)\n",
    "\n",
    "tot_dist"
   ]
  }
 ],
 "metadata": {
  "kernelspec": {
   "display_name": "Python 3.10.8 64-bit",
   "language": "python",
   "name": "python3"
  },
  "language_info": {
   "codemirror_mode": {
    "name": "ipython",
    "version": 3
   },
   "file_extension": ".py",
   "mimetype": "text/x-python",
   "name": "python",
   "nbconvert_exporter": "python",
   "pygments_lexer": "ipython3",
   "version": "3.11.3"
  },
  "orig_nbformat": 4,
  "vscode": {
   "interpreter": {
    "hash": "b0fa6594d8f4cbf19f97940f81e996739fb7646882a419484c72d19e05852a7e"
   }
  }
 },
 "nbformat": 4,
 "nbformat_minor": 2
}
