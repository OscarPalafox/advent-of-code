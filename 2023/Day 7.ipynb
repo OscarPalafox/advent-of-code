{
 "cells": [
  {
   "cell_type": "markdown",
   "metadata": {},
   "source": [
    "# Q1"
   ]
  },
  {
   "cell_type": "code",
   "execution_count": 1,
   "metadata": {},
   "outputs": [
    {
     "data": {
      "text/plain": [
       "248422077"
      ]
     },
     "execution_count": 1,
     "metadata": {},
     "output_type": "execute_result"
    }
   ],
   "source": [
    "from collections import Counter\n",
    "import functools\n",
    "\n",
    "\n",
    "def identify_type(hand: str) -> int:\n",
    "    count = Counter(hand)\n",
    "    count_values = count.values()\n",
    "\n",
    "    if len(count_values) == 1:\n",
    "        return 7\n",
    "    elif len(count_values) == 2:\n",
    "        if count.most_common()[0][1] == 4:\n",
    "            return 6\n",
    "        else:\n",
    "            return 5\n",
    "    elif len(count_values) == 3:\n",
    "        if count.most_common()[0][1] == 3:\n",
    "            return 4\n",
    "        else:\n",
    "            return 3\n",
    "    elif len(count_values) == 4:\n",
    "        return 2\n",
    "    else:\n",
    "        return 1\n",
    "\n",
    "\n",
    "def compare_hands(hand1: str, hand2: str) -> int:\n",
    "    hand1_type = identify_type(hand1)\n",
    "    hand2_type = identify_type(hand2)\n",
    "\n",
    "    if hand1_type > hand2_type:\n",
    "        return 1\n",
    "    elif hand1_type < hand2_type:\n",
    "        return -1\n",
    "    else:\n",
    "        for card1, card2 in zip(hand1, hand2):\n",
    "            if card_strength[card1] > card_strength[card2]:\n",
    "                return 1\n",
    "            elif card_strength[card1] < card_strength[card2]:\n",
    "                return -1\n",
    "            else:\n",
    "                continue\n",
    "        return 0\n",
    "\n",
    "\n",
    "cards = [\"A\", \"K\", \"Q\", \"J\", \"T\"] + [str(num) for num in range(9, 1, -1)]\n",
    "card_strength = {\n",
    "    cards: strength for strength, cards in enumerate(cards[::-1], start=1)\n",
    "}\n",
    "\n",
    "with open(\"Day 7.txt\") as f:\n",
    "    hands_bets = {}\n",
    "    while line := f.readline():\n",
    "        hand, bet = line.strip().split()\n",
    "        hands_bets[hand] = int(bet)\n",
    "\n",
    "hands_ranked = sorted(\n",
    "    hands_bets.keys(), key=functools.cmp_to_key(compare_hands)\n",
    ")\n",
    "\n",
    "sum(\n",
    "    [hands_bets[hand] * rank for rank, hand in enumerate(hands_ranked, start=1)]\n",
    ")\n"
   ]
  },
  {
   "cell_type": "markdown",
   "metadata": {},
   "source": [
    "# Q2"
   ]
  },
  {
   "cell_type": "code",
   "execution_count": 2,
   "metadata": {},
   "outputs": [
    {
     "data": {
      "text/plain": [
       "249817836"
      ]
     },
     "execution_count": 2,
     "metadata": {},
     "output_type": "execute_result"
    }
   ],
   "source": [
    "from collections import Counter\n",
    "import functools\n",
    "\n",
    "\n",
    "def identify_type(hand: str) -> int:\n",
    "    count = Counter(hand)\n",
    "\n",
    "    sorted_common = [\n",
    "        el\n",
    "        for el in sorted(\n",
    "            count.most_common(),\n",
    "            key=lambda val: card_strength[val[0]],\n",
    "            reverse=True,\n",
    "        )\n",
    "        if el[0] != \"J\"\n",
    "    ]\n",
    "    sorted_common = sorted(sorted_common, key=lambda val: val[1], reverse=True)\n",
    "    sorted_common = \"A\" if not sorted_common else sorted_common\n",
    "\n",
    "    count = Counter(hand.replace(\"J\", sorted_common[0][0]))\n",
    "    count_values = count.values()\n",
    "\n",
    "    if len(count_values) == 1:\n",
    "        return 7\n",
    "    elif len(count_values) == 2:\n",
    "        if count.most_common()[0][1] == 4:\n",
    "            return 6\n",
    "        else:\n",
    "            return 5\n",
    "    elif len(count_values) == 3:\n",
    "        if count.most_common()[0][1] == 3:\n",
    "            return 4\n",
    "        else:\n",
    "            return 3\n",
    "    elif len(count_values) == 4:\n",
    "        return 2\n",
    "    else:\n",
    "        return 1\n",
    "\n",
    "\n",
    "def compare_hands(hand1: str, hand2: str) -> int:\n",
    "    hand1_type = identify_type(hand1)\n",
    "    hand2_type = identify_type(hand2)\n",
    "\n",
    "    if hand1_type > hand2_type:\n",
    "        return 1\n",
    "    elif hand1_type < hand2_type:\n",
    "        return -1\n",
    "    else:\n",
    "        for card1, card2 in zip(hand1, hand2):\n",
    "            if card_strength[card1] > card_strength[card2]:\n",
    "                return 1\n",
    "            elif card_strength[card1] < card_strength[card2]:\n",
    "                return -1\n",
    "            else:\n",
    "                continue\n",
    "        return 0\n",
    "\n",
    "\n",
    "cards = [\"A\", \"K\", \"Q\", \"T\"] + [str(num) for num in range(9, 1, -1)] + [\"J\"]\n",
    "card_strength = {\n",
    "    cards: strength for strength, cards in enumerate(cards[::-1], start=1)\n",
    "}\n",
    "card_strength_nerfed = card_strength | {\"J\": 0}\n",
    "\n",
    "with open(\"Day 7.txt\") as f:\n",
    "    hands_bets = {}\n",
    "    while line := f.readline():\n",
    "        hand, bet = line.strip().split()\n",
    "        hands_bets[hand] = int(bet)\n",
    "\n",
    "hands_ranked = sorted(\n",
    "    hands_bets.keys(), key=functools.cmp_to_key(compare_hands)\n",
    ")\n",
    "sum(\n",
    "    [hands_bets[hand] * rank for rank, hand in enumerate(hands_ranked, start=1)]\n",
    ")\n"
   ]
  }
 ],
 "metadata": {
  "kernelspec": {
   "display_name": "Python 3.10.8 64-bit",
   "language": "python",
   "name": "python3"
  },
  "language_info": {
   "codemirror_mode": {
    "name": "ipython",
    "version": 3
   },
   "file_extension": ".py",
   "mimetype": "text/x-python",
   "name": "python",
   "nbconvert_exporter": "python",
   "pygments_lexer": "ipython3",
   "version": "3.11.3"
  },
  "orig_nbformat": 4,
  "vscode": {
   "interpreter": {
    "hash": "b0fa6594d8f4cbf19f97940f81e996739fb7646882a419484c72d19e05852a7e"
   }
  }
 },
 "nbformat": 4,
 "nbformat_minor": 2
}
