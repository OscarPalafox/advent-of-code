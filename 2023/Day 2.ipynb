{
 "cells": [
  {
   "cell_type": "markdown",
   "metadata": {},
   "source": [
    "# Q1"
   ]
  },
  {
   "cell_type": "code",
   "execution_count": 1,
   "metadata": {},
   "outputs": [
    {
     "data": {
      "text/plain": [
       "2486"
      ]
     },
     "execution_count": 1,
     "metadata": {},
     "output_type": "execute_result"
    }
   ],
   "source": [
    "with open(\"Day 2.txt\") as f:\n",
    "    cubes_rules = {\n",
    "        \"red\": 12,\n",
    "        \"green\": 13,\n",
    "        \"blue\": 14\n",
    "    }\n",
    "\n",
    "    tot_ids = 0\n",
    "\n",
    "    while (line := f.readline()):\n",
    "        line = line.strip()\n",
    "        cubes = {\n",
    "            \"red\": 0,\n",
    "            \"green\": 0,\n",
    "            \"blue\": 0\n",
    "        }\n",
    "\n",
    "        game_str, all_cubes = line.split(\":\")\n",
    "        game_id = int(game_str.split()[1])\n",
    "        cubes_games = [game_cubes.strip().split(\",\") for game_cubes in all_cubes.strip().split(\";\")]\n",
    "\n",
    "        for game in cubes_games:\n",
    "            for drawn_set in game:\n",
    "                num_cubes_str, colour = drawn_set.strip().split()\n",
    "                cubes[colour] = max(int(num_cubes_str), cubes[colour])\n",
    "\n",
    "        possible = True\n",
    "        for colour, num_cubes in cubes.items():\n",
    "            possible &= cubes_rules[colour] >= num_cubes\n",
    "\n",
    "        tot_ids += game_id if possible else 0\n",
    "\n",
    "tot_ids\n"
   ]
  },
  {
   "cell_type": "markdown",
   "metadata": {},
   "source": [
    "# Q2"
   ]
  },
  {
   "cell_type": "code",
   "execution_count": 2,
   "metadata": {},
   "outputs": [
    {
     "data": {
      "text/plain": [
       "87984"
      ]
     },
     "execution_count": 2,
     "metadata": {},
     "output_type": "execute_result"
    }
   ],
   "source": [
    "import math\n",
    "\n",
    "with open(\"Day 2.txt\") as f:\n",
    "    cubes_rules = {\n",
    "        \"red\": 12,\n",
    "        \"green\": 13,\n",
    "        \"blue\": 14\n",
    "    }\n",
    "\n",
    "    tot_power = 0\n",
    "\n",
    "    while (line := f.readline()):\n",
    "        line = line.strip()\n",
    "        cubes = {\n",
    "            \"red\": 0,\n",
    "            \"green\": 0,\n",
    "            \"blue\": 0\n",
    "        }\n",
    "\n",
    "        game_str, all_cubes = line.split(\":\")\n",
    "        game_id = int(game_str.split()[1])\n",
    "        cubes_games = [game_cubes.strip().split(\",\") for game_cubes in all_cubes.strip().split(\";\")]\n",
    "\n",
    "        for game in cubes_games:\n",
    "            for drawn_set in game:\n",
    "                num_cubes_str, colour = drawn_set.strip().split()\n",
    "                cubes[colour] = max(int(num_cubes_str), cubes[colour])\n",
    "\n",
    "        tot_power += math.prod(cubes.values())\n",
    "\n",
    "tot_power\n"
   ]
  }
 ],
 "metadata": {
  "kernelspec": {
   "display_name": "Python 3.10.8 64-bit",
   "language": "python",
   "name": "python3"
  },
  "language_info": {
   "codemirror_mode": {
    "name": "ipython",
    "version": 3
   },
   "file_extension": ".py",
   "mimetype": "text/x-python",
   "name": "python",
   "nbconvert_exporter": "python",
   "pygments_lexer": "ipython3",
   "version": "3.11.3"
  },
  "orig_nbformat": 4,
  "vscode": {
   "interpreter": {
    "hash": "b0fa6594d8f4cbf19f97940f81e996739fb7646882a419484c72d19e05852a7e"
   }
  }
 },
 "nbformat": 4,
 "nbformat_minor": 2
}
