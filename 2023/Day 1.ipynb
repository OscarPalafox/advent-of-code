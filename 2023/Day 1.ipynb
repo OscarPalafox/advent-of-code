{
 "cells": [
  {
   "cell_type": "markdown",
   "metadata": {},
   "source": [
    "# Q1"
   ]
  },
  {
   "cell_type": "code",
   "execution_count": 1,
   "metadata": {},
   "outputs": [
    {
     "data": {
      "text/plain": [
       "53651"
      ]
     },
     "execution_count": 1,
     "metadata": {},
     "output_type": "execute_result"
    }
   ],
   "source": [
    "with open(\"Day 1.txt\") as f:\n",
    "    tot_calibration = 0\n",
    "\n",
    "    while (line := f.readline()):\n",
    "        line = line.strip()\n",
    "\n",
    "        digits = [char for char in line if char.isdigit()]\n",
    "\n",
    "        tot_calibration += int(\"\".join([digits[0], digits[-1]]))\n",
    "\n",
    "tot_calibration\n"
   ]
  },
  {
   "cell_type": "markdown",
   "metadata": {},
   "source": [
    "# Q2"
   ]
  },
  {
   "cell_type": "code",
   "execution_count": 2,
   "metadata": {},
   "outputs": [
    {
     "data": {
      "text/plain": [
       "53894"
      ]
     },
     "execution_count": 2,
     "metadata": {},
     "output_type": "execute_result"
    }
   ],
   "source": [
    "import re\n",
    "\n",
    "letters_digits = {\n",
    "    \"one\": \"1\",\n",
    "    \"two\": \"2\",\n",
    "    \"three\": \"3\",\n",
    "    \"four\": \"4\",\n",
    "    \"five\": \"5\",\n",
    "    \"six\": \"6\",\n",
    "    \"seven\": \"7\",\n",
    "    \"eight\": \"8\",\n",
    "    \"nine\": \"9\"\n",
    "}\n",
    "\n",
    "with open(\"Day 1.txt\") as f:\n",
    "    tot_calibration = 0\n",
    "\n",
    "    while (line := f.readline()):\n",
    "        line = line.strip()\n",
    "\n",
    "        matches = re.finditer(rf\"(?=([1-9]|{'|'.join(letters_digits.keys())}))\", line)\n",
    "\n",
    "        matches = [letters_digits.get(match.group(1), match.group(1)) for match in matches]\n",
    "\n",
    "        tot_calibration += int(\"\".join([matches[0], matches[-1]]))\n",
    "\n",
    "tot_calibration\n"
   ]
  }
 ],
 "metadata": {
  "kernelspec": {
   "display_name": "Python 3.10.8 64-bit",
   "language": "python",
   "name": "python3"
  },
  "language_info": {
   "codemirror_mode": {
    "name": "ipython",
    "version": 3
   },
   "file_extension": ".py",
   "mimetype": "text/x-python",
   "name": "python",
   "nbconvert_exporter": "python",
   "pygments_lexer": "ipython3",
   "version": "3.11.3"
  },
  "orig_nbformat": 4,
  "vscode": {
   "interpreter": {
    "hash": "b0fa6594d8f4cbf19f97940f81e996739fb7646882a419484c72d19e05852a7e"
   }
  }
 },
 "nbformat": 4,
 "nbformat_minor": 2
}
