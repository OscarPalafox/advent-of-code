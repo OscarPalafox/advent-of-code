{
 "cells": [
  {
   "cell_type": "markdown",
   "metadata": {},
   "source": [
    "# Q1"
   ]
  },
  {
   "cell_type": "code",
   "execution_count": 1,
   "metadata": {},
   "outputs": [
    {
     "data": {
      "text/plain": [
       "530495"
      ]
     },
     "execution_count": 1,
     "metadata": {},
     "output_type": "execute_result"
    }
   ],
   "source": [
    "import re\n",
    "\n",
    "from collections import defaultdict\n",
    "\n",
    "with open(\"Day 3.txt\") as f:\n",
    "    line_idx = 0\n",
    "    coords_nums = {}\n",
    "    symbols_coords = defaultdict(list)\n",
    "\n",
    "    tot_parts = 0\n",
    "\n",
    "    while (line := f.readline()):\n",
    "        line = line.strip()\n",
    "        nums_match = [m for m in re.finditer(\"[0-9]*\", line) if m.group(0) != \"\"]\n",
    "\n",
    "        for num_match in nums_match:\n",
    "            for i in range(*num_match.span()):\n",
    "                coords_nums[line_idx, i] = int(num_match.group(0))\n",
    "\n",
    "        for coords_sym in [(line_idx, m.span()[0]) for m in re.finditer(\"(?![0-9.])\", line)][:-1]:\n",
    "            symbols_coords[line_idx].append(coords_sym)\n",
    "\n",
    "        line_idx += 1\n",
    "\n",
    "        for r, c in symbols_coords[line_idx - 2]:\n",
    "            # Check if adjacent numbers\n",
    "            # Top row\n",
    "            t_l = coords_nums.get((r - 1, c - 1), 0)\n",
    "            t_c = coords_nums.get((r - 1, c), 0)\n",
    "            t_r = coords_nums.get((r - 1, c + 1), 0)\n",
    "\n",
    "            if t_l != t_c:\n",
    "                tot_parts += t_l\n",
    "            if t_r != t_c:\n",
    "                tot_parts += t_r\n",
    "            tot_parts += t_c\n",
    "\n",
    "            # Same row\n",
    "            tot_parts += coords_nums.get((r, c - 1), 0)\n",
    "            tot_parts += coords_nums.get((r, c + 1), 0)\n",
    "\n",
    "            # Bot row\n",
    "            b_l = coords_nums.get((r + 1, c - 1), 0)\n",
    "            b_c = coords_nums.get((r + 1, c), 0)\n",
    "            b_r = coords_nums.get((r + 1, c + 1), 0)\n",
    "\n",
    "            if b_l != b_c:\n",
    "                tot_parts += b_l\n",
    "            if b_r != b_c:\n",
    "                tot_parts += b_r\n",
    "            tot_parts += b_c\n",
    "\n",
    "            a = 1\n",
    "\n",
    "tot_parts\n"
   ]
  },
  {
   "cell_type": "markdown",
   "metadata": {},
   "source": [
    "# Q2"
   ]
  },
  {
   "cell_type": "code",
   "execution_count": 2,
   "metadata": {},
   "outputs": [
    {
     "data": {
      "text/plain": [
       "80253814"
      ]
     },
     "execution_count": 2,
     "metadata": {},
     "output_type": "execute_result"
    }
   ],
   "source": [
    "import re\n",
    "\n",
    "from collections import defaultdict\n",
    "\n",
    "with open(\"Day 3.txt\") as f:\n",
    "    line_idx = 0\n",
    "    coords_nums = {}\n",
    "    symbols_coords = defaultdict(list)\n",
    "\n",
    "    tot_parts = 0\n",
    "\n",
    "    while (line := f.readline()):\n",
    "        line = line.strip()\n",
    "        nums_match = [m for m in re.finditer(\"[0-9]*\", line) if m.group(0) != \"\"]\n",
    "\n",
    "        for num_match in nums_match:\n",
    "            for i in range(*num_match.span()):\n",
    "                coords_nums[line_idx, i] = int(num_match.group(0))\n",
    "\n",
    "        for coords_sym in [(line_idx, m.span()[0]) for m in re.finditer(r\"\\*\", line)]:\n",
    "            symbols_coords[line_idx].append(coords_sym)\n",
    "\n",
    "        line_idx += 1\n",
    "\n",
    "        for r, c in symbols_coords[line_idx - 2]:\n",
    "            multipliers = []\n",
    "            # Check if adjacent numbers\n",
    "            # Top row\n",
    "            t_l = coords_nums.get((r - 1, c - 1), 0)\n",
    "            t_c = coords_nums.get((r - 1, c), 0)\n",
    "            t_r = coords_nums.get((r - 1, c + 1), 0)\n",
    "\n",
    "            if t_l != t_c:\n",
    "                multipliers.append(t_l)\n",
    "            if t_r != t_c:\n",
    "                multipliers.append(t_r)\n",
    "\n",
    "            if t_c:\n",
    "                multipliers.append(t_c)\n",
    "\n",
    "            # Same row\n",
    "            c_l = coords_nums.get((r, c - 1), 0)\n",
    "            if c_l:\n",
    "                multipliers.append(c_l)\n",
    "\n",
    "            c_r = coords_nums.get((r, c + 1), 0)\n",
    "            if c_r:\n",
    "                multipliers.append(c_r)\n",
    "\n",
    "            # Bot row\n",
    "            b_l = coords_nums.get((r + 1, c - 1), 0)\n",
    "            b_c = coords_nums.get((r + 1, c), 0)\n",
    "            b_r = coords_nums.get((r + 1, c + 1), 0)\n",
    "\n",
    "            if b_l != b_c:\n",
    "                multipliers.append(b_l)\n",
    "            if b_r != b_c:\n",
    "                multipliers.append(b_r)\n",
    "\n",
    "            if b_c:\n",
    "                multipliers.append(b_c)\n",
    "\n",
    "\n",
    "            multipliers = [m for m in multipliers if m != 0]\n",
    "            if len(multipliers) == 2:\n",
    "                tot_parts += multipliers[0] * multipliers[1]\n",
    "\n",
    "tot_parts\n"
   ]
  }
 ],
 "metadata": {
  "kernelspec": {
   "display_name": "Python 3.10.8 64-bit",
   "language": "python",
   "name": "python3"
  },
  "language_info": {
   "codemirror_mode": {
    "name": "ipython",
    "version": 3
   },
   "file_extension": ".py",
   "mimetype": "text/x-python",
   "name": "python",
   "nbconvert_exporter": "python",
   "pygments_lexer": "ipython3",
   "version": "3.11.3"
  },
  "orig_nbformat": 4,
  "vscode": {
   "interpreter": {
    "hash": "b0fa6594d8f4cbf19f97940f81e996739fb7646882a419484c72d19e05852a7e"
   }
  }
 },
 "nbformat": 4,
 "nbformat_minor": 2
}
