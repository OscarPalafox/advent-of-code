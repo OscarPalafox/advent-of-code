{
 "cells": [
  {
   "cell_type": "markdown",
   "metadata": {},
   "source": [
    "# Q1"
   ]
  },
  {
   "cell_type": "code",
   "execution_count": 1,
   "metadata": {},
   "outputs": [
    {
     "data": {
      "text/plain": [
       "17873"
      ]
     },
     "execution_count": 1,
     "metadata": {},
     "output_type": "execute_result"
    }
   ],
   "source": [
    "with open(\"Day 8.txt\") as f:\n",
    "    moves = list(f.readline().strip())\n",
    "    f.readline()\n",
    "    coords = {}\n",
    "\n",
    "    while line := f.readline():\n",
    "        src, dests = line.strip().split(\"=\")\n",
    "        l, r = dests.replace(\"(\", \"\").replace(\")\", \"\").split(\",\")\n",
    "        coords[src.strip()] = {\"L\": l.strip(), \"R\": r.strip()}\n",
    "\n",
    "curr_node = \"AAA\"\n",
    "move_idx = 0\n",
    "steps = 0\n",
    "\n",
    "while curr_node != \"ZZZ\":\n",
    "    curr_node = coords[curr_node][moves[move_idx]]\n",
    "\n",
    "    move_idx += 1\n",
    "    steps += 1\n",
    "\n",
    "    if move_idx == len(moves):\n",
    "        move_idx = 0\n",
    "\n",
    "\n",
    "steps"
   ]
  },
  {
   "cell_type": "markdown",
   "metadata": {},
   "source": [
    "# Q2"
   ]
  },
  {
   "cell_type": "code",
   "execution_count": 2,
   "metadata": {},
   "outputs": [
    {
     "data": {
      "text/plain": [
       "15746133679061"
      ]
     },
     "execution_count": 2,
     "metadata": {},
     "output_type": "execute_result"
    }
   ],
   "source": [
    "import math\n",
    "\n",
    "curr_nodes = []\n",
    "\n",
    "with open(\"Day 8.txt\") as f:\n",
    "    moves = list(f.readline().strip())\n",
    "    f.readline()\n",
    "    coords = {}\n",
    "\n",
    "    while line := f.readline():\n",
    "        src, dests = line.strip().split(\"=\")\n",
    "        src = src.strip()\n",
    "        l, r = dests.replace(\"(\", \"\").replace(\")\", \"\").split(\",\")\n",
    "        coords[src] = {\"L\": l.strip(), \"R\": r.strip()}\n",
    "\n",
    "        if src.endswith(\"A\"):\n",
    "            curr_nodes.append(src)\n",
    "\n",
    "move_idx = 0\n",
    "start_nodes = list(curr_nodes)\n",
    "steps_all = []\n",
    "\n",
    "for curr_node in curr_nodes:\n",
    "    steps_node = 0\n",
    "    while not curr_node.endswith(\"Z\"):\n",
    "        curr_node = coords[curr_node][moves[move_idx]]\n",
    "        move_idx += 1\n",
    "        steps_node += 1\n",
    "\n",
    "        if move_idx == len(moves):\n",
    "            move_idx = 0\n",
    "\n",
    "\n",
    "    steps_all.append(steps_node)\n",
    "\n",
    "    move_idx = 0\n",
    "    steps_node = 0\n",
    "\n",
    "math.lcm(*steps_all)"
   ]
  }
 ],
 "metadata": {
  "kernelspec": {
   "display_name": "Python 3.10.8 64-bit",
   "language": "python",
   "name": "python3"
  },
  "language_info": {
   "codemirror_mode": {
    "name": "ipython",
    "version": 3
   },
   "file_extension": ".py",
   "mimetype": "text/x-python",
   "name": "python",
   "nbconvert_exporter": "python",
   "pygments_lexer": "ipython3",
   "version": "3.11.3"
  },
  "orig_nbformat": 4,
  "vscode": {
   "interpreter": {
    "hash": "b0fa6594d8f4cbf19f97940f81e996739fb7646882a419484c72d19e05852a7e"
   }
  }
 },
 "nbformat": 4,
 "nbformat_minor": 2
}
