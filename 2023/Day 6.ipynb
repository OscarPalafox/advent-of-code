{
 "cells": [
  {
   "cell_type": "markdown",
   "metadata": {},
   "source": [
    "# Q1"
   ]
  },
  {
   "cell_type": "code",
   "execution_count": 1,
   "metadata": {},
   "outputs": [
    {
     "name": "stdout",
     "output_type": "stream",
     "text": [
      "1108800\n"
     ]
    }
   ],
   "source": [
    "import math\n",
    "\n",
    "def get_range(time: int, record: int) -> int:\n",
    "    low_limit = (-time + math.sqrt(time**2 - (4 * 1 * record))) / -2\n",
    "    upper_limit = (-time - math.sqrt(time**2 - (4 * 1 * record))) / -2\n",
    "\n",
    "    if low_limit == math.ceil(low_limit):\n",
    "        low_limit += 1\n",
    "\n",
    "    if upper_limit == math.floor(upper_limit):\n",
    "        upper_limit -= 1\n",
    "\n",
    "    return math.floor(upper_limit) + 1 - math.ceil(low_limit)\n",
    "\n",
    "with open(\"Day 6.txt\") as f:\n",
    "    times, records = [[int(el) for el in line.split(\":\")[1].strip().split()] for line in f.readlines()]\n",
    "\n",
    "    print(math.prod([get_range(time, record) for time, record in zip(times, records)]))\n"
   ]
  },
  {
   "cell_type": "markdown",
   "metadata": {},
   "source": [
    "# Q2"
   ]
  },
  {
   "cell_type": "code",
   "execution_count": 2,
   "metadata": {},
   "outputs": [
    {
     "name": "stdout",
     "output_type": "stream",
     "text": [
      "36919753\n"
     ]
    }
   ],
   "source": [
    "import math\n",
    "\n",
    "def get_range(time: int, record: int) -> int:\n",
    "    low_limit = (-time + math.sqrt(time**2 - (4 * 1 * record))) / -2\n",
    "    upper_limit = (-time - math.sqrt(time**2 - (4 * 1 * record))) / -2\n",
    "\n",
    "    if low_limit == math.ceil(low_limit):\n",
    "        low_limit += 1\n",
    "\n",
    "    if upper_limit == math.floor(upper_limit):\n",
    "        upper_limit -= 1\n",
    "\n",
    "    return math.floor(upper_limit) + 1 - math.ceil(low_limit)\n",
    "\n",
    "with open(\"Day 6.txt\") as f:\n",
    "    time, record = [int(\"\".join(line.split(\":\")[1].strip().split())) for line in f.readlines()]\n",
    "\n",
    "    print(get_range(time, record))\n"
   ]
  }
 ],
 "metadata": {
  "kernelspec": {
   "display_name": "Python 3.10.8 64-bit",
   "language": "python",
   "name": "python3"
  },
  "language_info": {
   "codemirror_mode": {
    "name": "ipython",
    "version": 3
   },
   "file_extension": ".py",
   "mimetype": "text/x-python",
   "name": "python",
   "nbconvert_exporter": "python",
   "pygments_lexer": "ipython3",
   "version": "3.11.3"
  },
  "orig_nbformat": 4,
  "vscode": {
   "interpreter": {
    "hash": "b0fa6594d8f4cbf19f97940f81e996739fb7646882a419484c72d19e05852a7e"
   }
  }
 },
 "nbformat": 4,
 "nbformat_minor": 2
}
