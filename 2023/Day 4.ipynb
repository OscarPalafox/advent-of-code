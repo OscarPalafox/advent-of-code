{
 "cells": [
  {
   "cell_type": "markdown",
   "metadata": {},
   "source": [
    "# Q1"
   ]
  },
  {
   "cell_type": "code",
   "execution_count": 1,
   "metadata": {},
   "outputs": [
    {
     "data": {
      "text/plain": [
       "15205"
      ]
     },
     "execution_count": 1,
     "metadata": {},
     "output_type": "execute_result"
    }
   ],
   "source": [
    "with open(\"Day 4.txt\") as f:\n",
    "    pile = 0\n",
    "\n",
    "    while (line := f.readline()):\n",
    "        line = line.strip()\n",
    "        numbers = line.split(\":\")[1]\n",
    "        winning_numbers, chosen_numbers = numbers.split(\"|\")\n",
    "        winning_numbers = {int(num.strip()) for num in winning_numbers.split()}\n",
    "        chosen_numbers = {int(num.strip()) for num in chosen_numbers.split()}\n",
    "\n",
    "        count_winning_chosen = len(winning_numbers.intersection(chosen_numbers))\n",
    "        pile += 2 ** (count_winning_chosen - 1) if count_winning_chosen else 0\n",
    "\n",
    "\n",
    "pile\n"
   ]
  },
  {
   "cell_type": "markdown",
   "metadata": {},
   "source": [
    "# Q2"
   ]
  },
  {
   "cell_type": "code",
   "execution_count": 2,
   "metadata": {},
   "outputs": [
    {
     "data": {
      "text/plain": [
       "6189739"
      ]
     },
     "execution_count": 2,
     "metadata": {},
     "output_type": "execute_result"
    }
   ],
   "source": [
    "from collections import defaultdict\n",
    "\n",
    "with open(\"Day 4.txt\") as f:\n",
    "    scratch_winnings = defaultdict(lambda: 1)\n",
    "\n",
    "    while (line := f.readline()):\n",
    "        line = line.strip()\n",
    "        card, numbers = line.split(\":\")\n",
    "        curr_card_id = int(card.split()[1])\n",
    "        winning_numbers, chosen_numbers = numbers.split(\"|\")\n",
    "        winning_numbers = {int(num.strip()) for num in winning_numbers.split()}\n",
    "        chosen_numbers = {int(num.strip()) for num in chosen_numbers.split()}\n",
    "\n",
    "        count_winning_chosen = len(winning_numbers.intersection(chosen_numbers))\n",
    "        for i in range(curr_card_id + 1, curr_card_id + count_winning_chosen + 1):\n",
    "            scratch_winnings[i] += 1 * scratch_winnings[curr_card_id]\n",
    "\n",
    "\n",
    "sum(scratch_winnings.values())\n"
   ]
  }
 ],
 "metadata": {
  "kernelspec": {
   "display_name": "Python 3.10.8 64-bit",
   "language": "python",
   "name": "python3"
  },
  "language_info": {
   "codemirror_mode": {
    "name": "ipython",
    "version": 3
   },
   "file_extension": ".py",
   "mimetype": "text/x-python",
   "name": "python",
   "nbconvert_exporter": "python",
   "pygments_lexer": "ipython3",
   "version": "3.11.3"
  },
  "orig_nbformat": 4,
  "vscode": {
   "interpreter": {
    "hash": "b0fa6594d8f4cbf19f97940f81e996739fb7646882a419484c72d19e05852a7e"
   }
  }
 },
 "nbformat": 4,
 "nbformat_minor": 2
}
