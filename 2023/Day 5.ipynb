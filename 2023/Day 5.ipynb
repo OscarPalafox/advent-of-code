{
 "cells": [
  {
   "cell_type": "markdown",
   "metadata": {},
   "source": [
    "# Q1"
   ]
  },
  {
   "cell_type": "code",
   "execution_count": 1,
   "metadata": {},
   "outputs": [
    {
     "name": "stdout",
     "output_type": "stream",
     "text": [
      "84470622\n"
     ]
    }
   ],
   "source": [
    "import io\n",
    "\n",
    "def make_rules(f: io.TextIOWrapper) -> list[tuple[int, int, int]]:\n",
    "    rules = []\n",
    "    while (line := f.readline().strip()):\n",
    "        dest, src, range_size = (int(el.strip()) for el in line.split())\n",
    "        rules.append((src, src + range_size, dest - src))\n",
    "\n",
    "    return rules\n",
    "\n",
    "def apply_rules(nums: list[int], rules: list[tuple[int, int, int]]):\n",
    "    new_nums = list(nums)\n",
    "\n",
    "    for i, num in enumerate(new_nums):\n",
    "        for min_rule, max_rule, diff in rules:\n",
    "            if min_rule <= num < max_rule:\n",
    "                new_nums[i] += diff\n",
    "    return new_nums\n",
    "\n",
    "\n",
    "def skip_lines(f: io.TextIOWrapper, lines: int):\n",
    "    [f.readline() for _ in range(lines)]\n",
    "\n",
    "\n",
    "with open(\"Day 5.txt\") as f:\n",
    "    seeds = [int(s.strip()) for s in f.readline().split(\":\")[1].strip().split()]\n",
    "\n",
    "    skip_lines(f, 2)\n",
    "    seed_to_soil_rules = make_rules(f)\n",
    "    soils = apply_rules(seeds, seed_to_soil_rules)\n",
    "\n",
    "    skip_lines(f, 1)\n",
    "    soil_to_fertilizer_rules = make_rules(f)\n",
    "    fertilizers = apply_rules(soils, soil_to_fertilizer_rules)\n",
    "\n",
    "    skip_lines(f, 1)\n",
    "    fertilizer_to_water_rules = make_rules(f)\n",
    "    waters = apply_rules(fertilizers, fertilizer_to_water_rules)\n",
    "\n",
    "    skip_lines(f, 1)\n",
    "    water_to_light_rules = make_rules(f)\n",
    "    lights = apply_rules(waters, water_to_light_rules)\n",
    "\n",
    "    skip_lines(f, 1)\n",
    "    light_to_temp_rules = make_rules(f)\n",
    "    temps = apply_rules(lights, light_to_temp_rules)\n",
    "\n",
    "    skip_lines(f, 1)\n",
    "    temp_to_humid_rules = make_rules(f)\n",
    "    humids = apply_rules(temps, temp_to_humid_rules)\n",
    "\n",
    "    skip_lines(f, 1)\n",
    "    humid_to_location_rules = make_rules(f)\n",
    "    locations = apply_rules(humids, humid_to_location_rules)\n",
    "\n",
    "    print(min(locations))\n"
   ]
  },
  {
   "cell_type": "markdown",
   "metadata": {},
   "source": [
    "# Q2"
   ]
  },
  {
   "cell_type": "code",
   "execution_count": 2,
   "metadata": {},
   "outputs": [
    {
     "name": "stdout",
     "output_type": "stream",
     "text": [
      "26714516\n"
     ]
    }
   ],
   "source": [
    "import io\n",
    "\n",
    "def make_rules(f: io.TextIOWrapper) -> list[tuple[int, int, int]]:\n",
    "    rules = []\n",
    "    while (line := f.readline().strip()):\n",
    "        dest, src, range_size = (int(el.strip()) for el in line.split())\n",
    "        rules.append((src, src + range_size, dest - src))\n",
    "\n",
    "    return rules\n",
    "\n",
    "def apply_rules(nums: list[tuple[int, int]], rules: list[tuple[int, int, int]]):\n",
    "    new_nums = []\n",
    "\n",
    "    i = 0\n",
    "    while i < len(nums):\n",
    "        num, length_range = nums[i]\n",
    "        applied_rule = False\n",
    "        for min_rule, max_rule, diff in rules:\n",
    "            if min_rule <= num + length_range - 1 < max_rule:\n",
    "                applied_rule = True\n",
    "                if num < min_rule:\n",
    "                    nums.insert(i + 1, (num, min_rule - num))\n",
    "                    new_nums.append((min_rule + diff, length_range - (min_rule - num)))\n",
    "                else:\n",
    "                    new_nums.append((num + diff, length_range))\n",
    "                break\n",
    "            elif min_rule <= num < max_rule:\n",
    "                new_nums.append((num + diff, max_rule - num))\n",
    "                nums.insert(i + 1, (max_rule, num + length_range - max_rule))\n",
    "                applied_rule = True\n",
    "                break\n",
    "            elif num + length_range - 1 >= min_rule and num < max_rule:\n",
    "                nums.insert(i + 1, (num, min_rule - num))\n",
    "                new_nums.append((min_rule + diff, max_rule - min_rule))\n",
    "                nums.insert(i + 1, (max_rule, num + length_range - max_rule))\n",
    "\n",
    "        if not applied_rule:\n",
    "            new_nums.append((num, length_range))\n",
    "        i += 1\n",
    "    return new_nums\n",
    "\n",
    "\n",
    "def skip_lines(f: io.TextIOWrapper, lines: int):\n",
    "    [f.readline() for _ in range(lines)]\n",
    "\n",
    "\n",
    "with open(\"Day 5.txt\") as f:\n",
    "    seeds_all = [int(s.strip()) for s in f.readline().split(\":\")[1].strip().split()]\n",
    "    seeds = [(start, length_range) for start, length_range in zip(seeds_all[::2], seeds_all[1::2])]\n",
    "\n",
    "    skip_lines(f, 2)\n",
    "    seed_to_soil_rules = make_rules(f)\n",
    "    # print(seed_to_soil_rules)\n",
    "    soils = apply_rules(seeds, seed_to_soil_rules)\n",
    "\n",
    "    skip_lines(f, 1)\n",
    "    soil_to_fertilizer_rules = make_rules(f)\n",
    "    # print(soil_to_fertilizer_rules)\n",
    "    fertilizers = apply_rules(soils, soil_to_fertilizer_rules)\n",
    "\n",
    "    skip_lines(f, 1)\n",
    "    fertilizer_to_water_rules = make_rules(f)\n",
    "    # print(fertilizer_to_water_rules)\n",
    "    waters = apply_rules(fertilizers, fertilizer_to_water_rules)\n",
    "\n",
    "    skip_lines(f, 1)\n",
    "    water_to_light_rules = make_rules(f)\n",
    "    # print(water_to_light_rules)\n",
    "    lights = apply_rules(waters, water_to_light_rules)\n",
    "\n",
    "    skip_lines(f, 1)\n",
    "    light_to_temp_rules = make_rules(f)\n",
    "    # print(light_to_temp_rules)\n",
    "    temps = apply_rules(lights, light_to_temp_rules)\n",
    "\n",
    "    skip_lines(f, 1)\n",
    "    temp_to_humid_rules = make_rules(f)\n",
    "    # print(temp_to_humid_rules)\n",
    "    humids = apply_rules(temps, temp_to_humid_rules)\n",
    "\n",
    "    skip_lines(f, 1)\n",
    "    humid_to_location_rules = make_rules(f)\n",
    "    locations = apply_rules(humids, humid_to_location_rules)\n",
    "\n",
    "    print(min(locations)[0])\n"
   ]
  }
 ],
 "metadata": {
  "kernelspec": {
   "display_name": "Python 3.10.8 64-bit",
   "language": "python",
   "name": "python3"
  },
  "language_info": {
   "codemirror_mode": {
    "name": "ipython",
    "version": 3
   },
   "file_extension": ".py",
   "mimetype": "text/x-python",
   "name": "python",
   "nbconvert_exporter": "python",
   "pygments_lexer": "ipython3",
   "version": "3.11.3"
  },
  "orig_nbformat": 4,
  "vscode": {
   "interpreter": {
    "hash": "b0fa6594d8f4cbf19f97940f81e996739fb7646882a419484c72d19e05852a7e"
   }
  }
 },
 "nbformat": 4,
 "nbformat_minor": 2
}
