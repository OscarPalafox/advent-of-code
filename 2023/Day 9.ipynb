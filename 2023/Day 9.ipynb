{
 "cells": [
  {
   "cell_type": "markdown",
   "metadata": {},
   "source": [
    "# Q1"
   ]
  },
  {
   "cell_type": "code",
   "execution_count": 1,
   "metadata": {},
   "outputs": [
    {
     "data": {
      "text/plain": [
       "1806615041"
      ]
     },
     "execution_count": 1,
     "metadata": {},
     "output_type": "execute_result"
    }
   ],
   "source": [
    "with open(\"Day 9.txt\") as f:\n",
    "    tot_diffs = 0\n",
    "\n",
    "    while line := f.readline():\n",
    "        vals = [int(val) for val in line.strip().split()]\n",
    "        last_vals = []\n",
    "        diffs = list(vals)\n",
    "\n",
    "        while any(diffs):\n",
    "            last_vals.append(diffs[-1])\n",
    "            diffs = [diffs[i + 1] - val for i, val in enumerate(diffs[:-1])]\n",
    "\n",
    "        tot_diffs += diffs[-1] + sum(last_vals)\n",
    "\n",
    "tot_diffs"
   ]
  },
  {
   "cell_type": "markdown",
   "metadata": {},
   "source": [
    "# Q2"
   ]
  },
  {
   "cell_type": "code",
   "execution_count": 2,
   "metadata": {},
   "outputs": [
    {
     "data": {
      "text/plain": [
       "1211"
      ]
     },
     "execution_count": 2,
     "metadata": {},
     "output_type": "execute_result"
    }
   ],
   "source": [
    "def cum_sub(nums: list[int]) -> int:\n",
    "    tot = 0\n",
    "\n",
    "    for num in nums:\n",
    "        tot = num - tot\n",
    "\n",
    "    return tot\n",
    "\n",
    "with open(\"Day 9.txt\") as f:\n",
    "    tot_diffs = 0\n",
    "\n",
    "    while line := f.readline():\n",
    "        vals = [int(val) for val in line.strip().split()]\n",
    "        first_vals = []\n",
    "        diffs = list(vals)\n",
    "\n",
    "        while any(diffs):\n",
    "            first_vals.append(diffs[0])\n",
    "            diffs = [diffs[i + 1] - val for i, val in enumerate(diffs[:-1])]\n",
    "\n",
    "        tot_diffs += cum_sub(first_vals[::-1])\n",
    "\n",
    "tot_diffs"
   ]
  }
 ],
 "metadata": {
  "kernelspec": {
   "display_name": "Python 3.10.8 64-bit",
   "language": "python",
   "name": "python3"
  },
  "language_info": {
   "codemirror_mode": {
    "name": "ipython",
    "version": 3
   },
   "file_extension": ".py",
   "mimetype": "text/x-python",
   "name": "python",
   "nbconvert_exporter": "python",
   "pygments_lexer": "ipython3",
   "version": "3.11.3"
  },
  "orig_nbformat": 4,
  "vscode": {
   "interpreter": {
    "hash": "b0fa6594d8f4cbf19f97940f81e996739fb7646882a419484c72d19e05852a7e"
   }
  }
 },
 "nbformat": 4,
 "nbformat_minor": 2
}
