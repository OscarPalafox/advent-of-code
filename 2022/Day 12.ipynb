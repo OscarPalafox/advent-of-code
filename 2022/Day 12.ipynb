{
 "cells": [
  {
   "attachments": {},
   "cell_type": "markdown",
   "metadata": {},
   "source": [
    "# Q1"
   ]
  },
  {
   "cell_type": "code",
   "execution_count": 47,
   "metadata": {},
   "outputs": [
    {
     "data": {
      "text/plain": [
       "504"
      ]
     },
     "execution_count": 47,
     "metadata": {},
     "output_type": "execute_result"
    }
   ],
   "source": [
    "import networkx as nx\n",
    "import numpy as np\n",
    "import matplotlib.pyplot as plt\n",
    "\n",
    "with open(\"Day 12.txt\") as f:\n",
    "    el_map = np.array([list(line.strip()) for line in f.readlines()])\n",
    "\n",
    "graph = nx.DiGraph()\n",
    "rows, cols = el_map.shape\n",
    "\n",
    "start = tuple([item for subarray in np.where(el_map == \"S\") for item in subarray])\n",
    "el_map[start] = \"a\"\n",
    "end = tuple([item for subarray in np.where(el_map == \"E\") for item in subarray])\n",
    "el_map[end] = \"z\"\n",
    "\n",
    "for i in range(rows):\n",
    "    for j in range(cols):\n",
    "        node = el_map[i, j]\n",
    "        surr = [(i - 1, j), (i, j + 1), (i + 1, j), (i, j - 1)]\n",
    "\n",
    "        for coord in surr:\n",
    "            if min(coord) >= 0 and coord[0] < rows and coord[1] < cols:\n",
    "                if ord(node) + 1 >= ord(el_map[coord]):\n",
    "                    graph.add_edge((i, j), coord)\n",
    "\n",
    "\n",
    "len(nx.dijkstra_path(graph, start, end)) - 1"
   ]
  },
  {
   "attachments": {},
   "cell_type": "markdown",
   "metadata": {},
   "source": [
    "# Q2"
   ]
  },
  {
   "cell_type": "code",
   "execution_count": 72,
   "metadata": {},
   "outputs": [
    {
     "data": {
      "text/plain": [
       "500"
      ]
     },
     "execution_count": 72,
     "metadata": {},
     "output_type": "execute_result"
    }
   ],
   "source": [
    "import networkx as nx\n",
    "import numpy as np\n",
    "import matplotlib.pyplot as plt\n",
    "\n",
    "with open(\"Day 12.txt\") as f:\n",
    "    el_map = np.array([list(line.strip()) for line in f.readlines()])\n",
    "\n",
    "graph = nx.DiGraph()\n",
    "rows, cols = el_map.shape\n",
    "\n",
    "start = tuple([item for subarray in np.where(el_map == \"S\") for item in subarray])\n",
    "el_map[start] = \"a\"\n",
    "end = tuple([item for subarray in np.where(el_map == \"E\") for item in subarray])\n",
    "el_map[end] = \"z\"\n",
    "\n",
    "for i in range(rows):\n",
    "    for j in range(cols):\n",
    "        node = el_map[i, j]\n",
    "        surr = [(i - 1, j), (i, j + 1), (i + 1, j), (i, j - 1)]\n",
    "\n",
    "        for coord in surr:\n",
    "            if min(coord) >= 0 and coord[0] < rows and coord[1] < cols:\n",
    "                if ord(node) + 1 >= ord(el_map[coord]):\n",
    "                    graph.add_edge((i, j), coord)\n",
    "\n",
    "len_paths = []\n",
    "for i in range((start_coords := np.array(np.where(el_map == \"a\"))).shape[1]):\n",
    "    try:\n",
    "        len_paths.append(len(nx.dijkstra_path(graph, tuple(start_coords[:, i]), end)) - 1)\n",
    "    except:\n",
    "        continue\n",
    "\n",
    "min(len_paths)"
   ]
  }
 ],
 "metadata": {
  "kernelspec": {
   "display_name": "Python 3",
   "language": "python",
   "name": "python3"
  },
  "language_info": {
   "codemirror_mode": {
    "name": "ipython",
    "version": 3
   },
   "file_extension": ".py",
   "mimetype": "text/x-python",
   "name": "python",
   "nbconvert_exporter": "python",
   "pygments_lexer": "ipython3",
   "version": "3.10.8 (main, Oct 13 2022, 09:48:40) [Clang 14.0.0 (clang-1400.0.29.102)]"
  },
  "orig_nbformat": 4,
  "vscode": {
   "interpreter": {
    "hash": "b0fa6594d8f4cbf19f97940f81e996739fb7646882a419484c72d19e05852a7e"
   }
  }
 },
 "nbformat": 4,
 "nbformat_minor": 2
}
