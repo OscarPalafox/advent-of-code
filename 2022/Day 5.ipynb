{
 "cells": [
  {
   "cell_type": "markdown",
   "metadata": {},
   "source": [
    "# Q1"
   ]
  },
  {
   "cell_type": "code",
   "execution_count": 1,
   "metadata": {},
   "outputs": [
    {
     "data": {
      "text/plain": [
       "'BZLVHBWQF'"
      ]
     },
     "execution_count": 1,
     "metadata": {},
     "output_type": "execute_result"
    }
   ],
   "source": [
    "import re\n",
    "from collections import defaultdict\n",
    "\n",
    "regex_end_crates = r\"^ [0-9]\"\n",
    "crates = defaultdict(list)\n",
    "commands = False\n",
    "\n",
    "with open(\"Day 5.txt\") as f:\n",
    "    while (line := f.readline()):\n",
    "        if re.match(regex_end_crates, line):\n",
    "            commands = True\n",
    "            f.readline()\n",
    "        elif commands:\n",
    "            num_crates, source, dest = (int(x) for x in re.sub(r\"[a-z]\", \"\", line).strip().split())\n",
    "\n",
    "            for _ in range(num_crates):\n",
    "                crates[dest].insert(0, crates[source].pop(0))\n",
    "        else:\n",
    "            row = [re.sub(r\"( )|(\\[|\\])\", \"\", line[4*i:3*(i+1) + i]) for i in range(len(line) // 3)]\n",
    "\n",
    "            for i, el in enumerate(row):\n",
    "                if el:\n",
    "                    crates[i + 1].append(el)\n",
    "\n",
    "top_crates = \"\"\n",
    "\n",
    "for keys in sorted(crates.keys()):\n",
    "    top_crates += crates[keys].pop(0)\n",
    "\n",
    "top_crates"
   ]
  },
  {
   "cell_type": "markdown",
   "metadata": {},
   "source": [
    "# Q2"
   ]
  },
  {
   "cell_type": "code",
   "execution_count": 2,
   "metadata": {},
   "outputs": [
    {
     "data": {
      "text/plain": [
       "'TDGJQTZSL'"
      ]
     },
     "execution_count": 2,
     "metadata": {},
     "output_type": "execute_result"
    }
   ],
   "source": [
    "import re\n",
    "from collections import defaultdict\n",
    "\n",
    "regex_end_crates = r\"^ [0-9]\"\n",
    "crates = defaultdict(list)\n",
    "commands = False\n",
    "\n",
    "with open(\"Day 5.txt\") as f:\n",
    "    while (line := f.readline()):\n",
    "        if re.match(regex_end_crates, line):\n",
    "            commands = True\n",
    "            f.readline()\n",
    "        elif commands:\n",
    "            num_crates, source, dest = (int(x) for x in re.sub(r\"[a-z]\", \"\", line).strip().split())\n",
    "            crates[dest] = [crates[source].pop(0) for _ in range(num_crates)] + crates[dest]\n",
    "        else:\n",
    "            row = [re.sub(r\"( )|(\\[|\\])\", \"\", line[4*i:3*(i+1) + i]) for i in range(len(line) // 3)]\n",
    "\n",
    "            for i, el in enumerate(row):\n",
    "                if el:\n",
    "                    crates[i + 1].append(el)\n",
    "\n",
    "top_crates = \"\"\n",
    "\n",
    "for keys in sorted(crates.keys()):\n",
    "    top_crates += crates[keys].pop(0)\n",
    "\n",
    "top_crates"
   ]
  }
 ],
 "metadata": {
  "kernelspec": {
   "display_name": "Python 3.10.8 64-bit",
   "language": "python",
   "name": "python3"
  },
  "language_info": {
   "codemirror_mode": {
    "name": "ipython",
    "version": 3
   },
   "file_extension": ".py",
   "mimetype": "text/x-python",
   "name": "python",
   "nbconvert_exporter": "python",
   "pygments_lexer": "ipython3",
   "version": "3.11.3"
  },
  "orig_nbformat": 4,
  "vscode": {
   "interpreter": {
    "hash": "b0fa6594d8f4cbf19f97940f81e996739fb7646882a419484c72d19e05852a7e"
   }
  }
 },
 "nbformat": 4,
 "nbformat_minor": 2
}
