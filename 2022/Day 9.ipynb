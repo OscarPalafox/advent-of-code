{
 "cells": [
  {
   "attachments": {},
   "cell_type": "markdown",
   "metadata": {},
   "source": [
    "# Q1"
   ]
  },
  {
   "cell_type": "code",
   "execution_count": 1,
   "metadata": {},
   "outputs": [
    {
     "data": {
      "text/plain": [
       "6175"
      ]
     },
     "execution_count": 1,
     "metadata": {},
     "output_type": "execute_result"
    }
   ],
   "source": [
    "def sign(num: int):\n",
    "    if num < 0:\n",
    "        return -1\n",
    "    else:\n",
    "        return 1\n",
    "\n",
    "def in_diag(coords_1, coords_2):\n",
    "    return (coords_2[0] + (coords_1[1] - coords_1[0]) ==  coords_2[1]\n",
    "            or -coords_2[0] + (coords_1[1] + coords_1[0]) ==  coords_2[1])\n",
    "\n",
    "def coords_dist(coords_H, coords_T):\n",
    "    return max(abs(coords_H[0] - coords_T[0]), abs(coords_H[1] - coords_T[1]))\n",
    "\n",
    "def get_num_visited(knots: int):\n",
    "    visited = {}\n",
    "\n",
    "    direction_coords = {\n",
    "        \"R\": (1, 0),\n",
    "        \"L\": (-1, 0),\n",
    "        \"U\": (0, 1),\n",
    "        \"D\": (0, -1)\n",
    "    }\n",
    "\n",
    "    with open(\"Day 9.txt\") as f:\n",
    "        moves = [line.strip().split() for line in f.readlines()]\n",
    "        moves = [direction for direction, steps in moves for _ in range(int(steps))]\n",
    "\n",
    "\n",
    "    curr_pos_H = {\n",
    "        0: (0, 0),\n",
    "        **{el: (0, 0) for el in range(1, knots)}\n",
    "    }\n",
    "\n",
    "    for direction in moves:\n",
    "        x, y = direction_coords[direction]\n",
    "\n",
    "        curr_pos_H[0] = (curr_pos_H[0][0] + x, curr_pos_H[0][1] + y)\n",
    "        moved_base = False\n",
    "\n",
    "        for i in range(1, knots):\n",
    "            if coords_dist(curr_pos_H[i], curr_pos_H[i - 1]) > 1:\n",
    "                x_dir = curr_pos_H[i - 1][0] - curr_pos_H[i][0]\n",
    "                y_dir = curr_pos_H[i - 1][1] - curr_pos_H[i][1]\n",
    "\n",
    "                x_dir = sign(x_dir) * int(x_dir / x_dir) if x_dir != 0 else 0\n",
    "                y_dir = sign(y_dir) * int(y_dir / y_dir) if y_dir != 0 else 0\n",
    "\n",
    "                curr_pos_H[i] = (curr_pos_H[i][0] + x_dir, curr_pos_H[i][1] + y_dir)\n",
    "\n",
    "        visited[curr_pos_H[knots - 1]] = None\n",
    "\n",
    "\n",
    "    return len(visited)\n",
    "\n",
    "get_num_visited(2)"
   ]
  },
  {
   "attachments": {},
   "cell_type": "markdown",
   "metadata": {},
   "source": [
    "# Q2"
   ]
  },
  {
   "cell_type": "code",
   "execution_count": 2,
   "metadata": {},
   "outputs": [
    {
     "data": {
      "text/plain": [
       "2578"
      ]
     },
     "execution_count": 2,
     "metadata": {},
     "output_type": "execute_result"
    }
   ],
   "source": [
    "def sign(num: int):\n",
    "    if num < 0:\n",
    "        return -1\n",
    "    else:\n",
    "        return 1\n",
    "\n",
    "def in_diag(coords_1, coords_2):\n",
    "    return (coords_2[0] + (coords_1[1] - coords_1[0]) ==  coords_2[1]\n",
    "            or -coords_2[0] + (coords_1[1] + coords_1[0]) ==  coords_2[1])\n",
    "\n",
    "def coords_dist(coords_H, coords_T):\n",
    "    return max(abs(coords_H[0] - coords_T[0]), abs(coords_H[1] - coords_T[1]))\n",
    "\n",
    "def get_num_visited(knots: int):\n",
    "    visited = {}\n",
    "\n",
    "    direction_coords = {\n",
    "        \"R\": (1, 0),\n",
    "        \"L\": (-1, 0),\n",
    "        \"U\": (0, 1),\n",
    "        \"D\": (0, -1)\n",
    "    }\n",
    "\n",
    "    with open(\"Day 9.txt\") as f:\n",
    "        moves = [line.strip().split() for line in f.readlines()]\n",
    "        moves = [direction for direction, steps in moves for _ in range(int(steps))]\n",
    "\n",
    "\n",
    "    curr_pos_H = {\n",
    "        0: (0, 0),\n",
    "        **{el: (0, 0) for el in range(1, knots)}\n",
    "    }\n",
    "\n",
    "    for direction in moves:\n",
    "        x, y = direction_coords[direction]\n",
    "\n",
    "        curr_pos_H[0] = (curr_pos_H[0][0] + x, curr_pos_H[0][1] + y)\n",
    "        moved_base = False\n",
    "\n",
    "        for i in range(1, knots):\n",
    "            if coords_dist(curr_pos_H[i], curr_pos_H[i - 1]) > 1:\n",
    "                x_dir = curr_pos_H[i - 1][0] - curr_pos_H[i][0]\n",
    "                y_dir = curr_pos_H[i - 1][1] - curr_pos_H[i][1]\n",
    "\n",
    "                x_dir = sign(x_dir) * int(x_dir / x_dir) if x_dir != 0 else 0\n",
    "                y_dir = sign(y_dir) * int(y_dir / y_dir) if y_dir != 0 else 0\n",
    "\n",
    "                curr_pos_H[i] = (curr_pos_H[i][0] + x_dir, curr_pos_H[i][1] + y_dir)\n",
    "\n",
    "        visited[curr_pos_H[knots - 1]] = None\n",
    "\n",
    "\n",
    "    return len(visited)\n",
    "\n",
    "get_num_visited(10)"
   ]
  }
 ],
 "metadata": {
  "kernelspec": {
   "display_name": "Python 3",
   "language": "python",
   "name": "python3"
  },
  "language_info": {
   "codemirror_mode": {
    "name": "ipython",
    "version": 3
   },
   "file_extension": ".py",
   "mimetype": "text/x-python",
   "name": "python",
   "nbconvert_exporter": "python",
   "pygments_lexer": "ipython3",
   "version": "3.11.3"
  },
  "orig_nbformat": 4,
  "vscode": {
   "interpreter": {
    "hash": "b0fa6594d8f4cbf19f97940f81e996739fb7646882a419484c72d19e05852a7e"
   }
  }
 },
 "nbformat": 4,
 "nbformat_minor": 2
}
