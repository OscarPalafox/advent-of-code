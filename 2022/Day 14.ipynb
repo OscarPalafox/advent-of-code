{
 "cells": [
  {
   "attachments": {},
   "cell_type": "markdown",
   "metadata": {},
   "source": [
    "# Q1"
   ]
  },
  {
   "cell_type": "code",
   "execution_count": 1,
   "metadata": {},
   "outputs": [
    {
     "data": {
      "text/plain": [
       "768"
      ]
     },
     "execution_count": 1,
     "metadata": {},
     "output_type": "execute_result"
    }
   ],
   "source": [
    "import sys\n",
    "import numpy as np\n",
    "\n",
    "def normalize(coord, norm):\n",
    "    return coord - norm\n",
    "\n",
    "\n",
    "with open(\"Day 14.txt\") as f:\n",
    "    rocks = [line.strip().split(\" -> \") for line in f.readlines()]\n",
    "\n",
    "min_x = sys.maxsize\n",
    "max_x = 0\n",
    "max_y = 0\n",
    "rocks_clean = []\n",
    "for path in rocks:\n",
    "    clean_path = []\n",
    "    for coord in path:\n",
    "        x, y = coord.split(\",\")\n",
    "        if int(x) < min_x:\n",
    "            min_x = int(x)\n",
    "\n",
    "        if int(x) > max_x:\n",
    "            max_x = int(x)\n",
    "\n",
    "        if int(y) > max_y:\n",
    "            max_y = int(y)\n",
    "\n",
    "        clean_path.append((int(x), int(y)))\n",
    "\n",
    "    rocks_clean.append(clean_path)\n",
    "\n",
    "\n",
    "rock_map = np.full((max_y + 1, (max_x - min_x) + 1), \".\")\n",
    "\n",
    "for path in rocks_clean:\n",
    "    for i, (start_x, start_y) in enumerate(path[:-1]):\n",
    "        end_x, end_y = path[i + 1]\n",
    "        # Normalize coords\n",
    "        start_x -= min_x\n",
    "        end_x -= min_x\n",
    "\n",
    "        if start_x > end_x:\n",
    "            start_x, end_x = end_x, start_x\n",
    "\n",
    "        if start_y > end_y:\n",
    "            start_y, end_y = end_y, start_y\n",
    "\n",
    "        rock_map[start_y:end_y + 1, start_x:end_x + 1] = \"#\"\n",
    "\n",
    "    x, y = path[-1]\n",
    "    x -= min_x\n",
    "    rock_map[y, x] = \"#\"\n",
    "\n",
    "bound_i, bound_j = rock_map.shape\n",
    "\n",
    "sand_source = (0, 500 - min_x)\n",
    "k = 0\n",
    "\n",
    "i, j = sand_source\n",
    "\n",
    "while 0 <= i < bound_i and 0 <= j < bound_j:\n",
    "    i, j = sand_source\n",
    "    while rock_map[i, j] not in [\"#\", \"o\"] and (0 <= i < bound_i and 0 <= j < bound_j):\n",
    "        i += 1\n",
    "\n",
    "        if not 0 <= i < bound_i or not 0 <= j < bound_j:\n",
    "            break\n",
    "\n",
    "        if rock_map[i, j] in [\"#\", \"o\"] and rock_map[i, j - 1] == \".\":\n",
    "            j -= 1\n",
    "\n",
    "        if rock_map[i, j] in [\"#\", \"o\"] and rock_map[i, j + 1] == \".\":\n",
    "            j += 1\n",
    "\n",
    "    rock_map[i - 1, j] = \"o\"\n",
    "    k += 1\n",
    "\n",
    "k - 1"
   ]
  },
  {
   "attachments": {},
   "cell_type": "markdown",
   "metadata": {},
   "source": [
    "# Q2"
   ]
  },
  {
   "cell_type": "code",
   "execution_count": 2,
   "metadata": {},
   "outputs": [
    {
     "data": {
      "text/plain": [
       "26686"
      ]
     },
     "execution_count": 2,
     "metadata": {},
     "output_type": "execute_result"
    }
   ],
   "source": [
    "import sys\n",
    "import numpy as np\n",
    "\n",
    "def normalize(coord, norm):\n",
    "    return coord - norm\n",
    "\n",
    "\n",
    "with open(\"Day 14.txt\") as f:\n",
    "    rocks = [line.strip().split(\" -> \") for line in f.readlines()]\n",
    "\n",
    "min_x = sys.maxsize\n",
    "max_x = 0\n",
    "max_y = 0\n",
    "rocks_clean = []\n",
    "for path in rocks:\n",
    "    clean_path = []\n",
    "    for coord in path:\n",
    "        x, y = coord.split(\",\")\n",
    "        if int(x) < min_x:\n",
    "            min_x = int(x)\n",
    "\n",
    "        if int(x) > max_x:\n",
    "            max_x = int(x)\n",
    "\n",
    "        if int(y) > max_y:\n",
    "            max_y = int(y)\n",
    "\n",
    "        clean_path.append((int(x), int(y)))\n",
    "\n",
    "    rocks_clean.append(clean_path)\n",
    "\n",
    "offset = 400\n",
    "rock_map = np.full((max_y + 3, (max_x - min_x) + 1 + 1000), \".\")\n",
    "\n",
    "for path in rocks_clean:\n",
    "    for i, (start_x, start_y) in enumerate(path[:-1]):\n",
    "        end_x, end_y = path[i + 1]\n",
    "        # Normalize coords\n",
    "        start_x -= min_x\n",
    "        end_x -= min_x\n",
    "\n",
    "        if start_x > end_x:\n",
    "            start_x, end_x = end_x, start_x\n",
    "\n",
    "        if start_y > end_y:\n",
    "            start_y, end_y = end_y, start_y\n",
    "\n",
    "        rock_map[start_y:end_y + 1, offset + start_x:offset + end_x + 1] = \"#\"\n",
    "\n",
    "    x, y = path[-1]\n",
    "    x -= min_x\n",
    "    rock_map[y, offset + x] = \"#\"\n",
    "\n",
    "bound_i, bound_j = rock_map.shape\n",
    "\n",
    "sand_source = (0, offset + 500 - min_x)\n",
    "k = 0\n",
    "\n",
    "i, j = sand_source\n",
    "\n",
    "rock_map[-1, :] = \"#\"\n",
    "\n",
    "while (i - 1, j) != sand_source:\n",
    "    i, j = sand_source\n",
    "    while rock_map[i, j] not in [\"#\", \"o\"] and (0 <= i < bound_i and 0 <= j < bound_j):\n",
    "        i += 1\n",
    "\n",
    "        if not 0 <= i < bound_i or not 0 <= j < bound_j:\n",
    "            break\n",
    "\n",
    "        if rock_map[i, j] in [\"#\", \"o\"] and rock_map[i, j - 1] == \".\":\n",
    "            j -= 1\n",
    "\n",
    "        if rock_map[i, j] in [\"#\", \"o\"] and rock_map[i, j + 1] == \".\":\n",
    "            j += 1\n",
    "\n",
    "    if k >= 10961:\n",
    "        pass\n",
    "\n",
    "    rock_map[i - 1, j] = \"o\"\n",
    "    k += 1\n",
    "\n",
    "k"
   ]
  }
 ],
 "metadata": {
  "kernelspec": {
   "display_name": "Python 3",
   "language": "python",
   "name": "python3"
  },
  "language_info": {
   "codemirror_mode": {
    "name": "ipython",
    "version": 3
   },
   "file_extension": ".py",
   "mimetype": "text/x-python",
   "name": "python",
   "nbconvert_exporter": "python",
   "pygments_lexer": "ipython3",
   "version": "3.11.3"
  },
  "orig_nbformat": 4,
  "vscode": {
   "interpreter": {
    "hash": "b0fa6594d8f4cbf19f97940f81e996739fb7646882a419484c72d19e05852a7e"
   }
  }
 },
 "nbformat": 4,
 "nbformat_minor": 2
}
