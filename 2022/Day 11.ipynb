{
 "cells": [
  {
   "attachments": {},
   "cell_type": "markdown",
   "metadata": {},
   "source": [
    "# Q1"
   ]
  },
  {
   "cell_type": "code",
   "execution_count": 1,
   "metadata": {},
   "outputs": [
    {
     "data": {
      "text/plain": [
       "99852"
      ]
     },
     "execution_count": 1,
     "metadata": {},
     "output_type": "execute_result"
    }
   ],
   "source": [
    "from functools import reduce\n",
    "\n",
    "def eval_operation(op, old):\n",
    "    return eval(op)\n",
    "\n",
    "monkeys = {}\n",
    "\n",
    "# Parse monkey data\n",
    "with open(\"Day 11.txt\") as f:\n",
    "    monkey_data = []\n",
    "\n",
    "    while (line := f.readline()):\n",
    "        if (data := line.strip()):\n",
    "            monkey_data.append(data)\n",
    "        else:\n",
    "            monkey_id, items, op, test, yes, no = monkey_data\n",
    "\n",
    "            monkey_id = int(monkey_id.split()[1].split(\":\")[0])\n",
    "            items = [int(item) for item in items.split(\": \")[-1].split(\", \")]\n",
    "            op = op.split(\" = \")[-1]\n",
    "            test = int(test.split()[-1])\n",
    "            yes = int(yes.split()[-1])\n",
    "            no = int(no.split()[-1])\n",
    "\n",
    "            monkeys[monkey_id] = {\n",
    "                \"items\": items,\n",
    "                \"op\": op,\n",
    "                \"test\": test,\n",
    "                True: yes,\n",
    "                False: no,\n",
    "                \"inspected\": 0\n",
    "            }\n",
    "\n",
    "            monkey_data = []\n",
    "\n",
    "for _ in range(20):\n",
    "    for monkey_id, props in sorted(monkeys.items()):\n",
    "        while (props[\"items\"]):\n",
    "            item = props[\"items\"].pop(0)\n",
    "            item_worry = eval_operation(props[\"op\"], item)\n",
    "            item_worry //= 3\n",
    "            monkeys[props[not (item_worry % props[\"test\"])]][\"items\"].append(item_worry)\n",
    "            props[\"inspected\"] += 1\n",
    "\n",
    "reduce(lambda x, y: x*y, sorted([data[\"inspected\"] for data in monkeys.values()], reverse=True)[:2])"
   ]
  },
  {
   "attachments": {},
   "cell_type": "markdown",
   "metadata": {},
   "source": [
    "# Q2"
   ]
  },
  {
   "cell_type": "code",
   "execution_count": 2,
   "metadata": {},
   "outputs": [
    {
     "data": {
      "text/plain": [
       "25935263541"
      ]
     },
     "execution_count": 2,
     "metadata": {},
     "output_type": "execute_result"
    }
   ],
   "source": [
    "from functools import reduce\n",
    "from math import lcm\n",
    "\n",
    "def eval_operation(op, old):\n",
    "    return eval(op)\n",
    "\n",
    "monkeys = {}\n",
    "\n",
    "# Parse monkey data\n",
    "with open(\"Day 11.txt\") as f:\n",
    "    monkey_data = []\n",
    "\n",
    "    while (line := f.readline()):\n",
    "        if (data := line.strip()):\n",
    "            monkey_data.append(data)\n",
    "        else:\n",
    "            monkey_id, items, op, test, yes, no = monkey_data\n",
    "\n",
    "            monkey_id = int(monkey_id.split()[1].split(\":\")[0])\n",
    "            items = [int(item) for item in items.split(\": \")[-1].split(\", \")]\n",
    "            op = op.split(\" = \")[-1]\n",
    "            test = int(test.split()[-1])\n",
    "            yes = int(yes.split()[-1])\n",
    "            no = int(no.split()[-1])\n",
    "\n",
    "            monkeys[monkey_id] = {\n",
    "                \"items\": items,\n",
    "                \"op\": op,\n",
    "                \"test\": test,\n",
    "                True: yes,\n",
    "                False: no,\n",
    "                \"inspected\": 0\n",
    "            }\n",
    "\n",
    "            monkey_data = []\n",
    "\n",
    "ratio = lcm(*[data[\"test\"] for data in monkeys.values()])\n",
    "\n",
    "for _ in range(10000):\n",
    "    for monkey_id, props in sorted(monkeys.items()):\n",
    "        while (props[\"items\"]):\n",
    "            item = props[\"items\"].pop(0)\n",
    "            item_worry = eval_operation(props[\"op\"], item) % ratio\n",
    "\n",
    "            monkeys[props[not (item_worry % props[\"test\"])]][\"items\"].append(item_worry)\n",
    "            props[\"inspected\"] += 1\n",
    "\n",
    "reduce(lambda x, y: x*y, sorted([data[\"inspected\"] for data in monkeys.values()], reverse=True)[:2])"
   ]
  }
 ],
 "metadata": {
  "kernelspec": {
   "display_name": "Python 3",
   "language": "python",
   "name": "python3"
  },
  "language_info": {
   "codemirror_mode": {
    "name": "ipython",
    "version": 3
   },
   "file_extension": ".py",
   "mimetype": "text/x-python",
   "name": "python",
   "nbconvert_exporter": "python",
   "pygments_lexer": "ipython3",
   "version": "3.11.3"
  },
  "orig_nbformat": 4,
  "vscode": {
   "interpreter": {
    "hash": "b0fa6594d8f4cbf19f97940f81e996739fb7646882a419484c72d19e05852a7e"
   }
  }
 },
 "nbformat": 4,
 "nbformat_minor": 2
}
