{
 "cells": [
  {
   "cell_type": "markdown",
   "metadata": {},
   "source": [
    "# Q1"
   ]
  },
  {
   "cell_type": "code",
   "execution_count": 1,
   "metadata": {},
   "outputs": [
    {
     "data": {
      "text/plain": [
       "67658"
      ]
     },
     "execution_count": 1,
     "metadata": {},
     "output_type": "execute_result"
    }
   ],
   "source": [
    "elfs = []\n",
    "\n",
    "with open(\"Day 1.txt\") as f:\n",
    "    food = 0\n",
    "    while (line := f.readline()):\n",
    "        line = line.strip()\n",
    "\n",
    "        if line:\n",
    "            food += int(line)\n",
    "        else:\n",
    "            elfs.append(food)\n",
    "            food = 0\n",
    "\n",
    "    lines = f.readlines()\n",
    "\n",
    "max(elfs)"
   ]
  },
  {
   "cell_type": "markdown",
   "metadata": {},
   "source": [
    "# Q2"
   ]
  },
  {
   "cell_type": "code",
   "execution_count": 2,
   "metadata": {},
   "outputs": [
    {
     "data": {
      "text/plain": [
       "200158"
      ]
     },
     "execution_count": 2,
     "metadata": {},
     "output_type": "execute_result"
    }
   ],
   "source": [
    "elfs = []\n",
    "\n",
    "with open(\"Day 1.txt\") as f:\n",
    "    food = 0\n",
    "    while (line := f.readline()):\n",
    "        line = line.strip()\n",
    "\n",
    "        if line:\n",
    "            food += int(line)\n",
    "        else:\n",
    "            elfs.append(food)\n",
    "            food = 0\n",
    "\n",
    "    lines = f.readlines()\n",
    "\n",
    "sum(sorted(elfs, reverse=True)[0:3])"
   ]
  }
 ],
 "metadata": {
  "kernelspec": {
   "display_name": "Python 3.10.8 64-bit",
   "language": "python",
   "name": "python3"
  },
  "language_info": {
   "codemirror_mode": {
    "name": "ipython",
    "version": 3
   },
   "file_extension": ".py",
   "mimetype": "text/x-python",
   "name": "python",
   "nbconvert_exporter": "python",
   "pygments_lexer": "ipython3",
   "version": "3.11.3"
  },
  "orig_nbformat": 4,
  "vscode": {
   "interpreter": {
    "hash": "b0fa6594d8f4cbf19f97940f81e996739fb7646882a419484c72d19e05852a7e"
   }
  }
 },
 "nbformat": 4,
 "nbformat_minor": 2
}
