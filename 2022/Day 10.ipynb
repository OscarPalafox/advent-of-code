{
 "cells": [
  {
   "attachments": {},
   "cell_type": "markdown",
   "metadata": {},
   "source": [
    "# Q1"
   ]
  },
  {
   "cell_type": "code",
   "execution_count": 55,
   "metadata": {},
   "outputs": [
    {
     "data": {
      "text/plain": [
       "14060"
      ]
     },
     "execution_count": 55,
     "metadata": {},
     "output_type": "execute_result"
    }
   ],
   "source": [
    "with open(\"Day 10.txt\") as f:\n",
    "    ops = [line.strip().split() for line in f.readlines()]\n",
    "    ops = [0] +  [int(op[1]) if op[0] == \"addx\" else 0 for op in ops]\n",
    "\n",
    "cycle = 1\n",
    "x = 1\n",
    "signal_strength = 0\n",
    "\n",
    "while ops:\n",
    "    if cycle in range(20, 221, 40):\n",
    "        signal_strength += (cycle) * x\n",
    "\n",
    "    if (val := ops.pop(0)):\n",
    "        ops.insert(0, 0)\n",
    "    \n",
    "    x += val\n",
    "    cycle += 1\n",
    "\n",
    "\n",
    "signal_strength"
   ]
  },
  {
   "attachments": {},
   "cell_type": "markdown",
   "metadata": {},
   "source": [
    "# Q2"
   ]
  },
  {
   "cell_type": "code",
   "execution_count": 62,
   "metadata": {},
   "outputs": [],
   "source": [
    "with open(\"Day 10.txt\") as f:\n",
    "    ops = [line.strip().split() for line in f.readlines()]\n",
    "    ops = [0] +  [int(op[1]) if op[0] == \"addx\" else 0 for op in ops]\n",
    "\n",
    "cycle = 1\n",
    "x = 1\n",
    "crt_screen = []\n",
    "curr_line = []\n",
    "\n",
    "while ops:\n",
    "    if cycle  == 41:\n",
    "        crt_screen.append(curr_line)\n",
    "        curr_line = []\n",
    "        cycle -= 40\n",
    "\n",
    "    if x <= cycle <= x + 2:\n",
    "        curr_line.append(\"#\")\n",
    "    else:\n",
    "        curr_line.append(\".\")\n",
    "\n",
    "    if (val := ops.pop(0)):\n",
    "        ops.insert(0, 0)\n",
    "\n",
    "    x += val\n",
    "    cycle += 1\n",
    "\n",
    "with open(\"res.txt\", \"w\") as f:\n",
    "    for line in crt_screen:\n",
    "        f.write(\"\".join(line) + \"\\n\")"
   ]
  }
 ],
 "metadata": {
  "kernelspec": {
   "display_name": "Python 3",
   "language": "python",
   "name": "python3"
  },
  "language_info": {
   "codemirror_mode": {
    "name": "ipython",
    "version": 3
   },
   "file_extension": ".py",
   "mimetype": "text/x-python",
   "name": "python",
   "nbconvert_exporter": "python",
   "pygments_lexer": "ipython3",
   "version": "3.10.8 (main, Oct 13 2022, 09:48:40) [Clang 14.0.0 (clang-1400.0.29.102)]"
  },
  "orig_nbformat": 4,
  "vscode": {
   "interpreter": {
    "hash": "b0fa6594d8f4cbf19f97940f81e996739fb7646882a419484c72d19e05852a7e"
   }
  }
 },
 "nbformat": 4,
 "nbformat_minor": 2
}
