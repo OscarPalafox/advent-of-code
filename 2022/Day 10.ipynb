{
 "cells": [
  {
   "attachments": {},
   "cell_type": "markdown",
   "metadata": {},
   "source": [
    "# Q1"
   ]
  },
  {
   "cell_type": "code",
   "execution_count": 1,
   "metadata": {},
   "outputs": [
    {
     "data": {
      "text/plain": [
       "14060"
      ]
     },
     "execution_count": 1,
     "metadata": {},
     "output_type": "execute_result"
    }
   ],
   "source": [
    "with open(\"Day 10.txt\") as f:\n",
    "    ops = [line.strip().split() for line in f.readlines()]\n",
    "    ops = [0] +  [int(op[1]) if op[0] == \"addx\" else 0 for op in ops]\n",
    "\n",
    "cycle = 1\n",
    "x = 1\n",
    "signal_strength = 0\n",
    "\n",
    "while ops:\n",
    "    if cycle in range(20, 221, 40):\n",
    "        signal_strength += (cycle) * x\n",
    "\n",
    "    if (val := ops.pop(0)):\n",
    "        ops.insert(0, 0)\n",
    "\n",
    "    x += val\n",
    "    cycle += 1\n",
    "\n",
    "\n",
    "signal_strength"
   ]
  },
  {
   "attachments": {},
   "cell_type": "markdown",
   "metadata": {},
   "source": [
    "# Q2"
   ]
  },
  {
   "cell_type": "code",
   "execution_count": 2,
   "metadata": {},
   "outputs": [
    {
     "name": "stdout",
     "output_type": "stream",
     "text": [
      "###   ##  ###  #  # #### #  # ####   ## \n",
      "#  # #  # #  # # #  #    # #  #       # \n",
      "#  # #  # #  # ##   ###  ##   ###     # \n",
      "###  #### ###  # #  #    # #  #       # \n",
      "#    #  # #    # #  #    # #  #    #  # \n",
      "#    #  # #    #  # #    #  # ####  ##  \n"
     ]
    }
   ],
   "source": [
    "with open(\"Day 10.txt\") as f:\n",
    "    ops = [line.strip().split() for line in f.readlines()]\n",
    "    ops = [0] +  [int(op[1]) if op[0] == \"addx\" else 0 for op in ops]\n",
    "\n",
    "cycle = 1\n",
    "x = 1\n",
    "crt_screen = []\n",
    "curr_line = []\n",
    "\n",
    "while ops:\n",
    "    if cycle  == 41:\n",
    "        crt_screen.append(curr_line)\n",
    "        curr_line = []\n",
    "        cycle -= 40\n",
    "\n",
    "    if x <= cycle <= x + 2:\n",
    "        curr_line.append(\"#\")\n",
    "    else:\n",
    "        curr_line.append(\" \")\n",
    "\n",
    "    if (val := ops.pop(0)):\n",
    "        ops.insert(0, 0)\n",
    "\n",
    "    x += val\n",
    "    cycle += 1\n",
    "\n",
    "for line in crt_screen:\n",
    "    print(\"\".join(line))"
   ]
  }
 ],
 "metadata": {
  "kernelspec": {
   "display_name": "Python 3",
   "language": "python",
   "name": "python3"
  },
  "language_info": {
   "codemirror_mode": {
    "name": "ipython",
    "version": 3
   },
   "file_extension": ".py",
   "mimetype": "text/x-python",
   "name": "python",
   "nbconvert_exporter": "python",
   "pygments_lexer": "ipython3",
   "version": "3.11.3"
  },
  "orig_nbformat": 4,
  "vscode": {
   "interpreter": {
    "hash": "b0fa6594d8f4cbf19f97940f81e996739fb7646882a419484c72d19e05852a7e"
   }
  }
 },
 "nbformat": 4,
 "nbformat_minor": 2
}
