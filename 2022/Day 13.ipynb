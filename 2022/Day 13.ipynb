{
 "cells": [
  {
   "attachments": {},
   "cell_type": "markdown",
   "metadata": {},
   "source": [
    "# Q1"
   ]
  },
  {
   "cell_type": "code",
   "execution_count": 1,
   "metadata": {},
   "outputs": [
    {
     "data": {
      "text/plain": [
       "5580"
      ]
     },
     "execution_count": 1,
     "metadata": {},
     "output_type": "execute_result"
    }
   ],
   "source": [
    "import logging\n",
    "\n",
    "def process(left, right, ind=\"\"):\n",
    "    ind += \"  \"\n",
    "    for l, r in zip(left, right):\n",
    "        logging.debug(f\"{ind}- Compare {l} vs {r}\")\n",
    "        if isinstance(l, int) and isinstance(r, int):\n",
    "            if l > r:\n",
    "                logging.debug(f\"{ind}  - Right side is smaller, so inputs are not in the right order\")\n",
    "                return False\n",
    "            elif l < r:\n",
    "                logging.debug(f\"{ind}  - Left side is smaller, so inputs are in the right order\")\n",
    "                return True\n",
    "        elif isinstance(l, int) and isinstance(r, list):\n",
    "            logging.debug(f\"{ind}  - Mixed types, convert left to {[r]} and retry comparison\")\n",
    "            if (res := process([[l]], [r], ind)) is not None:\n",
    "                return res\n",
    "        elif isinstance(l, list) and isinstance(r, int):\n",
    "            logging.debug(f\"{ind}  - Mixed types, convert righht to {[r]} and retry comparison\")\n",
    "            if (res := process([l], [[r]], ind)) is not None:\n",
    "                return res\n",
    "        else:\n",
    "            if (res := process(l, r, ind)) is not None:\n",
    "                return res\n",
    "\n",
    "    if len(left) > len(right):\n",
    "        logging.debug(f\"{ind}- Right side ran out of items, so inputs are not in the right order\")\n",
    "        return False\n",
    "    elif len(left) < len(right):\n",
    "        logging.debug(f\"{ind}- Left side ran out of items, so inputs are in the right order\")\n",
    "        return True\n",
    "\n",
    "    return None\n",
    "\n",
    "with open(\"Day 13.txt\") as f:\n",
    "    packets = [eval(clean_line) for line in f.readlines() if (clean_line := line.strip())]\n",
    "\n",
    "right_order = []\n",
    "for pair, i in enumerate(range(0, len(packets), 2)):\n",
    "    left = packets[i]\n",
    "    right = packets[i + 1]\n",
    "\n",
    "    logging.debug(f\"== Pair {pair + 1} ==\")\n",
    "    logging.debug(f\"- Compare {left} vs {right}\")\n",
    "\n",
    "    if process(left, right):\n",
    "        right_order.append(pair + 1)\n",
    "\n",
    "sum(right_order)"
   ]
  },
  {
   "attachments": {},
   "cell_type": "markdown",
   "metadata": {},
   "source": [
    "# Q2"
   ]
  },
  {
   "cell_type": "code",
   "execution_count": 2,
   "metadata": {},
   "outputs": [
    {
     "data": {
      "text/plain": [
       "26200"
      ]
     },
     "execution_count": 2,
     "metadata": {},
     "output_type": "execute_result"
    }
   ],
   "source": [
    "import logging\n",
    "\n",
    "def process(left, right, ind=\"\"):\n",
    "    ind += \"  \"\n",
    "    for l, r in zip(left, right):\n",
    "        logging.debug(f\"{ind}- Compare {l} vs {r}\")\n",
    "        if isinstance(l, int) and isinstance(r, int):\n",
    "            if l > r:\n",
    "                logging.debug(f\"{ind}  - Right side is smaller, so inputs are not in the right order\")\n",
    "                return False\n",
    "            elif l < r:\n",
    "                logging.debug(f\"{ind}  - Left side is smaller, so inputs are in the right order\")\n",
    "                return True\n",
    "        elif isinstance(l, int) and isinstance(r, list):\n",
    "            logging.debug(f\"{ind}  - Mixed types, convert left to {[r]} and retry comparison\")\n",
    "            if (res := process([[l]], [r], ind)) is not None:\n",
    "                return res\n",
    "        elif isinstance(l, list) and isinstance(r, int):\n",
    "            logging.debug(f\"{ind}  - Mixed types, convert righht to {[r]} and retry comparison\")\n",
    "            if (res := process([l], [[r]], ind)) is not None:\n",
    "                return res\n",
    "        else:\n",
    "            if (res := process(l, r, ind)) is not None:\n",
    "                return res\n",
    "\n",
    "    if len(left) > len(right):\n",
    "        logging.debug(f\"{ind}- Right side ran out of items, so inputs are not in the right order\")\n",
    "        return False\n",
    "    elif len(left) < len(right):\n",
    "        logging.debug(f\"{ind}- Left side ran out of items, so inputs are in the right order\")\n",
    "        return True\n",
    "\n",
    "    return None\n",
    "\n",
    "divider_packets = [[[2]], [[6]]]\n",
    "\n",
    "with open(\"Day 13.txt\") as f:\n",
    "    packets = [eval(clean_line) for line in f.readlines() if (clean_line := line.strip())] + divider_packets\n",
    "\n",
    "for i in range(len(packets)):\n",
    "    packet = packets.pop()\n",
    "\n",
    "    j = 0\n",
    "    while j < i and process(packets[j], packet):\n",
    "        j += 1\n",
    "\n",
    "    packets.insert(j, packet)\n",
    "\n",
    "(packets.index([[2]]) + 1) * (packets.index([[6]]) + 1)"
   ]
  }
 ],
 "metadata": {
  "kernelspec": {
   "display_name": "Python 3",
   "language": "python",
   "name": "python3"
  },
  "language_info": {
   "codemirror_mode": {
    "name": "ipython",
    "version": 3
   },
   "file_extension": ".py",
   "mimetype": "text/x-python",
   "name": "python",
   "nbconvert_exporter": "python",
   "pygments_lexer": "ipython3",
   "version": "3.11.3"
  },
  "orig_nbformat": 4,
  "vscode": {
   "interpreter": {
    "hash": "b0fa6594d8f4cbf19f97940f81e996739fb7646882a419484c72d19e05852a7e"
   }
  }
 },
 "nbformat": 4,
 "nbformat_minor": 2
}
