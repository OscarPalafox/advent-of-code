{
 "cells": [
  {
   "attachments": {},
   "cell_type": "markdown",
   "metadata": {},
   "source": [
    "# Q1"
   ]
  },
  {
   "cell_type": "code",
   "execution_count": 1,
   "metadata": {},
   "outputs": [
    {
     "data": {
      "text/plain": [
       "5335787"
      ]
     },
     "execution_count": 1,
     "metadata": {},
     "output_type": "execute_result"
    }
   ],
   "source": [
    "from collections import defaultdict\n",
    "import re\n",
    "\n",
    "def compute_manh_dist(s, b):\n",
    "    return abs(s[0] - b[0]) + abs(s[1] - b[1])\n",
    "\n",
    "def put_sensor_beacon(coords, sensor_beacons_map):\n",
    "    for (s_x, s_y, b_x, b_y) in coords:\n",
    "        sensor_beacons_map[s_y].add(s_x)\n",
    "        sensor_beacons_map[b_y].add(b_x)\n",
    "\n",
    "sensor_beacons = defaultdict(set)\n",
    "missing = defaultdict(set)\n",
    "\n",
    "with open(\"Day 15.txt\") as f:\n",
    "    coords = [[int(coord) for coord in re.findall(r\"-*[0-9]+\", line)] for line in f.readlines()]\n",
    "\n",
    "coords = [[coord[0],\n",
    "           coord[1],\n",
    "           coord[2],\n",
    "           coord[3]] for coord in coords]\n",
    "\n",
    "put_sensor_beacon(coords, sensor_beacons)\n",
    "\n",
    "y = 2000000\n",
    "\n",
    "for (s_x, s_y, b_x, b_y) in coords:\n",
    "    dist = compute_manh_dist((s_x, s_y), (b_x, b_y))\n",
    "    width = dist - abs(s_y - y)\n",
    "    rem = set(range(s_x - width, s_x + width + 1)).difference(sensor_beacons[y])\n",
    "\n",
    "    missing[y].update(rem)\n",
    "\n",
    "len(missing[y])"
   ]
  },
  {
   "attachments": {},
   "cell_type": "markdown",
   "metadata": {},
   "source": [
    "# Q2"
   ]
  },
  {
   "cell_type": "code",
   "execution_count": 2,
   "metadata": {},
   "outputs": [],
   "source": [
    "from collections import defaultdict\n",
    "import re\n",
    "\n",
    "def compute_manh_dist(s, b):\n",
    "    return abs(s[0] - b[0]) + abs(s[1] - b[1])\n",
    "\n",
    "def put_sensor_beacon(coords, sensor_beacons_map):\n",
    "    for (s_x, s_y, b_x, b_y) in coords:\n",
    "        sensor_beacons_map[s_y].add(s_x)\n",
    "        sensor_beacons_map[b_y].add(b_x)\n",
    "\n",
    "sensor_beacons = defaultdict(set)\n",
    "missing = defaultdict(set)\n",
    "\n",
    "with open(\"Day 15.txt\") as f:\n",
    "    coords = [[int(coord) for coord in re.findall(r\"-*[0-9]+\", line)] for line in f.readlines()]\n",
    "\n",
    "coords = [[coord[0],\n",
    "           coord[1],\n",
    "           coord[2],\n",
    "           coord[3]] for coord in coords]\n",
    "\n",
    "put_sensor_beacon(coords, sensor_beacons)\n",
    "\n",
    "bound = 4000000\n",
    "for y in range(1, bound):\n",
    "    for (s_x, s_y, b_x, b_y) in coords:\n",
    "        dist = compute_manh_dist((s_x, s_y), (b_x, b_y))\n",
    "        width = dist - abs(s_y - y)\n",
    "        rem = set(range(s_x - width, s_x + width + 1)).difference(sensor_beacons[y])\n",
    "\n",
    "        missing[y].update(rem)\n",
    "\n",
    "    if (x_set := set(range(1, bound)).difference(missing[y]).difference(sensor_beacons[y])):\n",
    "        print(x_set.pop() * 4000000 + y)\n",
    "        break"
   ]
  }
 ],
 "metadata": {
  "kernelspec": {
   "display_name": "Python 3",
   "language": "python",
   "name": "python3"
  },
  "language_info": {
   "codemirror_mode": {
    "name": "ipython",
    "version": 3
   },
   "file_extension": ".py",
   "mimetype": "text/x-python",
   "name": "python",
   "nbconvert_exporter": "python",
   "pygments_lexer": "ipython3",
   "version": "3.11.3"
  },
  "orig_nbformat": 4,
  "vscode": {
   "interpreter": {
    "hash": "b0fa6594d8f4cbf19f97940f81e996739fb7646882a419484c72d19e05852a7e"
   }
  }
 },
 "nbformat": 4,
 "nbformat_minor": 2
}
