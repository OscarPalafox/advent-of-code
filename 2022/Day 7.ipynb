{
 "cells": [
  {
   "cell_type": "markdown",
   "metadata": {},
   "source": [
    "# Q1"
   ]
  },
  {
   "cell_type": "code",
   "execution_count": 53,
   "metadata": {},
   "outputs": [
    {
     "data": {
      "text/plain": [
       "1447046"
      ]
     },
     "execution_count": 53,
     "metadata": {},
     "output_type": "execute_result"
    }
   ],
   "source": [
    "from collections import defaultdict\n",
    "\n",
    "\n",
    "def get_poss_tree(path):\n",
    "    if path == \"/\":\n",
    "        return [\"/\"]\n",
    "\n",
    "    x = path.split(\"/\")\n",
    "    tree = [\"/\".join(x[:i]) for i in range(1, len(x) + 1)]\n",
    "    tree[0] = \"/\"\n",
    "\n",
    "    return tree\n",
    "\n",
    "\n",
    "fs = defaultdict(lambda: 0)\n",
    "\n",
    "with open(\"Day 7.txt\") as f:\n",
    "    current_path = \"\"\n",
    "    while (line := f.readline().strip()):\n",
    "        if line[0:4] == \"$ cd\":\n",
    "            folder = line.split()[-1]\n",
    "\n",
    "            if folder == \"..\":\n",
    "                current_path = \"/\".join(current_path.split(\"/\")[:-1])\n",
    "\n",
    "                current_path = \"/\" if not current_path else current_path\n",
    "\n",
    "\n",
    "            else:\n",
    "                current_path = folder if not current_path else f\"{current_path}{'/' if current_path != '/' else ''}{folder}\"\n",
    "\n",
    "        elif line[0:4] != \"$ ls\":\n",
    "            fs_prop, f_name = line.split()\n",
    "\n",
    "            if fs_prop.isnumeric():\n",
    "                for path in get_poss_tree(current_path):\n",
    "                    fs[path] += int(fs_prop)\n",
    "\n",
    "size = 0\n",
    "\n",
    "for value in fs.values():\n",
    "    if value < 100000:\n",
    "        size += value\n",
    "\n",
    "size"
   ]
  },
  {
   "cell_type": "markdown",
   "metadata": {},
   "source": [
    "# Q2"
   ]
  },
  {
   "cell_type": "code",
   "execution_count": 61,
   "metadata": {},
   "outputs": [
    {
     "data": {
      "text/plain": [
       "578710"
      ]
     },
     "execution_count": 61,
     "metadata": {},
     "output_type": "execute_result"
    }
   ],
   "source": [
    "from collections import defaultdict\n",
    "\n",
    "\n",
    "def get_poss_tree(path):\n",
    "    if path == \"/\":\n",
    "        return [\"/\"]\n",
    "\n",
    "    x = path.split(\"/\")\n",
    "    tree = [\"/\".join(x[:i]) for i in range(1, len(x) + 1)]\n",
    "    tree[0] = \"/\"\n",
    "\n",
    "    return tree\n",
    "\n",
    "\n",
    "fs = defaultdict(lambda: 0)\n",
    "\n",
    "with open(\"Day 7.txt\") as f:\n",
    "    current_path = \"\"\n",
    "    while (line := f.readline().strip()):\n",
    "        if line[0:4] == \"$ cd\":\n",
    "            folder = line.split()[-1]\n",
    "\n",
    "            if folder == \"..\":\n",
    "                current_path = \"/\".join(current_path.split(\"/\")[:-1])\n",
    "\n",
    "                current_path = \"/\" if not current_path else current_path\n",
    "\n",
    "\n",
    "            else:\n",
    "                current_path = folder if not current_path else f\"{current_path}{'/' if current_path != '/' else ''}{folder}\"\n",
    "\n",
    "        elif line[0:4] != \"$ ls\":\n",
    "            fs_prop, f_name = line.split()\n",
    "\n",
    "            if fs_prop.isnumeric():\n",
    "                for path in get_poss_tree(current_path):\n",
    "                    fs[path] += int(fs_prop)\n",
    "\n",
    "needed_space = 30000000 - (70000000 - fs[\"/\"])\n",
    "\n",
    "sizes = []\n",
    "\n",
    "for value in fs.values():\n",
    "    if value >= needed_space:\n",
    "        sizes.append(value)\n",
    "\n",
    "sorted(sizes)[0]"
   ]
  }
 ],
 "metadata": {
  "kernelspec": {
   "display_name": "Python 3.10.8 64-bit",
   "language": "python",
   "name": "python3"
  },
  "language_info": {
   "codemirror_mode": {
    "name": "ipython",
    "version": 3
   },
   "file_extension": ".py",
   "mimetype": "text/x-python",
   "name": "python",
   "nbconvert_exporter": "python",
   "pygments_lexer": "ipython3",
   "version": "3.10.8"
  },
  "orig_nbformat": 4,
  "vscode": {
   "interpreter": {
    "hash": "b0fa6594d8f4cbf19f97940f81e996739fb7646882a419484c72d19e05852a7e"
   }
  }
 },
 "nbformat": 4,
 "nbformat_minor": 2
}
