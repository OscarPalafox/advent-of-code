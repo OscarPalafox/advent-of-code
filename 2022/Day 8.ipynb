{
 "cells": [
  {
   "cell_type": "markdown",
   "metadata": {},
   "source": [
    "# Q1"
   ]
  },
  {
   "cell_type": "code",
   "execution_count": 1,
   "metadata": {},
   "outputs": [
    {
     "data": {
      "text/plain": [
       "1700"
      ]
     },
     "execution_count": 1,
     "metadata": {},
     "output_type": "execute_result"
    }
   ],
   "source": [
    "import numpy as np\n",
    "\n",
    "def tree_visible(arr: np.ndarray, row: int, col: int):\n",
    "    return (arr[row, col] > arr[:row, col].max()\n",
    "            or arr[row, col] > arr[row + 1:, col].max()\n",
    "            or arr[row, col] > arr[row, :col].max()\n",
    "            or arr[row, col] > arr[row, col + 1:].max())\n",
    "\n",
    "\n",
    "\n",
    "with open(\"Day 8.txt\") as f:\n",
    "    tree_heights = np.array([list(line.strip()) for line in f.readlines()], dtype=int)\n",
    "\n",
    "rows, cols = tree_heights.shape\n",
    "\n",
    "\n",
    "(rows * 2\n",
    " + (cols - 2) * 2\n",
    " + sum([tree_visible(tree_heights, row, col) for col in range(1, cols - 1) for row in range(1, rows - 1)]))"
   ]
  },
  {
   "cell_type": "markdown",
   "metadata": {},
   "source": [
    "# Q2"
   ]
  },
  {
   "cell_type": "code",
   "execution_count": 2,
   "metadata": {},
   "outputs": [
    {
     "data": {
      "text/plain": [
       "470596"
      ]
     },
     "execution_count": 2,
     "metadata": {},
     "output_type": "execute_result"
    }
   ],
   "source": [
    "import numpy as np\n",
    "\n",
    "def compute_multiplier(higher, idxs):\n",
    "    multiplier = 0\n",
    "\n",
    "    for row, col in idxs:\n",
    "        if not higher[row, col]:\n",
    "            break\n",
    "        else:\n",
    "            multiplier += 1\n",
    "\n",
    "    # Add last tree\n",
    "    return multiplier + 1\n",
    "\n",
    "def scenic_score(arr: np.ndarray, row: int, col: int):\n",
    "    higher = arr[row, col] > arr\n",
    "    score = 1\n",
    "\n",
    "    # Up\n",
    "    up_idxs = [(i, col) for i in range(1, row)[::-1]]\n",
    "    score *= compute_multiplier(higher, up_idxs)\n",
    "\n",
    "    # Down\n",
    "    down_idxs = [(i, col) for i in range(row + 1, arr.shape[0] - 1)]\n",
    "    score *= compute_multiplier(higher, down_idxs)\n",
    "\n",
    "    # Left\n",
    "    left_idxs = [(row, i) for i in range(1, col)[::-1]]\n",
    "    score *= compute_multiplier(higher, left_idxs)\n",
    "\n",
    "    # Right\n",
    "    right_idxs = [(row, i) for i in range(col + 1, arr.shape[1] - 1)]\n",
    "    score *= compute_multiplier(higher, right_idxs)\n",
    "\n",
    "    return score\n",
    "\n",
    "\n",
    "with open(\"Day 8.txt\") as f:\n",
    "    tree_heights = np.array([list(line.strip()) for line in f.readlines()], dtype=int)\n",
    "\n",
    "rows, cols = tree_heights.shape\n",
    "\n",
    "\n",
    "max([scenic_score(tree_heights, row, col) for col in range(1, cols - 1) for row in range(1, rows - 1)])"
   ]
  }
 ],
 "metadata": {
  "kernelspec": {
   "display_name": "Python 3.10.8 64-bit",
   "language": "python",
   "name": "python3"
  },
  "language_info": {
   "codemirror_mode": {
    "name": "ipython",
    "version": 3
   },
   "file_extension": ".py",
   "mimetype": "text/x-python",
   "name": "python",
   "nbconvert_exporter": "python",
   "pygments_lexer": "ipython3",
   "version": "3.11.3"
  },
  "orig_nbformat": 4,
  "vscode": {
   "interpreter": {
    "hash": "b0fa6594d8f4cbf19f97940f81e996739fb7646882a419484c72d19e05852a7e"
   }
  }
 },
 "nbformat": 4,
 "nbformat_minor": 2
}
