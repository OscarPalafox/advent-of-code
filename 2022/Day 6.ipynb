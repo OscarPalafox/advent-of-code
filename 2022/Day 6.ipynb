{
 "cells": [
  {
   "cell_type": "markdown",
   "metadata": {},
   "source": [
    "# Q1"
   ]
  },
  {
   "cell_type": "code",
   "execution_count": 1,
   "metadata": {},
   "outputs": [
    {
     "name": "stdout",
     "output_type": "stream",
     "text": [
      "1802\n"
     ]
    }
   ],
   "source": [
    "def marker_index(data_buffer: str):\n",
    "    for i in range(len(data_buffer) - 3):\n",
    "        if len(set(data_buffer[i:i+4])) == 4:\n",
    "            return i + 4\n",
    "\n",
    "\n",
    "assert(marker_index(\"mjqjpqmgbljsphdztnvjfqwrcgsmlb\") == 7)\n",
    "assert(marker_index(\"bvwbjplbgvbhsrlpgdmjqwftvncz\") == 5)\n",
    "assert(marker_index(\"nppdvjthqldpwncqszvftbrmjlhg\") == 6)\n",
    "assert(marker_index(\"nznrnfrfntjfmvfwmzdfjlvtqnbhcprsg\") == 10)\n",
    "assert(marker_index(\"zcfzfwzzqfrljwzlrfnpqdbhtmscgvjw\") == 11)\n",
    "\n",
    "with open(\"Day 6.txt\") as f:\n",
    "    print(marker_index(f.readlines().pop()))"
   ]
  },
  {
   "cell_type": "markdown",
   "metadata": {},
   "source": [
    "# Q2"
   ]
  },
  {
   "cell_type": "code",
   "execution_count": 2,
   "metadata": {},
   "outputs": [
    {
     "name": "stdout",
     "output_type": "stream",
     "text": [
      "3551\n"
     ]
    }
   ],
   "source": [
    "def marker_index(data_buffer: str):\n",
    "    for i in range(len(data_buffer) - 13):\n",
    "        if len(set(data_buffer[i:i+14])) == 14:\n",
    "            return i + 14\n",
    "\n",
    "\n",
    "assert(marker_index(\"mjqjpqmgbljsphdztnvjfqwrcgsmlb\") == 19)\n",
    "assert(marker_index(\"bvwbjplbgvbhsrlpgdmjqwftvncz\") == 23)\n",
    "assert(marker_index(\"nppdvjthqldpwncqszvftbrmjlhg\") == 23)\n",
    "assert(marker_index(\"nznrnfrfntjfmvfwmzdfjlvtqnbhcprsg\") == 29)\n",
    "assert(marker_index(\"zcfzfwzzqfrljwzlrfnpqdbhtmscgvjw\") == 26)\n",
    "\n",
    "with open(\"Day 6.txt\") as f:\n",
    "    print(marker_index(f.readlines().pop()))"
   ]
  }
 ],
 "metadata": {
  "kernelspec": {
   "display_name": "Python 3.10.8 64-bit",
   "language": "python",
   "name": "python3"
  },
  "language_info": {
   "codemirror_mode": {
    "name": "ipython",
    "version": 3
   },
   "file_extension": ".py",
   "mimetype": "text/x-python",
   "name": "python",
   "nbconvert_exporter": "python",
   "pygments_lexer": "ipython3",
   "version": "3.11.3"
  },
  "orig_nbformat": 4,
  "vscode": {
   "interpreter": {
    "hash": "b0fa6594d8f4cbf19f97940f81e996739fb7646882a419484c72d19e05852a7e"
   }
  }
 },
 "nbformat": 4,
 "nbformat_minor": 2
}
