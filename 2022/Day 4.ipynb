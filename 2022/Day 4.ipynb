{
 "cells": [
  {
   "cell_type": "markdown",
   "metadata": {},
   "source": [
    "# Q1"
   ]
  },
  {
   "cell_type": "code",
   "execution_count": 3,
   "metadata": {},
   "outputs": [
    {
     "data": {
      "text/plain": [
       "651"
      ]
     },
     "execution_count": 3,
     "metadata": {},
     "output_type": "execute_result"
    }
   ],
   "source": [
    "overlapping = 0\n",
    "\n",
    "with open(\"Day 4.txt\") as f:\n",
    "    while (line := f.readline()):\n",
    "        pair_a_zones, pair_b_zones = line.strip().split(\",\")\n",
    "        pair_a_min, pair_a_max = (int(zone) for zone in pair_a_zones.split(\"-\"))\n",
    "        pair_b_min, pair_b_max = (int(zone) for zone in pair_b_zones.split(\"-\"))\n",
    "\n",
    "        pair_a_range = range(pair_a_min, pair_a_max + 1)\n",
    "        pair_b_range = range(pair_b_min, pair_b_max + 1)\n",
    "\n",
    "        if (((pair_a_min in pair_b_range) and (pair_a_max in pair_b_range))\n",
    "            or ((pair_b_min in pair_a_range) and (pair_b_max in pair_a_range))):\n",
    "            overlapping += 1\n",
    "\n",
    "overlapping"
   ]
  },
  {
   "cell_type": "markdown",
   "metadata": {},
   "source": [
    "# Q2"
   ]
  },
  {
   "cell_type": "code",
   "execution_count": 4,
   "metadata": {},
   "outputs": [
    {
     "data": {
      "text/plain": [
       "956"
      ]
     },
     "execution_count": 4,
     "metadata": {},
     "output_type": "execute_result"
    }
   ],
   "source": [
    "overlapping = 0\n",
    "\n",
    "with open(\"Day 4.txt\") as f:\n",
    "    while (line := f.readline()):\n",
    "        pair_a_zones, pair_b_zones = line.strip().split(\",\")\n",
    "        pair_a_min, pair_a_max = (int(zone) for zone in pair_a_zones.split(\"-\"))\n",
    "        pair_b_min, pair_b_max = (int(zone) for zone in pair_b_zones.split(\"-\"))\n",
    "\n",
    "        pair_a_range = range(pair_a_min, pair_a_max + 1)\n",
    "        pair_b_range = range(pair_b_min, pair_b_max + 1)\n",
    "\n",
    "        if (((pair_a_min in pair_b_range) or (pair_a_max in pair_b_range))\n",
    "            or ((pair_b_min in pair_a_range) or (pair_b_max in pair_a_range))):\n",
    "            overlapping += 1\n",
    "\n",
    "overlapping"
   ]
  }
 ],
 "metadata": {
  "kernelspec": {
   "display_name": "Python 3.10.8 64-bit",
   "language": "python",
   "name": "python3"
  },
  "language_info": {
   "codemirror_mode": {
    "name": "ipython",
    "version": 3
   },
   "file_extension": ".py",
   "mimetype": "text/x-python",
   "name": "python",
   "nbconvert_exporter": "python",
   "pygments_lexer": "ipython3",
   "version": "3.10.8"
  },
  "orig_nbformat": 4,
  "vscode": {
   "interpreter": {
    "hash": "b0fa6594d8f4cbf19f97940f81e996739fb7646882a419484c72d19e05852a7e"
   }
  }
 },
 "nbformat": 4,
 "nbformat_minor": 2
}
