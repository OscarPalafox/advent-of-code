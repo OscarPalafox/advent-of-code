{
 "cells": [
  {
   "cell_type": "markdown",
   "metadata": {},
   "source": [
    "# Q1"
   ]
  },
  {
   "cell_type": "code",
   "execution_count": 20,
   "metadata": {},
   "outputs": [
    {
     "data": {
      "text/plain": [
       "14264"
      ]
     },
     "execution_count": 20,
     "metadata": {},
     "output_type": "execute_result"
    }
   ],
   "source": [
    "def rock_paper_scissors_win(play1, play2):\n",
    "    # A: Rock\n",
    "    # B: Paper\n",
    "    # C: Scissors\n",
    "\n",
    "    if play1 == play2:\n",
    "        return 0\n",
    "    elif play1 == \"A\":\n",
    "        if play2 == \"B\":\n",
    "            return 1\n",
    "        elif play2 == \"C\":\n",
    "            return -1\n",
    "    elif play1 == \"B\":\n",
    "        if play2 == \"A\":\n",
    "            return -1\n",
    "        elif play2 == \"C\":\n",
    "            return 1\n",
    "    elif play1 == \"C\":\n",
    "        if play2 == \"A\":\n",
    "            return 1\n",
    "        elif play2 == \"B\":\n",
    "            return -1\n",
    "\n",
    "strat_map = {\n",
    "    \"Y\": \"B\",\n",
    "    \"X\": \"A\",\n",
    "    \"Z\": \"C\"\n",
    "}\n",
    "choice_points = {\n",
    "    \"A\": 1,\n",
    "    \"B\": 2,\n",
    "    \"C\": 3\n",
    "}\n",
    "res_points = {\n",
    "    -1: 0,\n",
    "    0: 3,\n",
    "    1: 6\n",
    "}\n",
    "\n",
    "score = 0\n",
    "\n",
    "with open(\"Day 2.txt\") as f:\n",
    "    while (line := f.readline()):\n",
    "        line = line.strip()\n",
    "        opponent, yours = line.split()\n",
    "        yours = strat_map[yours]\n",
    "\n",
    "        score += choice_points[yours] + res_points[rock_paper_scissors_win(opponent, yours)]\n",
    "\n",
    "score"
   ]
  },
  {
   "cell_type": "markdown",
   "metadata": {},
   "source": [
    "# Q2"
   ]
  },
  {
   "cell_type": "code",
   "execution_count": 22,
   "metadata": {},
   "outputs": [
    {
     "data": {
      "text/plain": [
       "12382"
      ]
     },
     "execution_count": 22,
     "metadata": {},
     "output_type": "execute_result"
    }
   ],
   "source": [
    "def rock_paper_scissors_get_score(play1, strat):\n",
    "    # X: lose\n",
    "    # Y: draw\n",
    "    # Z: win\n",
    "\n",
    "    choice_points = {\n",
    "        \"A\": 1,\n",
    "        \"B\": 2,\n",
    "        \"C\": 3\n",
    "    }\n",
    "\n",
    "    if strat == \"Y\":\n",
    "        return choice_points[play1] + 3\n",
    "    elif strat == \"X\":\n",
    "        if play1 == \"A\":\n",
    "            return choice_points[\"C\"]\n",
    "        elif play1 == \"B\":\n",
    "            return choice_points[\"A\"]\n",
    "        elif play1 == \"C\":\n",
    "            return choice_points[\"B\"]\n",
    "    elif strat == \"Z\":\n",
    "        if play1 == \"A\":\n",
    "            return choice_points[\"B\"] + 6\n",
    "        elif play1 == \"B\":\n",
    "            return choice_points[\"C\"] + 6\n",
    "        elif play1 == \"C\":\n",
    "            return choice_points[\"A\"] + 6\n",
    "\n",
    "score = 0\n",
    "\n",
    "with open(\"Day 2.txt\") as f:\n",
    "    while (line := f.readline()):\n",
    "        line = line.strip()\n",
    "        opponent, strat = line.split()\n",
    "\n",
    "        score += rock_paper_scissors_get_score(opponent, strat)\n",
    "\n",
    "score"
   ]
  }
 ],
 "metadata": {
  "kernelspec": {
   "display_name": "Python 3.10.8 64-bit",
   "language": "python",
   "name": "python3"
  },
  "language_info": {
   "codemirror_mode": {
    "name": "ipython",
    "version": 3
   },
   "file_extension": ".py",
   "mimetype": "text/x-python",
   "name": "python",
   "nbconvert_exporter": "python",
   "pygments_lexer": "ipython3",
   "version": "3.10.8"
  },
  "orig_nbformat": 4,
  "vscode": {
   "interpreter": {
    "hash": "b0fa6594d8f4cbf19f97940f81e996739fb7646882a419484c72d19e05852a7e"
   }
  }
 },
 "nbformat": 4,
 "nbformat_minor": 2
}
