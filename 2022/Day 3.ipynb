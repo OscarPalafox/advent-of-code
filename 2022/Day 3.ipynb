{
 "cells": [
  {
   "cell_type": "markdown",
   "metadata": {},
   "source": [
    "# Q1"
   ]
  },
  {
   "cell_type": "code",
   "execution_count": 40,
   "metadata": {},
   "outputs": [
    {
     "data": {
      "text/plain": [
       "157"
      ]
     },
     "execution_count": 40,
     "metadata": {},
     "output_type": "execute_result"
    }
   ],
   "source": [
    "def compute_priority(letter: str):\n",
    "    ord_diff = 96\n",
    "\n",
    "    if letter.isupper():\n",
    "        ord_diff = 38\n",
    "    \n",
    "    return ord(letter) - ord_diff\n",
    "\n",
    "\n",
    "prios = 0\n",
    "with open(\"Day 3.txt\") as f:\n",
    "    while (line := f.readline()):\n",
    "        line = line.strip()\n",
    "        num_objs =  len(line) // 2\n",
    "        compartment_one, compartment_two = set(line[:num_objs]), set(line[num_objs:])\n",
    "        \n",
    "        common = compartment_one.intersection(compartment_two)\n",
    "\n",
    "        prios += sum([compute_priority(el) for el in common])\n",
    "\n",
    "prios"
   ]
  },
  {
   "cell_type": "markdown",
   "metadata": {},
   "source": [
    "# Q2"
   ]
  },
  {
   "cell_type": "code",
   "execution_count": 50,
   "metadata": {},
   "outputs": [
    {
     "data": {
      "text/plain": [
       "2567"
      ]
     },
     "execution_count": 50,
     "metadata": {},
     "output_type": "execute_result"
    }
   ],
   "source": [
    "def compute_priority(letter: str):\n",
    "    ord_diff = 96\n",
    "\n",
    "    if letter.isupper():\n",
    "        ord_diff = 38\n",
    "    \n",
    "    return ord(letter) - ord_diff\n",
    "\n",
    "\n",
    "lines = []\n",
    "with open(\"Day 3.txt\") as f:\n",
    "    lines = f.readlines()\n",
    "\n",
    "\n",
    "badge_score = 0\n",
    "for i in range(0, len(lines), 3):\n",
    "    a, b, c = (set(x.strip()) for x in lines[i:i+3])\n",
    "\n",
    "    badge = a.intersection(b).intersection(c).pop()\n",
    "    badge_score += compute_priority(badge)\n",
    "\n",
    "badge_score"
   ]
  }
 ],
 "metadata": {
  "kernelspec": {
   "display_name": "Python 3.10.8 64-bit",
   "language": "python",
   "name": "python3"
  },
  "language_info": {
   "codemirror_mode": {
    "name": "ipython",
    "version": 3
   },
   "file_extension": ".py",
   "mimetype": "text/x-python",
   "name": "python",
   "nbconvert_exporter": "python",
   "pygments_lexer": "ipython3",
   "version": "3.10.8"
  },
  "orig_nbformat": 4,
  "vscode": {
   "interpreter": {
    "hash": "b0fa6594d8f4cbf19f97940f81e996739fb7646882a419484c72d19e05852a7e"
   }
  }
 },
 "nbformat": 4,
 "nbformat_minor": 2
}
